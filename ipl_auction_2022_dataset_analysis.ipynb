{
  "metadata": {
    "kernelspec": {
      "language": "python",
      "display_name": "Python 3",
      "name": "python3"
    },
    "language_info": {
      "name": "python",
      "version": "3.7.12",
      "mimetype": "text/x-python",
      "codemirror_mode": {
        "name": "ipython",
        "version": 3
      },
      "pygments_lexer": "ipython3",
      "nbconvert_exporter": "python",
      "file_extension": ".py"
    },
    "colab": {
      "provenance": []
    }
  },
  "nbformat_minor": 0,
  "nbformat": 4,
  "cells": [
    {
      "cell_type": "markdown",
      "source": [
        "***IPL Auction 2022 Analysis***"
      ],
      "metadata": {
        "id": "H9e767ACgYJJ"
      }
    },
    {
      "cell_type": "markdown",
      "source": [
        "# Importing Libraries"
      ],
      "metadata": {
        "id": "MVABJN7kgYJM"
      }
    },
    {
      "cell_type": "code",
      "source": [
        "import pandas as pd\n",
        "import numpy as np\n",
        "import seaborn as sns\n",
        "import matplotlib.pyplot as plt\n",
        "\n",
        "%matplotlib inline\n",
        "\n",
        "import warnings\n",
        "warnings.filterwarnings('ignore')"
      ],
      "metadata": {
        "execution": {
          "iopub.status.busy": "2023-09-08T13:16:10.516341Z",
          "iopub.execute_input": "2023-09-08T13:16:10.517025Z",
          "iopub.status.idle": "2023-09-08T13:16:10.526665Z",
          "shell.execute_reply.started": "2023-09-08T13:16:10.516972Z",
          "shell.execute_reply": "2023-09-08T13:16:10.525804Z"
        },
        "trusted": true,
        "id": "vDFiUX3-gYJN"
      },
      "execution_count": 1,
      "outputs": []
    },
    {
      "cell_type": "code",
      "source": [
        "# Read dataset\n",
        "\n",
        "df = pd.read_csv('ipl_2022_dataset.csv',index_col= 0)\n",
        "df"
      ],
      "metadata": {
        "execution": {
          "iopub.status.busy": "2023-09-08T13:16:10.528949Z",
          "iopub.execute_input": "2023-09-08T13:16:10.529422Z",
          "iopub.status.idle": "2023-09-08T13:16:10.565013Z",
          "shell.execute_reply.started": "2023-09-08T13:16:10.529356Z",
          "shell.execute_reply": "2023-09-08T13:16:10.563727Z"
        },
        "trusted": true,
        "colab": {
          "base_uri": "https://localhost:8080/",
          "height": 424
        },
        "id": "Rp0B9BRCgYJO",
        "outputId": "440bb14e-3e70-41d3-e4dc-3ea76e46e4b6"
      },
      "execution_count": 2,
      "outputs": [
        {
          "output_type": "execute_result",
          "data": {
            "text/plain": [
              "                     Player  Base Price         TYPE  COST IN ₹ (CR.)  \\\n",
              "0               Rashid Khan  Draft Pick       BOWLER             15.0   \n",
              "1             Hardik Pandya  Draft Pick  ALL-ROUNDER             15.0   \n",
              "2           Lockie Ferguson        2 Cr       BOWLER             10.0   \n",
              "3             Rahul Tewatia     40 Lakh  ALL-ROUNDER              9.0   \n",
              "4              Shubman Gill  Draft Pick       BATTER              8.0   \n",
              "..                      ...         ...          ...              ...   \n",
              "628            Sairaj Patil     20 Lakh       BATTER              NaN   \n",
              "629              Monu Singh     20 Lakh       BOWLER              NaN   \n",
              "630  Nivethan Radhakrishnan     20 Lakh       BOWLER              NaN   \n",
              "631            Lance Morris     20 Lakh       BOWLER              NaN   \n",
              "632            Aaron Hardie     20 Lakh  ALL-ROUNDER              NaN   \n",
              "\n",
              "     Cost IN $ (000) 2021 Squad            Team  \n",
              "0             1950.0        SRH  Gujarat Titans  \n",
              "1             1950.0         MI  Gujarat Titans  \n",
              "2             1300.0        KKR  Gujarat Titans  \n",
              "3             1170.0         RR  Gujarat Titans  \n",
              "4             1040.0        KKR  Gujarat Titans  \n",
              "..               ...        ...             ...  \n",
              "628              NaN        NaN          Unsold  \n",
              "629              NaN        NaN          Unsold  \n",
              "630              NaN        NaN          Unsold  \n",
              "631              NaN        NaN          Unsold  \n",
              "632              NaN        NaN          Unsold  \n",
              "\n",
              "[633 rows x 7 columns]"
            ],
            "text/html": [
              "\n",
              "  <div id=\"df-311f3e98-3d06-4a4c-81e8-618d3b74aa6d\" class=\"colab-df-container\">\n",
              "    <div>\n",
              "<style scoped>\n",
              "    .dataframe tbody tr th:only-of-type {\n",
              "        vertical-align: middle;\n",
              "    }\n",
              "\n",
              "    .dataframe tbody tr th {\n",
              "        vertical-align: top;\n",
              "    }\n",
              "\n",
              "    .dataframe thead th {\n",
              "        text-align: right;\n",
              "    }\n",
              "</style>\n",
              "<table border=\"1\" class=\"dataframe\">\n",
              "  <thead>\n",
              "    <tr style=\"text-align: right;\">\n",
              "      <th></th>\n",
              "      <th>Player</th>\n",
              "      <th>Base Price</th>\n",
              "      <th>TYPE</th>\n",
              "      <th>COST IN ₹ (CR.)</th>\n",
              "      <th>Cost IN $ (000)</th>\n",
              "      <th>2021 Squad</th>\n",
              "      <th>Team</th>\n",
              "    </tr>\n",
              "  </thead>\n",
              "  <tbody>\n",
              "    <tr>\n",
              "      <th>0</th>\n",
              "      <td>Rashid Khan</td>\n",
              "      <td>Draft Pick</td>\n",
              "      <td>BOWLER</td>\n",
              "      <td>15.0</td>\n",
              "      <td>1950.0</td>\n",
              "      <td>SRH</td>\n",
              "      <td>Gujarat Titans</td>\n",
              "    </tr>\n",
              "    <tr>\n",
              "      <th>1</th>\n",
              "      <td>Hardik Pandya</td>\n",
              "      <td>Draft Pick</td>\n",
              "      <td>ALL-ROUNDER</td>\n",
              "      <td>15.0</td>\n",
              "      <td>1950.0</td>\n",
              "      <td>MI</td>\n",
              "      <td>Gujarat Titans</td>\n",
              "    </tr>\n",
              "    <tr>\n",
              "      <th>2</th>\n",
              "      <td>Lockie Ferguson</td>\n",
              "      <td>2 Cr</td>\n",
              "      <td>BOWLER</td>\n",
              "      <td>10.0</td>\n",
              "      <td>1300.0</td>\n",
              "      <td>KKR</td>\n",
              "      <td>Gujarat Titans</td>\n",
              "    </tr>\n",
              "    <tr>\n",
              "      <th>3</th>\n",
              "      <td>Rahul Tewatia</td>\n",
              "      <td>40 Lakh</td>\n",
              "      <td>ALL-ROUNDER</td>\n",
              "      <td>9.0</td>\n",
              "      <td>1170.0</td>\n",
              "      <td>RR</td>\n",
              "      <td>Gujarat Titans</td>\n",
              "    </tr>\n",
              "    <tr>\n",
              "      <th>4</th>\n",
              "      <td>Shubman Gill</td>\n",
              "      <td>Draft Pick</td>\n",
              "      <td>BATTER</td>\n",
              "      <td>8.0</td>\n",
              "      <td>1040.0</td>\n",
              "      <td>KKR</td>\n",
              "      <td>Gujarat Titans</td>\n",
              "    </tr>\n",
              "    <tr>\n",
              "      <th>...</th>\n",
              "      <td>...</td>\n",
              "      <td>...</td>\n",
              "      <td>...</td>\n",
              "      <td>...</td>\n",
              "      <td>...</td>\n",
              "      <td>...</td>\n",
              "      <td>...</td>\n",
              "    </tr>\n",
              "    <tr>\n",
              "      <th>628</th>\n",
              "      <td>Sairaj Patil</td>\n",
              "      <td>20 Lakh</td>\n",
              "      <td>BATTER</td>\n",
              "      <td>NaN</td>\n",
              "      <td>NaN</td>\n",
              "      <td>NaN</td>\n",
              "      <td>Unsold</td>\n",
              "    </tr>\n",
              "    <tr>\n",
              "      <th>629</th>\n",
              "      <td>Monu Singh</td>\n",
              "      <td>20 Lakh</td>\n",
              "      <td>BOWLER</td>\n",
              "      <td>NaN</td>\n",
              "      <td>NaN</td>\n",
              "      <td>NaN</td>\n",
              "      <td>Unsold</td>\n",
              "    </tr>\n",
              "    <tr>\n",
              "      <th>630</th>\n",
              "      <td>Nivethan Radhakrishnan</td>\n",
              "      <td>20 Lakh</td>\n",
              "      <td>BOWLER</td>\n",
              "      <td>NaN</td>\n",
              "      <td>NaN</td>\n",
              "      <td>NaN</td>\n",
              "      <td>Unsold</td>\n",
              "    </tr>\n",
              "    <tr>\n",
              "      <th>631</th>\n",
              "      <td>Lance Morris</td>\n",
              "      <td>20 Lakh</td>\n",
              "      <td>BOWLER</td>\n",
              "      <td>NaN</td>\n",
              "      <td>NaN</td>\n",
              "      <td>NaN</td>\n",
              "      <td>Unsold</td>\n",
              "    </tr>\n",
              "    <tr>\n",
              "      <th>632</th>\n",
              "      <td>Aaron Hardie</td>\n",
              "      <td>20 Lakh</td>\n",
              "      <td>ALL-ROUNDER</td>\n",
              "      <td>NaN</td>\n",
              "      <td>NaN</td>\n",
              "      <td>NaN</td>\n",
              "      <td>Unsold</td>\n",
              "    </tr>\n",
              "  </tbody>\n",
              "</table>\n",
              "<p>633 rows × 7 columns</p>\n",
              "</div>\n",
              "    <div class=\"colab-df-buttons\">\n",
              "\n",
              "  <div class=\"colab-df-container\">\n",
              "    <button class=\"colab-df-convert\" onclick=\"convertToInteractive('df-311f3e98-3d06-4a4c-81e8-618d3b74aa6d')\"\n",
              "            title=\"Convert this dataframe to an interactive table.\"\n",
              "            style=\"display:none;\">\n",
              "\n",
              "  <svg xmlns=\"http://www.w3.org/2000/svg\" height=\"24px\" viewBox=\"0 -960 960 960\">\n",
              "    <path d=\"M120-120v-720h720v720H120Zm60-500h600v-160H180v160Zm220 220h160v-160H400v160Zm0 220h160v-160H400v160ZM180-400h160v-160H180v160Zm440 0h160v-160H620v160ZM180-180h160v-160H180v160Zm440 0h160v-160H620v160Z\"/>\n",
              "  </svg>\n",
              "    </button>\n",
              "\n",
              "  <style>\n",
              "    .colab-df-container {\n",
              "      display:flex;\n",
              "      gap: 12px;\n",
              "    }\n",
              "\n",
              "    .colab-df-convert {\n",
              "      background-color: #E8F0FE;\n",
              "      border: none;\n",
              "      border-radius: 50%;\n",
              "      cursor: pointer;\n",
              "      display: none;\n",
              "      fill: #1967D2;\n",
              "      height: 32px;\n",
              "      padding: 0 0 0 0;\n",
              "      width: 32px;\n",
              "    }\n",
              "\n",
              "    .colab-df-convert:hover {\n",
              "      background-color: #E2EBFA;\n",
              "      box-shadow: 0px 1px 2px rgba(60, 64, 67, 0.3), 0px 1px 3px 1px rgba(60, 64, 67, 0.15);\n",
              "      fill: #174EA6;\n",
              "    }\n",
              "\n",
              "    .colab-df-buttons div {\n",
              "      margin-bottom: 4px;\n",
              "    }\n",
              "\n",
              "    [theme=dark] .colab-df-convert {\n",
              "      background-color: #3B4455;\n",
              "      fill: #D2E3FC;\n",
              "    }\n",
              "\n",
              "    [theme=dark] .colab-df-convert:hover {\n",
              "      background-color: #434B5C;\n",
              "      box-shadow: 0px 1px 3px 1px rgba(0, 0, 0, 0.15);\n",
              "      filter: drop-shadow(0px 1px 2px rgba(0, 0, 0, 0.3));\n",
              "      fill: #FFFFFF;\n",
              "    }\n",
              "  </style>\n",
              "\n",
              "    <script>\n",
              "      const buttonEl =\n",
              "        document.querySelector('#df-311f3e98-3d06-4a4c-81e8-618d3b74aa6d button.colab-df-convert');\n",
              "      buttonEl.style.display =\n",
              "        google.colab.kernel.accessAllowed ? 'block' : 'none';\n",
              "\n",
              "      async function convertToInteractive(key) {\n",
              "        const element = document.querySelector('#df-311f3e98-3d06-4a4c-81e8-618d3b74aa6d');\n",
              "        const dataTable =\n",
              "          await google.colab.kernel.invokeFunction('convertToInteractive',\n",
              "                                                    [key], {});\n",
              "        if (!dataTable) return;\n",
              "\n",
              "        const docLinkHtml = 'Like what you see? Visit the ' +\n",
              "          '<a target=\"_blank\" href=https://colab.research.google.com/notebooks/data_table.ipynb>data table notebook</a>'\n",
              "          + ' to learn more about interactive tables.';\n",
              "        element.innerHTML = '';\n",
              "        dataTable['output_type'] = 'display_data';\n",
              "        await google.colab.output.renderOutput(dataTable, element);\n",
              "        const docLink = document.createElement('div');\n",
              "        docLink.innerHTML = docLinkHtml;\n",
              "        element.appendChild(docLink);\n",
              "      }\n",
              "    </script>\n",
              "  </div>\n",
              "\n",
              "\n",
              "<div id=\"df-a39a61da-8b9c-4548-86f8-1b8ba5a6dd62\">\n",
              "  <button class=\"colab-df-quickchart\" onclick=\"quickchart('df-a39a61da-8b9c-4548-86f8-1b8ba5a6dd62')\"\n",
              "            title=\"Suggest charts.\"\n",
              "            style=\"display:none;\">\n",
              "\n",
              "<svg xmlns=\"http://www.w3.org/2000/svg\" height=\"24px\"viewBox=\"0 0 24 24\"\n",
              "     width=\"24px\">\n",
              "    <g>\n",
              "        <path d=\"M19 3H5c-1.1 0-2 .9-2 2v14c0 1.1.9 2 2 2h14c1.1 0 2-.9 2-2V5c0-1.1-.9-2-2-2zM9 17H7v-7h2v7zm4 0h-2V7h2v10zm4 0h-2v-4h2v4z\"/>\n",
              "    </g>\n",
              "</svg>\n",
              "  </button>\n",
              "\n",
              "<style>\n",
              "  .colab-df-quickchart {\n",
              "      --bg-color: #E8F0FE;\n",
              "      --fill-color: #1967D2;\n",
              "      --hover-bg-color: #E2EBFA;\n",
              "      --hover-fill-color: #174EA6;\n",
              "      --disabled-fill-color: #AAA;\n",
              "      --disabled-bg-color: #DDD;\n",
              "  }\n",
              "\n",
              "  [theme=dark] .colab-df-quickchart {\n",
              "      --bg-color: #3B4455;\n",
              "      --fill-color: #D2E3FC;\n",
              "      --hover-bg-color: #434B5C;\n",
              "      --hover-fill-color: #FFFFFF;\n",
              "      --disabled-bg-color: #3B4455;\n",
              "      --disabled-fill-color: #666;\n",
              "  }\n",
              "\n",
              "  .colab-df-quickchart {\n",
              "    background-color: var(--bg-color);\n",
              "    border: none;\n",
              "    border-radius: 50%;\n",
              "    cursor: pointer;\n",
              "    display: none;\n",
              "    fill: var(--fill-color);\n",
              "    height: 32px;\n",
              "    padding: 0;\n",
              "    width: 32px;\n",
              "  }\n",
              "\n",
              "  .colab-df-quickchart:hover {\n",
              "    background-color: var(--hover-bg-color);\n",
              "    box-shadow: 0 1px 2px rgba(60, 64, 67, 0.3), 0 1px 3px 1px rgba(60, 64, 67, 0.15);\n",
              "    fill: var(--button-hover-fill-color);\n",
              "  }\n",
              "\n",
              "  .colab-df-quickchart-complete:disabled,\n",
              "  .colab-df-quickchart-complete:disabled:hover {\n",
              "    background-color: var(--disabled-bg-color);\n",
              "    fill: var(--disabled-fill-color);\n",
              "    box-shadow: none;\n",
              "  }\n",
              "\n",
              "  .colab-df-spinner {\n",
              "    border: 2px solid var(--fill-color);\n",
              "    border-color: transparent;\n",
              "    border-bottom-color: var(--fill-color);\n",
              "    animation:\n",
              "      spin 1s steps(1) infinite;\n",
              "  }\n",
              "\n",
              "  @keyframes spin {\n",
              "    0% {\n",
              "      border-color: transparent;\n",
              "      border-bottom-color: var(--fill-color);\n",
              "      border-left-color: var(--fill-color);\n",
              "    }\n",
              "    20% {\n",
              "      border-color: transparent;\n",
              "      border-left-color: var(--fill-color);\n",
              "      border-top-color: var(--fill-color);\n",
              "    }\n",
              "    30% {\n",
              "      border-color: transparent;\n",
              "      border-left-color: var(--fill-color);\n",
              "      border-top-color: var(--fill-color);\n",
              "      border-right-color: var(--fill-color);\n",
              "    }\n",
              "    40% {\n",
              "      border-color: transparent;\n",
              "      border-right-color: var(--fill-color);\n",
              "      border-top-color: var(--fill-color);\n",
              "    }\n",
              "    60% {\n",
              "      border-color: transparent;\n",
              "      border-right-color: var(--fill-color);\n",
              "    }\n",
              "    80% {\n",
              "      border-color: transparent;\n",
              "      border-right-color: var(--fill-color);\n",
              "      border-bottom-color: var(--fill-color);\n",
              "    }\n",
              "    90% {\n",
              "      border-color: transparent;\n",
              "      border-bottom-color: var(--fill-color);\n",
              "    }\n",
              "  }\n",
              "</style>\n",
              "\n",
              "  <script>\n",
              "    async function quickchart(key) {\n",
              "      const quickchartButtonEl =\n",
              "        document.querySelector('#' + key + ' button');\n",
              "      quickchartButtonEl.disabled = true;  // To prevent multiple clicks.\n",
              "      quickchartButtonEl.classList.add('colab-df-spinner');\n",
              "      try {\n",
              "        const charts = await google.colab.kernel.invokeFunction(\n",
              "            'suggestCharts', [key], {});\n",
              "      } catch (error) {\n",
              "        console.error('Error during call to suggestCharts:', error);\n",
              "      }\n",
              "      quickchartButtonEl.classList.remove('colab-df-spinner');\n",
              "      quickchartButtonEl.classList.add('colab-df-quickchart-complete');\n",
              "    }\n",
              "    (() => {\n",
              "      let quickchartButtonEl =\n",
              "        document.querySelector('#df-a39a61da-8b9c-4548-86f8-1b8ba5a6dd62 button');\n",
              "      quickchartButtonEl.style.display =\n",
              "        google.colab.kernel.accessAllowed ? 'block' : 'none';\n",
              "    })();\n",
              "  </script>\n",
              "</div>\n",
              "    </div>\n",
              "  </div>\n"
            ]
          },
          "metadata": {},
          "execution_count": 2
        }
      ]
    },
    {
      "cell_type": "code",
      "source": [
        "df.info() #Information of Dataset"
      ],
      "metadata": {
        "execution": {
          "iopub.status.busy": "2023-09-08T13:16:10.579269Z",
          "iopub.execute_input": "2023-09-08T13:16:10.579664Z",
          "iopub.status.idle": "2023-09-08T13:16:10.605109Z",
          "shell.execute_reply.started": "2023-09-08T13:16:10.579630Z",
          "shell.execute_reply": "2023-09-08T13:16:10.603844Z"
        },
        "trusted": true,
        "colab": {
          "base_uri": "https://localhost:8080/"
        },
        "id": "L-Gz8zZ6gYJP",
        "outputId": "60545daf-5abe-4d43-df71-40112997c108"
      },
      "execution_count": 3,
      "outputs": [
        {
          "output_type": "stream",
          "name": "stdout",
          "text": [
            "<class 'pandas.core.frame.DataFrame'>\n",
            "Int64Index: 633 entries, 0 to 632\n",
            "Data columns (total 7 columns):\n",
            " #   Column           Non-Null Count  Dtype  \n",
            "---  ------           --------------  -----  \n",
            " 0   Player           633 non-null    object \n",
            " 1   Base Price       633 non-null    object \n",
            " 2   TYPE             633 non-null    object \n",
            " 3   COST IN ₹ (CR.)  237 non-null    float64\n",
            " 4   Cost IN $ (000)  237 non-null    float64\n",
            " 5   2021 Squad       199 non-null    object \n",
            " 6   Team             633 non-null    object \n",
            "dtypes: float64(2), object(5)\n",
            "memory usage: 39.6+ KB\n"
          ]
        }
      ]
    },
    {
      "cell_type": "markdown",
      "source": [
        "# Checking Null Values -> replacing unsold and those who didn't participated in 2021 with '0' and 'Not Participated in Ipl 2021'"
      ],
      "metadata": {
        "id": "ctzpj-1zgYJP"
      }
    },
    {
      "cell_type": "code",
      "source": [
        "df.isnull().sum() #calculating number of null values in each column"
      ],
      "metadata": {
        "execution": {
          "iopub.status.busy": "2023-09-08T13:16:10.609341Z",
          "iopub.execute_input": "2023-09-08T13:16:10.609771Z",
          "iopub.status.idle": "2023-09-08T13:16:10.621391Z",
          "shell.execute_reply.started": "2023-09-08T13:16:10.609734Z",
          "shell.execute_reply": "2023-09-08T13:16:10.620088Z"
        },
        "trusted": true,
        "colab": {
          "base_uri": "https://localhost:8080/"
        },
        "id": "OBcJXqY0gYJQ",
        "outputId": "0d8dac42-1472-4fb9-cc6b-6dd93cd2cd6b"
      },
      "execution_count": 4,
      "outputs": [
        {
          "output_type": "execute_result",
          "data": {
            "text/plain": [
              "Player               0\n",
              "Base Price           0\n",
              "TYPE                 0\n",
              "COST IN ₹ (CR.)    396\n",
              "Cost IN $ (000)    396\n",
              "2021 Squad         434\n",
              "Team                 0\n",
              "dtype: int64"
            ]
          },
          "metadata": {},
          "execution_count": 4
        }
      ]
    },
    {
      "cell_type": "code",
      "source": [
        "# Replacing null values with 0 in cost in rs and cost in dollar\n",
        "df['COST IN ₹ (CR.)'] = df['COST IN ₹ (CR.)'].fillna(0)\n",
        "df['Cost IN $ (000)'] = df['Cost IN $ (000)'].fillna(0)"
      ],
      "metadata": {
        "execution": {
          "iopub.status.busy": "2023-09-08T13:16:10.623485Z",
          "iopub.execute_input": "2023-09-08T13:16:10.623862Z",
          "iopub.status.idle": "2023-09-08T13:16:10.634044Z",
          "shell.execute_reply.started": "2023-09-08T13:16:10.623828Z",
          "shell.execute_reply": "2023-09-08T13:16:10.632810Z"
        },
        "trusted": true,
        "id": "wP3pcAL8gYJQ"
      },
      "execution_count": 5,
      "outputs": []
    },
    {
      "cell_type": "code",
      "source": [
        "# These are the Players who either went Unsold in 2021 IPL or participating for the first time in IPL so replacing the same with not Participated in IPL 2021\n",
        "df['2021 Squad'] = df['2021 Squad'].fillna('Not Participated in IPL 2021')"
      ],
      "metadata": {
        "execution": {
          "iopub.status.busy": "2023-09-08T13:16:10.635461Z",
          "iopub.execute_input": "2023-09-08T13:16:10.635837Z",
          "iopub.status.idle": "2023-09-08T13:16:10.645271Z",
          "shell.execute_reply.started": "2023-09-08T13:16:10.635778Z",
          "shell.execute_reply": "2023-09-08T13:16:10.644300Z"
        },
        "trusted": true,
        "id": "4U7IHdD5gYJQ"
      },
      "execution_count": 6,
      "outputs": []
    },
    {
      "cell_type": "code",
      "source": [
        "#Again checking wether null vlue exist or not\n",
        "df.isnull().sum()"
      ],
      "metadata": {
        "execution": {
          "iopub.status.busy": "2023-09-08T13:16:10.646978Z",
          "iopub.execute_input": "2023-09-08T13:16:10.648257Z",
          "iopub.status.idle": "2023-09-08T13:16:10.661609Z",
          "shell.execute_reply.started": "2023-09-08T13:16:10.648220Z",
          "shell.execute_reply": "2023-09-08T13:16:10.660311Z"
        },
        "trusted": true,
        "colab": {
          "base_uri": "https://localhost:8080/"
        },
        "id": "lt2j7y6PgYJR",
        "outputId": "f6bf9d2e-2586-434a-9738-fc1edfafd5ab"
      },
      "execution_count": 7,
      "outputs": [
        {
          "output_type": "execute_result",
          "data": {
            "text/plain": [
              "Player             0\n",
              "Base Price         0\n",
              "TYPE               0\n",
              "COST IN ₹ (CR.)    0\n",
              "Cost IN $ (000)    0\n",
              "2021 Squad         0\n",
              "Team               0\n",
              "dtype: int64"
            ]
          },
          "metadata": {},
          "execution_count": 7
        }
      ]
    },
    {
      "cell_type": "code",
      "source": [
        "#slicing a dataframe(Team name) where cost in rs is greater than 0\n",
        "teams = df[df['COST IN ₹ (CR.)']>0]['Team'].unique()\n",
        "teams"
      ],
      "metadata": {
        "execution": {
          "iopub.status.busy": "2023-09-08T13:16:10.663161Z",
          "iopub.execute_input": "2023-09-08T13:16:10.663621Z",
          "iopub.status.idle": "2023-09-08T13:16:10.678661Z",
          "shell.execute_reply.started": "2023-09-08T13:16:10.663585Z",
          "shell.execute_reply": "2023-09-08T13:16:10.677564Z"
        },
        "trusted": true,
        "colab": {
          "base_uri": "https://localhost:8080/"
        },
        "id": "OIhOlZFogYJR",
        "outputId": "5f059515-c67a-4d16-e7bc-65aec15da0cb"
      },
      "execution_count": 8,
      "outputs": [
        {
          "output_type": "execute_result",
          "data": {
            "text/plain": [
              "array(['Gujarat Titans', 'Chennai Super Kings', 'Delhi Capitals',\n",
              "       'Kolkata Knight Riders', 'Punjab Kings', 'Lucknow Super Giants',\n",
              "       'Mumbai Indians', 'Royal Challengers Bangalore',\n",
              "       'Rajasthan Royals', 'Sunrisers Hyderabad'], dtype=object)"
            ]
          },
          "metadata": {},
          "execution_count": 8
        }
      ]
    },
    {
      "cell_type": "code",
      "source": [
        "#Creating another column which will show the status of player sold or unsold\n",
        "df['status'] = df['Team'].replace(teams,'sold')\n",
        "df['status']\n",
        "df"
      ],
      "metadata": {
        "execution": {
          "iopub.status.busy": "2023-09-08T13:16:10.680100Z",
          "iopub.execute_input": "2023-09-08T13:16:10.680503Z",
          "iopub.status.idle": "2023-09-08T13:16:10.694344Z",
          "shell.execute_reply.started": "2023-09-08T13:16:10.680469Z",
          "shell.execute_reply": "2023-09-08T13:16:10.692897Z"
        },
        "trusted": true,
        "colab": {
          "base_uri": "https://localhost:8080/",
          "height": 424
        },
        "id": "2SoewJdHgYJR",
        "outputId": "4befbff0-4d58-49f8-9be0-e2dce89f2b23"
      },
      "execution_count": 10,
      "outputs": [
        {
          "output_type": "execute_result",
          "data": {
            "text/plain": [
              "                     Player  Base Price         TYPE  COST IN ₹ (CR.)  \\\n",
              "0               Rashid Khan  Draft Pick       BOWLER             15.0   \n",
              "1             Hardik Pandya  Draft Pick  ALL-ROUNDER             15.0   \n",
              "2           Lockie Ferguson        2 Cr       BOWLER             10.0   \n",
              "3             Rahul Tewatia     40 Lakh  ALL-ROUNDER              9.0   \n",
              "4              Shubman Gill  Draft Pick       BATTER              8.0   \n",
              "..                      ...         ...          ...              ...   \n",
              "628            Sairaj Patil     20 Lakh       BATTER              0.0   \n",
              "629              Monu Singh     20 Lakh       BOWLER              0.0   \n",
              "630  Nivethan Radhakrishnan     20 Lakh       BOWLER              0.0   \n",
              "631            Lance Morris     20 Lakh       BOWLER              0.0   \n",
              "632            Aaron Hardie     20 Lakh  ALL-ROUNDER              0.0   \n",
              "\n",
              "     Cost IN $ (000)                    2021 Squad            Team  status  \n",
              "0             1950.0                           SRH  Gujarat Titans    sold  \n",
              "1             1950.0                            MI  Gujarat Titans    sold  \n",
              "2             1300.0                           KKR  Gujarat Titans    sold  \n",
              "3             1170.0                            RR  Gujarat Titans    sold  \n",
              "4             1040.0                           KKR  Gujarat Titans    sold  \n",
              "..               ...                           ...             ...     ...  \n",
              "628              0.0  Not Participated in IPL 2021          Unsold  Unsold  \n",
              "629              0.0  Not Participated in IPL 2021          Unsold  Unsold  \n",
              "630              0.0  Not Participated in IPL 2021          Unsold  Unsold  \n",
              "631              0.0  Not Participated in IPL 2021          Unsold  Unsold  \n",
              "632              0.0  Not Participated in IPL 2021          Unsold  Unsold  \n",
              "\n",
              "[633 rows x 8 columns]"
            ],
            "text/html": [
              "\n",
              "  <div id=\"df-ff71d762-edea-4dcf-ab53-3308935a3664\" class=\"colab-df-container\">\n",
              "    <div>\n",
              "<style scoped>\n",
              "    .dataframe tbody tr th:only-of-type {\n",
              "        vertical-align: middle;\n",
              "    }\n",
              "\n",
              "    .dataframe tbody tr th {\n",
              "        vertical-align: top;\n",
              "    }\n",
              "\n",
              "    .dataframe thead th {\n",
              "        text-align: right;\n",
              "    }\n",
              "</style>\n",
              "<table border=\"1\" class=\"dataframe\">\n",
              "  <thead>\n",
              "    <tr style=\"text-align: right;\">\n",
              "      <th></th>\n",
              "      <th>Player</th>\n",
              "      <th>Base Price</th>\n",
              "      <th>TYPE</th>\n",
              "      <th>COST IN ₹ (CR.)</th>\n",
              "      <th>Cost IN $ (000)</th>\n",
              "      <th>2021 Squad</th>\n",
              "      <th>Team</th>\n",
              "      <th>status</th>\n",
              "    </tr>\n",
              "  </thead>\n",
              "  <tbody>\n",
              "    <tr>\n",
              "      <th>0</th>\n",
              "      <td>Rashid Khan</td>\n",
              "      <td>Draft Pick</td>\n",
              "      <td>BOWLER</td>\n",
              "      <td>15.0</td>\n",
              "      <td>1950.0</td>\n",
              "      <td>SRH</td>\n",
              "      <td>Gujarat Titans</td>\n",
              "      <td>sold</td>\n",
              "    </tr>\n",
              "    <tr>\n",
              "      <th>1</th>\n",
              "      <td>Hardik Pandya</td>\n",
              "      <td>Draft Pick</td>\n",
              "      <td>ALL-ROUNDER</td>\n",
              "      <td>15.0</td>\n",
              "      <td>1950.0</td>\n",
              "      <td>MI</td>\n",
              "      <td>Gujarat Titans</td>\n",
              "      <td>sold</td>\n",
              "    </tr>\n",
              "    <tr>\n",
              "      <th>2</th>\n",
              "      <td>Lockie Ferguson</td>\n",
              "      <td>2 Cr</td>\n",
              "      <td>BOWLER</td>\n",
              "      <td>10.0</td>\n",
              "      <td>1300.0</td>\n",
              "      <td>KKR</td>\n",
              "      <td>Gujarat Titans</td>\n",
              "      <td>sold</td>\n",
              "    </tr>\n",
              "    <tr>\n",
              "      <th>3</th>\n",
              "      <td>Rahul Tewatia</td>\n",
              "      <td>40 Lakh</td>\n",
              "      <td>ALL-ROUNDER</td>\n",
              "      <td>9.0</td>\n",
              "      <td>1170.0</td>\n",
              "      <td>RR</td>\n",
              "      <td>Gujarat Titans</td>\n",
              "      <td>sold</td>\n",
              "    </tr>\n",
              "    <tr>\n",
              "      <th>4</th>\n",
              "      <td>Shubman Gill</td>\n",
              "      <td>Draft Pick</td>\n",
              "      <td>BATTER</td>\n",
              "      <td>8.0</td>\n",
              "      <td>1040.0</td>\n",
              "      <td>KKR</td>\n",
              "      <td>Gujarat Titans</td>\n",
              "      <td>sold</td>\n",
              "    </tr>\n",
              "    <tr>\n",
              "      <th>...</th>\n",
              "      <td>...</td>\n",
              "      <td>...</td>\n",
              "      <td>...</td>\n",
              "      <td>...</td>\n",
              "      <td>...</td>\n",
              "      <td>...</td>\n",
              "      <td>...</td>\n",
              "      <td>...</td>\n",
              "    </tr>\n",
              "    <tr>\n",
              "      <th>628</th>\n",
              "      <td>Sairaj Patil</td>\n",
              "      <td>20 Lakh</td>\n",
              "      <td>BATTER</td>\n",
              "      <td>0.0</td>\n",
              "      <td>0.0</td>\n",
              "      <td>Not Participated in IPL 2021</td>\n",
              "      <td>Unsold</td>\n",
              "      <td>Unsold</td>\n",
              "    </tr>\n",
              "    <tr>\n",
              "      <th>629</th>\n",
              "      <td>Monu Singh</td>\n",
              "      <td>20 Lakh</td>\n",
              "      <td>BOWLER</td>\n",
              "      <td>0.0</td>\n",
              "      <td>0.0</td>\n",
              "      <td>Not Participated in IPL 2021</td>\n",
              "      <td>Unsold</td>\n",
              "      <td>Unsold</td>\n",
              "    </tr>\n",
              "    <tr>\n",
              "      <th>630</th>\n",
              "      <td>Nivethan Radhakrishnan</td>\n",
              "      <td>20 Lakh</td>\n",
              "      <td>BOWLER</td>\n",
              "      <td>0.0</td>\n",
              "      <td>0.0</td>\n",
              "      <td>Not Participated in IPL 2021</td>\n",
              "      <td>Unsold</td>\n",
              "      <td>Unsold</td>\n",
              "    </tr>\n",
              "    <tr>\n",
              "      <th>631</th>\n",
              "      <td>Lance Morris</td>\n",
              "      <td>20 Lakh</td>\n",
              "      <td>BOWLER</td>\n",
              "      <td>0.0</td>\n",
              "      <td>0.0</td>\n",
              "      <td>Not Participated in IPL 2021</td>\n",
              "      <td>Unsold</td>\n",
              "      <td>Unsold</td>\n",
              "    </tr>\n",
              "    <tr>\n",
              "      <th>632</th>\n",
              "      <td>Aaron Hardie</td>\n",
              "      <td>20 Lakh</td>\n",
              "      <td>ALL-ROUNDER</td>\n",
              "      <td>0.0</td>\n",
              "      <td>0.0</td>\n",
              "      <td>Not Participated in IPL 2021</td>\n",
              "      <td>Unsold</td>\n",
              "      <td>Unsold</td>\n",
              "    </tr>\n",
              "  </tbody>\n",
              "</table>\n",
              "<p>633 rows × 8 columns</p>\n",
              "</div>\n",
              "    <div class=\"colab-df-buttons\">\n",
              "\n",
              "  <div class=\"colab-df-container\">\n",
              "    <button class=\"colab-df-convert\" onclick=\"convertToInteractive('df-ff71d762-edea-4dcf-ab53-3308935a3664')\"\n",
              "            title=\"Convert this dataframe to an interactive table.\"\n",
              "            style=\"display:none;\">\n",
              "\n",
              "  <svg xmlns=\"http://www.w3.org/2000/svg\" height=\"24px\" viewBox=\"0 -960 960 960\">\n",
              "    <path d=\"M120-120v-720h720v720H120Zm60-500h600v-160H180v160Zm220 220h160v-160H400v160Zm0 220h160v-160H400v160ZM180-400h160v-160H180v160Zm440 0h160v-160H620v160ZM180-180h160v-160H180v160Zm440 0h160v-160H620v160Z\"/>\n",
              "  </svg>\n",
              "    </button>\n",
              "\n",
              "  <style>\n",
              "    .colab-df-container {\n",
              "      display:flex;\n",
              "      gap: 12px;\n",
              "    }\n",
              "\n",
              "    .colab-df-convert {\n",
              "      background-color: #E8F0FE;\n",
              "      border: none;\n",
              "      border-radius: 50%;\n",
              "      cursor: pointer;\n",
              "      display: none;\n",
              "      fill: #1967D2;\n",
              "      height: 32px;\n",
              "      padding: 0 0 0 0;\n",
              "      width: 32px;\n",
              "    }\n",
              "\n",
              "    .colab-df-convert:hover {\n",
              "      background-color: #E2EBFA;\n",
              "      box-shadow: 0px 1px 2px rgba(60, 64, 67, 0.3), 0px 1px 3px 1px rgba(60, 64, 67, 0.15);\n",
              "      fill: #174EA6;\n",
              "    }\n",
              "\n",
              "    .colab-df-buttons div {\n",
              "      margin-bottom: 4px;\n",
              "    }\n",
              "\n",
              "    [theme=dark] .colab-df-convert {\n",
              "      background-color: #3B4455;\n",
              "      fill: #D2E3FC;\n",
              "    }\n",
              "\n",
              "    [theme=dark] .colab-df-convert:hover {\n",
              "      background-color: #434B5C;\n",
              "      box-shadow: 0px 1px 3px 1px rgba(0, 0, 0, 0.15);\n",
              "      filter: drop-shadow(0px 1px 2px rgba(0, 0, 0, 0.3));\n",
              "      fill: #FFFFFF;\n",
              "    }\n",
              "  </style>\n",
              "\n",
              "    <script>\n",
              "      const buttonEl =\n",
              "        document.querySelector('#df-ff71d762-edea-4dcf-ab53-3308935a3664 button.colab-df-convert');\n",
              "      buttonEl.style.display =\n",
              "        google.colab.kernel.accessAllowed ? 'block' : 'none';\n",
              "\n",
              "      async function convertToInteractive(key) {\n",
              "        const element = document.querySelector('#df-ff71d762-edea-4dcf-ab53-3308935a3664');\n",
              "        const dataTable =\n",
              "          await google.colab.kernel.invokeFunction('convertToInteractive',\n",
              "                                                    [key], {});\n",
              "        if (!dataTable) return;\n",
              "\n",
              "        const docLinkHtml = 'Like what you see? Visit the ' +\n",
              "          '<a target=\"_blank\" href=https://colab.research.google.com/notebooks/data_table.ipynb>data table notebook</a>'\n",
              "          + ' to learn more about interactive tables.';\n",
              "        element.innerHTML = '';\n",
              "        dataTable['output_type'] = 'display_data';\n",
              "        await google.colab.output.renderOutput(dataTable, element);\n",
              "        const docLink = document.createElement('div');\n",
              "        docLink.innerHTML = docLinkHtml;\n",
              "        element.appendChild(docLink);\n",
              "      }\n",
              "    </script>\n",
              "  </div>\n",
              "\n",
              "\n",
              "<div id=\"df-9351a13b-3de4-47d5-903b-8c471074ba49\">\n",
              "  <button class=\"colab-df-quickchart\" onclick=\"quickchart('df-9351a13b-3de4-47d5-903b-8c471074ba49')\"\n",
              "            title=\"Suggest charts.\"\n",
              "            style=\"display:none;\">\n",
              "\n",
              "<svg xmlns=\"http://www.w3.org/2000/svg\" height=\"24px\"viewBox=\"0 0 24 24\"\n",
              "     width=\"24px\">\n",
              "    <g>\n",
              "        <path d=\"M19 3H5c-1.1 0-2 .9-2 2v14c0 1.1.9 2 2 2h14c1.1 0 2-.9 2-2V5c0-1.1-.9-2-2-2zM9 17H7v-7h2v7zm4 0h-2V7h2v10zm4 0h-2v-4h2v4z\"/>\n",
              "    </g>\n",
              "</svg>\n",
              "  </button>\n",
              "\n",
              "<style>\n",
              "  .colab-df-quickchart {\n",
              "      --bg-color: #E8F0FE;\n",
              "      --fill-color: #1967D2;\n",
              "      --hover-bg-color: #E2EBFA;\n",
              "      --hover-fill-color: #174EA6;\n",
              "      --disabled-fill-color: #AAA;\n",
              "      --disabled-bg-color: #DDD;\n",
              "  }\n",
              "\n",
              "  [theme=dark] .colab-df-quickchart {\n",
              "      --bg-color: #3B4455;\n",
              "      --fill-color: #D2E3FC;\n",
              "      --hover-bg-color: #434B5C;\n",
              "      --hover-fill-color: #FFFFFF;\n",
              "      --disabled-bg-color: #3B4455;\n",
              "      --disabled-fill-color: #666;\n",
              "  }\n",
              "\n",
              "  .colab-df-quickchart {\n",
              "    background-color: var(--bg-color);\n",
              "    border: none;\n",
              "    border-radius: 50%;\n",
              "    cursor: pointer;\n",
              "    display: none;\n",
              "    fill: var(--fill-color);\n",
              "    height: 32px;\n",
              "    padding: 0;\n",
              "    width: 32px;\n",
              "  }\n",
              "\n",
              "  .colab-df-quickchart:hover {\n",
              "    background-color: var(--hover-bg-color);\n",
              "    box-shadow: 0 1px 2px rgba(60, 64, 67, 0.3), 0 1px 3px 1px rgba(60, 64, 67, 0.15);\n",
              "    fill: var(--button-hover-fill-color);\n",
              "  }\n",
              "\n",
              "  .colab-df-quickchart-complete:disabled,\n",
              "  .colab-df-quickchart-complete:disabled:hover {\n",
              "    background-color: var(--disabled-bg-color);\n",
              "    fill: var(--disabled-fill-color);\n",
              "    box-shadow: none;\n",
              "  }\n",
              "\n",
              "  .colab-df-spinner {\n",
              "    border: 2px solid var(--fill-color);\n",
              "    border-color: transparent;\n",
              "    border-bottom-color: var(--fill-color);\n",
              "    animation:\n",
              "      spin 1s steps(1) infinite;\n",
              "  }\n",
              "\n",
              "  @keyframes spin {\n",
              "    0% {\n",
              "      border-color: transparent;\n",
              "      border-bottom-color: var(--fill-color);\n",
              "      border-left-color: var(--fill-color);\n",
              "    }\n",
              "    20% {\n",
              "      border-color: transparent;\n",
              "      border-left-color: var(--fill-color);\n",
              "      border-top-color: var(--fill-color);\n",
              "    }\n",
              "    30% {\n",
              "      border-color: transparent;\n",
              "      border-left-color: var(--fill-color);\n",
              "      border-top-color: var(--fill-color);\n",
              "      border-right-color: var(--fill-color);\n",
              "    }\n",
              "    40% {\n",
              "      border-color: transparent;\n",
              "      border-right-color: var(--fill-color);\n",
              "      border-top-color: var(--fill-color);\n",
              "    }\n",
              "    60% {\n",
              "      border-color: transparent;\n",
              "      border-right-color: var(--fill-color);\n",
              "    }\n",
              "    80% {\n",
              "      border-color: transparent;\n",
              "      border-right-color: var(--fill-color);\n",
              "      border-bottom-color: var(--fill-color);\n",
              "    }\n",
              "    90% {\n",
              "      border-color: transparent;\n",
              "      border-bottom-color: var(--fill-color);\n",
              "    }\n",
              "  }\n",
              "</style>\n",
              "\n",
              "  <script>\n",
              "    async function quickchart(key) {\n",
              "      const quickchartButtonEl =\n",
              "        document.querySelector('#' + key + ' button');\n",
              "      quickchartButtonEl.disabled = true;  // To prevent multiple clicks.\n",
              "      quickchartButtonEl.classList.add('colab-df-spinner');\n",
              "      try {\n",
              "        const charts = await google.colab.kernel.invokeFunction(\n",
              "            'suggestCharts', [key], {});\n",
              "      } catch (error) {\n",
              "        console.error('Error during call to suggestCharts:', error);\n",
              "      }\n",
              "      quickchartButtonEl.classList.remove('colab-df-spinner');\n",
              "      quickchartButtonEl.classList.add('colab-df-quickchart-complete');\n",
              "    }\n",
              "    (() => {\n",
              "      let quickchartButtonEl =\n",
              "        document.querySelector('#df-9351a13b-3de4-47d5-903b-8c471074ba49 button');\n",
              "      quickchartButtonEl.style.display =\n",
              "        google.colab.kernel.accessAllowed ? 'block' : 'none';\n",
              "    })();\n",
              "  </script>\n",
              "</div>\n",
              "    </div>\n",
              "  </div>\n"
            ]
          },
          "metadata": {},
          "execution_count": 10
        }
      ]
    },
    {
      "cell_type": "code",
      "source": [
        "df['Base Price'].unique()"
      ],
      "metadata": {
        "execution": {
          "iopub.status.busy": "2023-09-08T13:16:10.696057Z",
          "iopub.execute_input": "2023-09-08T13:16:10.696674Z",
          "iopub.status.idle": "2023-09-08T13:16:10.704191Z",
          "shell.execute_reply.started": "2023-09-08T13:16:10.696629Z",
          "shell.execute_reply": "2023-09-08T13:16:10.702990Z"
        },
        "trusted": true,
        "colab": {
          "base_uri": "https://localhost:8080/"
        },
        "id": "bb4PnYlLgYJS",
        "outputId": "b8ee03c4-14d1-43e1-b253-c67b50589d3b"
      },
      "execution_count": 11,
      "outputs": [
        {
          "output_type": "execute_result",
          "data": {
            "text/plain": [
              "array(['Draft Pick', '2 Cr', '40 Lakh', '20 Lakh', '1 Cr', '75 Lakh',\n",
              "       '50 Lakh', '30 Lakh', 'Retained', '1.5 Cr'], dtype=object)"
            ]
          },
          "metadata": {},
          "execution_count": 11
        }
      ]
    },
    {
      "cell_type": "code",
      "source": [
        "# creating new column inorder to segregate draft pick and in auction pick\n",
        "df['retention'] = df['Base Price']"
      ],
      "metadata": {
        "execution": {
          "iopub.status.busy": "2023-09-08T13:16:10.710863Z",
          "iopub.execute_input": "2023-09-08T13:16:10.711240Z",
          "iopub.status.idle": "2023-09-08T13:16:10.716773Z",
          "shell.execute_reply.started": "2023-09-08T13:16:10.711198Z",
          "shell.execute_reply": "2023-09-08T13:16:10.715878Z"
        },
        "trusted": true,
        "id": "cFxpRUxDgYJS"
      },
      "execution_count": 13,
      "outputs": []
    },
    {
      "cell_type": "code",
      "source": [
        "#In new column we are replacing all different values with In Auction\n",
        "df['retention'].replace(['2 Cr', '40 Lakh', '20 Lakh', '1 Cr', '75 Lakh','50 Lakh', '30 Lakh','1.5 Cr'],'In Auction', inplace = True)\n",
        "df['retention']"
      ],
      "metadata": {
        "execution": {
          "iopub.status.busy": "2023-09-08T13:16:10.718142Z",
          "iopub.execute_input": "2023-09-08T13:16:10.718539Z",
          "iopub.status.idle": "2023-09-08T13:16:10.735452Z",
          "shell.execute_reply.started": "2023-09-08T13:16:10.718489Z",
          "shell.execute_reply": "2023-09-08T13:16:10.734032Z"
        },
        "trusted": true,
        "colab": {
          "base_uri": "https://localhost:8080/"
        },
        "id": "ZqdBkNFogYJS",
        "outputId": "36dfea10-a65e-4b17-8516-d148fb424120"
      },
      "execution_count": 14,
      "outputs": [
        {
          "output_type": "execute_result",
          "data": {
            "text/plain": [
              "0      Draft Pick\n",
              "1      Draft Pick\n",
              "2      In Auction\n",
              "3      In Auction\n",
              "4      Draft Pick\n",
              "          ...    \n",
              "628    In Auction\n",
              "629    In Auction\n",
              "630    In Auction\n",
              "631    In Auction\n",
              "632    In Auction\n",
              "Name: retention, Length: 633, dtype: object"
            ]
          },
          "metadata": {},
          "execution_count": 14
        }
      ]
    },
    {
      "cell_type": "code",
      "source": [
        "#In base price column we are replacing Draft pick with value 0\n",
        "df['Base Price'].replace('Draft Pick',0, inplace = True)\n",
        "df['Base Price']"
      ],
      "metadata": {
        "execution": {
          "iopub.status.busy": "2023-09-08T13:16:10.737123Z",
          "iopub.execute_input": "2023-09-08T13:16:10.737528Z",
          "iopub.status.idle": "2023-09-08T13:16:10.747949Z",
          "shell.execute_reply.started": "2023-09-08T13:16:10.737493Z",
          "shell.execute_reply": "2023-09-08T13:16:10.746734Z"
        },
        "trusted": true,
        "colab": {
          "base_uri": "https://localhost:8080/"
        },
        "id": "0umj2yQIgYJS",
        "outputId": "557f1441-1c2a-4bcf-f228-ebbc6fd837ff"
      },
      "execution_count": 15,
      "outputs": [
        {
          "output_type": "execute_result",
          "data": {
            "text/plain": [
              "0            0\n",
              "1            0\n",
              "2         2 Cr\n",
              "3      40 Lakh\n",
              "4            0\n",
              "        ...   \n",
              "628    20 Lakh\n",
              "629    20 Lakh\n",
              "630    20 Lakh\n",
              "631    20 Lakh\n",
              "632    20 Lakh\n",
              "Name: Base Price, Length: 633, dtype: object"
            ]
          },
          "metadata": {},
          "execution_count": 15
        }
      ]
    },
    {
      "cell_type": "code",
      "source": [
        "df['base_price_unit'] = df['Base Price'].apply(lambda x: str(x).split(' ')[-1])\n",
        "df['base_price'] = df['Base Price'].apply(lambda x: str(x).split(' ')[0])"
      ],
      "metadata": {
        "execution": {
          "iopub.status.busy": "2023-09-08T13:16:10.749800Z",
          "iopub.execute_input": "2023-09-08T13:16:10.750358Z",
          "iopub.status.idle": "2023-09-08T13:16:10.760525Z",
          "shell.execute_reply.started": "2023-09-08T13:16:10.750313Z",
          "shell.execute_reply": "2023-09-08T13:16:10.759649Z"
        },
        "trusted": true,
        "id": "nqix2c15gYJT"
      },
      "execution_count": 16,
      "outputs": []
    },
    {
      "cell_type": "code",
      "source": [
        "df['base_price_unit']"
      ],
      "metadata": {
        "execution": {
          "iopub.status.busy": "2023-09-08T13:16:10.761930Z",
          "iopub.execute_input": "2023-09-08T13:16:10.762247Z",
          "iopub.status.idle": "2023-09-08T13:16:10.777528Z",
          "shell.execute_reply.started": "2023-09-08T13:16:10.762218Z",
          "shell.execute_reply": "2023-09-08T13:16:10.776434Z"
        },
        "trusted": true,
        "colab": {
          "base_uri": "https://localhost:8080/"
        },
        "id": "EtOJuZPpgYJT",
        "outputId": "1b446718-bb11-4b35-92b4-fc8d74e80b48"
      },
      "execution_count": 17,
      "outputs": [
        {
          "output_type": "execute_result",
          "data": {
            "text/plain": [
              "0         0\n",
              "1         0\n",
              "2        Cr\n",
              "3      Lakh\n",
              "4         0\n",
              "       ... \n",
              "628    Lakh\n",
              "629    Lakh\n",
              "630    Lakh\n",
              "631    Lakh\n",
              "632    Lakh\n",
              "Name: base_price_unit, Length: 633, dtype: object"
            ]
          },
          "metadata": {},
          "execution_count": 17
        }
      ]
    },
    {
      "cell_type": "code",
      "source": [
        "df['base_price']"
      ],
      "metadata": {
        "execution": {
          "iopub.status.busy": "2023-09-08T13:16:10.779323Z",
          "iopub.execute_input": "2023-09-08T13:16:10.779696Z",
          "iopub.status.idle": "2023-09-08T13:16:10.796957Z",
          "shell.execute_reply.started": "2023-09-08T13:16:10.779663Z",
          "shell.execute_reply": "2023-09-08T13:16:10.795732Z"
        },
        "trusted": true,
        "colab": {
          "base_uri": "https://localhost:8080/"
        },
        "id": "8zjAbhSVgYJT",
        "outputId": "4c7b399a-5495-42d5-f71d-7a615e7dfbab"
      },
      "execution_count": 18,
      "outputs": [
        {
          "output_type": "execute_result",
          "data": {
            "text/plain": [
              "0       0\n",
              "1       0\n",
              "2       2\n",
              "3      40\n",
              "4       0\n",
              "       ..\n",
              "628    20\n",
              "629    20\n",
              "630    20\n",
              "631    20\n",
              "632    20\n",
              "Name: base_price, Length: 633, dtype: object"
            ]
          },
          "metadata": {},
          "execution_count": 18
        }
      ]
    },
    {
      "cell_type": "code",
      "source": [
        "df['base_price'].unique()"
      ],
      "metadata": {
        "execution": {
          "iopub.status.busy": "2023-09-08T13:16:10.798195Z",
          "iopub.execute_input": "2023-09-08T13:16:10.798806Z",
          "iopub.status.idle": "2023-09-08T13:16:10.809219Z",
          "shell.execute_reply.started": "2023-09-08T13:16:10.798770Z",
          "shell.execute_reply": "2023-09-08T13:16:10.808402Z"
        },
        "trusted": true,
        "colab": {
          "base_uri": "https://localhost:8080/"
        },
        "id": "gciqIvLegYJT",
        "outputId": "d0658602-f947-48b8-844a-93ad8e8b93cd"
      },
      "execution_count": 19,
      "outputs": [
        {
          "output_type": "execute_result",
          "data": {
            "text/plain": [
              "array(['0', '2', '40', '20', '1', '75', '50', '30', 'Retained', '1.5'],\n",
              "      dtype=object)"
            ]
          },
          "metadata": {},
          "execution_count": 19
        }
      ]
    },
    {
      "cell_type": "code",
      "source": [
        "df['base_price'].replace('Retained',0,inplace=True)"
      ],
      "metadata": {
        "execution": {
          "iopub.status.busy": "2023-09-08T13:16:10.810557Z",
          "iopub.execute_input": "2023-09-08T13:16:10.811623Z",
          "iopub.status.idle": "2023-09-08T13:16:10.817281Z",
          "shell.execute_reply.started": "2023-09-08T13:16:10.811527Z",
          "shell.execute_reply": "2023-09-08T13:16:10.816532Z"
        },
        "trusted": true,
        "id": "j9wlShIcgYJT"
      },
      "execution_count": 20,
      "outputs": []
    },
    {
      "cell_type": "code",
      "source": [
        "df['base_price'].unique()"
      ],
      "metadata": {
        "execution": {
          "iopub.status.busy": "2023-09-08T13:16:10.818381Z",
          "iopub.execute_input": "2023-09-08T13:16:10.819173Z",
          "iopub.status.idle": "2023-09-08T13:16:10.832891Z",
          "shell.execute_reply.started": "2023-09-08T13:16:10.819139Z",
          "shell.execute_reply": "2023-09-08T13:16:10.831858Z"
        },
        "trusted": true,
        "colab": {
          "base_uri": "https://localhost:8080/"
        },
        "id": "N-EllD8RgYJT",
        "outputId": "f467a659-9fb0-4902-f443-1d2271f3ad26"
      },
      "execution_count": 21,
      "outputs": [
        {
          "output_type": "execute_result",
          "data": {
            "text/plain": [
              "array(['0', '2', '40', '20', '1', '75', '50', '30', 0, '1.5'],\n",
              "      dtype=object)"
            ]
          },
          "metadata": {},
          "execution_count": 21
        }
      ]
    },
    {
      "cell_type": "code",
      "source": [
        "df['base_price_unit'].unique()"
      ],
      "metadata": {
        "execution": {
          "iopub.status.busy": "2023-09-08T13:16:10.834087Z",
          "iopub.execute_input": "2023-09-08T13:16:10.834622Z",
          "iopub.status.idle": "2023-09-08T13:16:10.846023Z",
          "shell.execute_reply.started": "2023-09-08T13:16:10.834588Z",
          "shell.execute_reply": "2023-09-08T13:16:10.844952Z"
        },
        "trusted": true,
        "colab": {
          "base_uri": "https://localhost:8080/"
        },
        "id": "vDE57ZA6gYJT",
        "outputId": "4ad4d4f4-99c6-4fd7-ff8e-c0a662dcb55f"
      },
      "execution_count": 22,
      "outputs": [
        {
          "output_type": "execute_result",
          "data": {
            "text/plain": [
              "array(['0', 'Cr', 'Lakh', 'Retained'], dtype=object)"
            ]
          },
          "metadata": {},
          "execution_count": 22
        }
      ]
    },
    {
      "cell_type": "code",
      "source": [
        "df['base_price_unit'] = df['base_price_unit'].replace({'Cr':100,'Lakh':1,'Retained':0})\n",
        "df['base_price_unit']"
      ],
      "metadata": {
        "execution": {
          "iopub.status.busy": "2023-09-08T13:16:10.847479Z",
          "iopub.execute_input": "2023-09-08T13:16:10.848293Z",
          "iopub.status.idle": "2023-09-08T13:16:10.861166Z",
          "shell.execute_reply.started": "2023-09-08T13:16:10.848257Z",
          "shell.execute_reply": "2023-09-08T13:16:10.859932Z"
        },
        "trusted": true,
        "colab": {
          "base_uri": "https://localhost:8080/"
        },
        "id": "pDWmwanggYJU",
        "outputId": "1ca7acac-a760-476e-f650-299ed7e5742a"
      },
      "execution_count": 23,
      "outputs": [
        {
          "output_type": "execute_result",
          "data": {
            "text/plain": [
              "0        0\n",
              "1        0\n",
              "2      100\n",
              "3        1\n",
              "4        0\n",
              "      ... \n",
              "628      1\n",
              "629      1\n",
              "630      1\n",
              "631      1\n",
              "632      1\n",
              "Name: base_price_unit, Length: 633, dtype: object"
            ]
          },
          "metadata": {},
          "execution_count": 23
        }
      ]
    },
    {
      "cell_type": "code",
      "source": [
        "df['base_price'] = df['base_price'].astype(float)\n",
        "df['base_price_unit'] = df['base_price_unit'].astype(int)"
      ],
      "metadata": {
        "execution": {
          "iopub.status.busy": "2023-09-08T13:16:10.862573Z",
          "iopub.execute_input": "2023-09-08T13:16:10.862903Z",
          "iopub.status.idle": "2023-09-08T13:16:10.870365Z",
          "shell.execute_reply.started": "2023-09-08T13:16:10.862874Z",
          "shell.execute_reply": "2023-09-08T13:16:10.869428Z"
        },
        "trusted": true,
        "id": "60W1jaxagYJU"
      },
      "execution_count": 24,
      "outputs": []
    },
    {
      "cell_type": "code",
      "source": [
        "df['base_price'] = df['base_price']*df['base_price_unit']\n",
        "df['base_price']"
      ],
      "metadata": {
        "execution": {
          "iopub.status.busy": "2023-09-08T13:16:10.871914Z",
          "iopub.execute_input": "2023-09-08T13:16:10.872237Z",
          "iopub.status.idle": "2023-09-08T13:16:10.887409Z",
          "shell.execute_reply.started": "2023-09-08T13:16:10.872208Z",
          "shell.execute_reply": "2023-09-08T13:16:10.886424Z"
        },
        "trusted": true,
        "colab": {
          "base_uri": "https://localhost:8080/"
        },
        "id": "Y51lTXY_gYJU",
        "outputId": "8b22b194-6d0e-4e2f-8da3-dcc150c6b8d5"
      },
      "execution_count": 25,
      "outputs": [
        {
          "output_type": "execute_result",
          "data": {
            "text/plain": [
              "0        0.0\n",
              "1        0.0\n",
              "2      200.0\n",
              "3       40.0\n",
              "4        0.0\n",
              "       ...  \n",
              "628     20.0\n",
              "629     20.0\n",
              "630     20.0\n",
              "631     20.0\n",
              "632     20.0\n",
              "Name: base_price, Length: 633, dtype: float64"
            ]
          },
          "metadata": {},
          "execution_count": 25
        }
      ]
    },
    {
      "cell_type": "code",
      "source": [
        "df.head()"
      ],
      "metadata": {
        "execution": {
          "iopub.status.busy": "2023-09-08T13:16:10.888914Z",
          "iopub.execute_input": "2023-09-08T13:16:10.889707Z",
          "iopub.status.idle": "2023-09-08T13:16:10.911459Z",
          "shell.execute_reply.started": "2023-09-08T13:16:10.889666Z",
          "shell.execute_reply": "2023-09-08T13:16:10.910333Z"
        },
        "trusted": true,
        "colab": {
          "base_uri": "https://localhost:8080/",
          "height": 206
        },
        "id": "i5lkwaP9gYJU",
        "outputId": "76fafc86-16aa-4de3-c5f3-14708609e57d"
      },
      "execution_count": 26,
      "outputs": [
        {
          "output_type": "execute_result",
          "data": {
            "text/plain": [
              "            Player Base Price         TYPE  COST IN ₹ (CR.)  Cost IN $ (000)  \\\n",
              "0      Rashid Khan          0       BOWLER             15.0           1950.0   \n",
              "1    Hardik Pandya          0  ALL-ROUNDER             15.0           1950.0   \n",
              "2  Lockie Ferguson       2 Cr       BOWLER             10.0           1300.0   \n",
              "3    Rahul Tewatia    40 Lakh  ALL-ROUNDER              9.0           1170.0   \n",
              "4     Shubman Gill          0       BATTER              8.0           1040.0   \n",
              "\n",
              "  2021 Squad            Team status   retention  base_price_unit  base_price  \n",
              "0        SRH  Gujarat Titans   sold  Draft Pick                0         0.0  \n",
              "1         MI  Gujarat Titans   sold  Draft Pick                0         0.0  \n",
              "2        KKR  Gujarat Titans   sold  In Auction              100       200.0  \n",
              "3         RR  Gujarat Titans   sold  In Auction                1        40.0  \n",
              "4        KKR  Gujarat Titans   sold  Draft Pick                0         0.0  "
            ],
            "text/html": [
              "\n",
              "  <div id=\"df-adf3a80b-cb2e-4b4c-be5e-ae6d946a6950\" class=\"colab-df-container\">\n",
              "    <div>\n",
              "<style scoped>\n",
              "    .dataframe tbody tr th:only-of-type {\n",
              "        vertical-align: middle;\n",
              "    }\n",
              "\n",
              "    .dataframe tbody tr th {\n",
              "        vertical-align: top;\n",
              "    }\n",
              "\n",
              "    .dataframe thead th {\n",
              "        text-align: right;\n",
              "    }\n",
              "</style>\n",
              "<table border=\"1\" class=\"dataframe\">\n",
              "  <thead>\n",
              "    <tr style=\"text-align: right;\">\n",
              "      <th></th>\n",
              "      <th>Player</th>\n",
              "      <th>Base Price</th>\n",
              "      <th>TYPE</th>\n",
              "      <th>COST IN ₹ (CR.)</th>\n",
              "      <th>Cost IN $ (000)</th>\n",
              "      <th>2021 Squad</th>\n",
              "      <th>Team</th>\n",
              "      <th>status</th>\n",
              "      <th>retention</th>\n",
              "      <th>base_price_unit</th>\n",
              "      <th>base_price</th>\n",
              "    </tr>\n",
              "  </thead>\n",
              "  <tbody>\n",
              "    <tr>\n",
              "      <th>0</th>\n",
              "      <td>Rashid Khan</td>\n",
              "      <td>0</td>\n",
              "      <td>BOWLER</td>\n",
              "      <td>15.0</td>\n",
              "      <td>1950.0</td>\n",
              "      <td>SRH</td>\n",
              "      <td>Gujarat Titans</td>\n",
              "      <td>sold</td>\n",
              "      <td>Draft Pick</td>\n",
              "      <td>0</td>\n",
              "      <td>0.0</td>\n",
              "    </tr>\n",
              "    <tr>\n",
              "      <th>1</th>\n",
              "      <td>Hardik Pandya</td>\n",
              "      <td>0</td>\n",
              "      <td>ALL-ROUNDER</td>\n",
              "      <td>15.0</td>\n",
              "      <td>1950.0</td>\n",
              "      <td>MI</td>\n",
              "      <td>Gujarat Titans</td>\n",
              "      <td>sold</td>\n",
              "      <td>Draft Pick</td>\n",
              "      <td>0</td>\n",
              "      <td>0.0</td>\n",
              "    </tr>\n",
              "    <tr>\n",
              "      <th>2</th>\n",
              "      <td>Lockie Ferguson</td>\n",
              "      <td>2 Cr</td>\n",
              "      <td>BOWLER</td>\n",
              "      <td>10.0</td>\n",
              "      <td>1300.0</td>\n",
              "      <td>KKR</td>\n",
              "      <td>Gujarat Titans</td>\n",
              "      <td>sold</td>\n",
              "      <td>In Auction</td>\n",
              "      <td>100</td>\n",
              "      <td>200.0</td>\n",
              "    </tr>\n",
              "    <tr>\n",
              "      <th>3</th>\n",
              "      <td>Rahul Tewatia</td>\n",
              "      <td>40 Lakh</td>\n",
              "      <td>ALL-ROUNDER</td>\n",
              "      <td>9.0</td>\n",
              "      <td>1170.0</td>\n",
              "      <td>RR</td>\n",
              "      <td>Gujarat Titans</td>\n",
              "      <td>sold</td>\n",
              "      <td>In Auction</td>\n",
              "      <td>1</td>\n",
              "      <td>40.0</td>\n",
              "    </tr>\n",
              "    <tr>\n",
              "      <th>4</th>\n",
              "      <td>Shubman Gill</td>\n",
              "      <td>0</td>\n",
              "      <td>BATTER</td>\n",
              "      <td>8.0</td>\n",
              "      <td>1040.0</td>\n",
              "      <td>KKR</td>\n",
              "      <td>Gujarat Titans</td>\n",
              "      <td>sold</td>\n",
              "      <td>Draft Pick</td>\n",
              "      <td>0</td>\n",
              "      <td>0.0</td>\n",
              "    </tr>\n",
              "  </tbody>\n",
              "</table>\n",
              "</div>\n",
              "    <div class=\"colab-df-buttons\">\n",
              "\n",
              "  <div class=\"colab-df-container\">\n",
              "    <button class=\"colab-df-convert\" onclick=\"convertToInteractive('df-adf3a80b-cb2e-4b4c-be5e-ae6d946a6950')\"\n",
              "            title=\"Convert this dataframe to an interactive table.\"\n",
              "            style=\"display:none;\">\n",
              "\n",
              "  <svg xmlns=\"http://www.w3.org/2000/svg\" height=\"24px\" viewBox=\"0 -960 960 960\">\n",
              "    <path d=\"M120-120v-720h720v720H120Zm60-500h600v-160H180v160Zm220 220h160v-160H400v160Zm0 220h160v-160H400v160ZM180-400h160v-160H180v160Zm440 0h160v-160H620v160ZM180-180h160v-160H180v160Zm440 0h160v-160H620v160Z\"/>\n",
              "  </svg>\n",
              "    </button>\n",
              "\n",
              "  <style>\n",
              "    .colab-df-container {\n",
              "      display:flex;\n",
              "      gap: 12px;\n",
              "    }\n",
              "\n",
              "    .colab-df-convert {\n",
              "      background-color: #E8F0FE;\n",
              "      border: none;\n",
              "      border-radius: 50%;\n",
              "      cursor: pointer;\n",
              "      display: none;\n",
              "      fill: #1967D2;\n",
              "      height: 32px;\n",
              "      padding: 0 0 0 0;\n",
              "      width: 32px;\n",
              "    }\n",
              "\n",
              "    .colab-df-convert:hover {\n",
              "      background-color: #E2EBFA;\n",
              "      box-shadow: 0px 1px 2px rgba(60, 64, 67, 0.3), 0px 1px 3px 1px rgba(60, 64, 67, 0.15);\n",
              "      fill: #174EA6;\n",
              "    }\n",
              "\n",
              "    .colab-df-buttons div {\n",
              "      margin-bottom: 4px;\n",
              "    }\n",
              "\n",
              "    [theme=dark] .colab-df-convert {\n",
              "      background-color: #3B4455;\n",
              "      fill: #D2E3FC;\n",
              "    }\n",
              "\n",
              "    [theme=dark] .colab-df-convert:hover {\n",
              "      background-color: #434B5C;\n",
              "      box-shadow: 0px 1px 3px 1px rgba(0, 0, 0, 0.15);\n",
              "      filter: drop-shadow(0px 1px 2px rgba(0, 0, 0, 0.3));\n",
              "      fill: #FFFFFF;\n",
              "    }\n",
              "  </style>\n",
              "\n",
              "    <script>\n",
              "      const buttonEl =\n",
              "        document.querySelector('#df-adf3a80b-cb2e-4b4c-be5e-ae6d946a6950 button.colab-df-convert');\n",
              "      buttonEl.style.display =\n",
              "        google.colab.kernel.accessAllowed ? 'block' : 'none';\n",
              "\n",
              "      async function convertToInteractive(key) {\n",
              "        const element = document.querySelector('#df-adf3a80b-cb2e-4b4c-be5e-ae6d946a6950');\n",
              "        const dataTable =\n",
              "          await google.colab.kernel.invokeFunction('convertToInteractive',\n",
              "                                                    [key], {});\n",
              "        if (!dataTable) return;\n",
              "\n",
              "        const docLinkHtml = 'Like what you see? Visit the ' +\n",
              "          '<a target=\"_blank\" href=https://colab.research.google.com/notebooks/data_table.ipynb>data table notebook</a>'\n",
              "          + ' to learn more about interactive tables.';\n",
              "        element.innerHTML = '';\n",
              "        dataTable['output_type'] = 'display_data';\n",
              "        await google.colab.output.renderOutput(dataTable, element);\n",
              "        const docLink = document.createElement('div');\n",
              "        docLink.innerHTML = docLinkHtml;\n",
              "        element.appendChild(docLink);\n",
              "      }\n",
              "    </script>\n",
              "  </div>\n",
              "\n",
              "\n",
              "<div id=\"df-df392b63-a186-4553-a876-993b7d611b60\">\n",
              "  <button class=\"colab-df-quickchart\" onclick=\"quickchart('df-df392b63-a186-4553-a876-993b7d611b60')\"\n",
              "            title=\"Suggest charts.\"\n",
              "            style=\"display:none;\">\n",
              "\n",
              "<svg xmlns=\"http://www.w3.org/2000/svg\" height=\"24px\"viewBox=\"0 0 24 24\"\n",
              "     width=\"24px\">\n",
              "    <g>\n",
              "        <path d=\"M19 3H5c-1.1 0-2 .9-2 2v14c0 1.1.9 2 2 2h14c1.1 0 2-.9 2-2V5c0-1.1-.9-2-2-2zM9 17H7v-7h2v7zm4 0h-2V7h2v10zm4 0h-2v-4h2v4z\"/>\n",
              "    </g>\n",
              "</svg>\n",
              "  </button>\n",
              "\n",
              "<style>\n",
              "  .colab-df-quickchart {\n",
              "      --bg-color: #E8F0FE;\n",
              "      --fill-color: #1967D2;\n",
              "      --hover-bg-color: #E2EBFA;\n",
              "      --hover-fill-color: #174EA6;\n",
              "      --disabled-fill-color: #AAA;\n",
              "      --disabled-bg-color: #DDD;\n",
              "  }\n",
              "\n",
              "  [theme=dark] .colab-df-quickchart {\n",
              "      --bg-color: #3B4455;\n",
              "      --fill-color: #D2E3FC;\n",
              "      --hover-bg-color: #434B5C;\n",
              "      --hover-fill-color: #FFFFFF;\n",
              "      --disabled-bg-color: #3B4455;\n",
              "      --disabled-fill-color: #666;\n",
              "  }\n",
              "\n",
              "  .colab-df-quickchart {\n",
              "    background-color: var(--bg-color);\n",
              "    border: none;\n",
              "    border-radius: 50%;\n",
              "    cursor: pointer;\n",
              "    display: none;\n",
              "    fill: var(--fill-color);\n",
              "    height: 32px;\n",
              "    padding: 0;\n",
              "    width: 32px;\n",
              "  }\n",
              "\n",
              "  .colab-df-quickchart:hover {\n",
              "    background-color: var(--hover-bg-color);\n",
              "    box-shadow: 0 1px 2px rgba(60, 64, 67, 0.3), 0 1px 3px 1px rgba(60, 64, 67, 0.15);\n",
              "    fill: var(--button-hover-fill-color);\n",
              "  }\n",
              "\n",
              "  .colab-df-quickchart-complete:disabled,\n",
              "  .colab-df-quickchart-complete:disabled:hover {\n",
              "    background-color: var(--disabled-bg-color);\n",
              "    fill: var(--disabled-fill-color);\n",
              "    box-shadow: none;\n",
              "  }\n",
              "\n",
              "  .colab-df-spinner {\n",
              "    border: 2px solid var(--fill-color);\n",
              "    border-color: transparent;\n",
              "    border-bottom-color: var(--fill-color);\n",
              "    animation:\n",
              "      spin 1s steps(1) infinite;\n",
              "  }\n",
              "\n",
              "  @keyframes spin {\n",
              "    0% {\n",
              "      border-color: transparent;\n",
              "      border-bottom-color: var(--fill-color);\n",
              "      border-left-color: var(--fill-color);\n",
              "    }\n",
              "    20% {\n",
              "      border-color: transparent;\n",
              "      border-left-color: var(--fill-color);\n",
              "      border-top-color: var(--fill-color);\n",
              "    }\n",
              "    30% {\n",
              "      border-color: transparent;\n",
              "      border-left-color: var(--fill-color);\n",
              "      border-top-color: var(--fill-color);\n",
              "      border-right-color: var(--fill-color);\n",
              "    }\n",
              "    40% {\n",
              "      border-color: transparent;\n",
              "      border-right-color: var(--fill-color);\n",
              "      border-top-color: var(--fill-color);\n",
              "    }\n",
              "    60% {\n",
              "      border-color: transparent;\n",
              "      border-right-color: var(--fill-color);\n",
              "    }\n",
              "    80% {\n",
              "      border-color: transparent;\n",
              "      border-right-color: var(--fill-color);\n",
              "      border-bottom-color: var(--fill-color);\n",
              "    }\n",
              "    90% {\n",
              "      border-color: transparent;\n",
              "      border-bottom-color: var(--fill-color);\n",
              "    }\n",
              "  }\n",
              "</style>\n",
              "\n",
              "  <script>\n",
              "    async function quickchart(key) {\n",
              "      const quickchartButtonEl =\n",
              "        document.querySelector('#' + key + ' button');\n",
              "      quickchartButtonEl.disabled = true;  // To prevent multiple clicks.\n",
              "      quickchartButtonEl.classList.add('colab-df-spinner');\n",
              "      try {\n",
              "        const charts = await google.colab.kernel.invokeFunction(\n",
              "            'suggestCharts', [key], {});\n",
              "      } catch (error) {\n",
              "        console.error('Error during call to suggestCharts:', error);\n",
              "      }\n",
              "      quickchartButtonEl.classList.remove('colab-df-spinner');\n",
              "      quickchartButtonEl.classList.add('colab-df-quickchart-complete');\n",
              "    }\n",
              "    (() => {\n",
              "      let quickchartButtonEl =\n",
              "        document.querySelector('#df-df392b63-a186-4553-a876-993b7d611b60 button');\n",
              "      quickchartButtonEl.style.display =\n",
              "        google.colab.kernel.accessAllowed ? 'block' : 'none';\n",
              "    })();\n",
              "  </script>\n",
              "</div>\n",
              "    </div>\n",
              "  </div>\n"
            ]
          },
          "metadata": {},
          "execution_count": 26
        }
      ]
    },
    {
      "cell_type": "code",
      "source": [
        "df.drop(['Base Price','base_price_unit'], axis =1, inplace = True)"
      ],
      "metadata": {
        "execution": {
          "iopub.status.busy": "2023-09-08T13:16:10.912958Z",
          "iopub.execute_input": "2023-09-08T13:16:10.913598Z",
          "iopub.status.idle": "2023-09-08T13:16:10.923876Z",
          "shell.execute_reply.started": "2023-09-08T13:16:10.913563Z",
          "shell.execute_reply": "2023-09-08T13:16:10.922820Z"
        },
        "trusted": true,
        "id": "9gFUM2n_gYJU"
      },
      "execution_count": 27,
      "outputs": []
    },
    {
      "cell_type": "code",
      "source": [
        "df.head()"
      ],
      "metadata": {
        "execution": {
          "iopub.status.busy": "2023-09-08T13:16:10.925348Z",
          "iopub.execute_input": "2023-09-08T13:16:10.925893Z",
          "iopub.status.idle": "2023-09-08T13:16:10.948727Z",
          "shell.execute_reply.started": "2023-09-08T13:16:10.925861Z",
          "shell.execute_reply": "2023-09-08T13:16:10.947270Z"
        },
        "trusted": true,
        "colab": {
          "base_uri": "https://localhost:8080/",
          "height": 206
        },
        "id": "EW-FmmqSgYJU",
        "outputId": "95281dfd-58d9-4340-a245-d181c3439232"
      },
      "execution_count": 28,
      "outputs": [
        {
          "output_type": "execute_result",
          "data": {
            "text/plain": [
              "            Player         TYPE  COST IN ₹ (CR.)  Cost IN $ (000) 2021 Squad  \\\n",
              "0      Rashid Khan       BOWLER             15.0           1950.0        SRH   \n",
              "1    Hardik Pandya  ALL-ROUNDER             15.0           1950.0         MI   \n",
              "2  Lockie Ferguson       BOWLER             10.0           1300.0        KKR   \n",
              "3    Rahul Tewatia  ALL-ROUNDER              9.0           1170.0         RR   \n",
              "4     Shubman Gill       BATTER              8.0           1040.0        KKR   \n",
              "\n",
              "             Team status   retention  base_price  \n",
              "0  Gujarat Titans   sold  Draft Pick         0.0  \n",
              "1  Gujarat Titans   sold  Draft Pick         0.0  \n",
              "2  Gujarat Titans   sold  In Auction       200.0  \n",
              "3  Gujarat Titans   sold  In Auction        40.0  \n",
              "4  Gujarat Titans   sold  Draft Pick         0.0  "
            ],
            "text/html": [
              "\n",
              "  <div id=\"df-ab253971-58da-40b3-9fe1-8a8b5c705960\" class=\"colab-df-container\">\n",
              "    <div>\n",
              "<style scoped>\n",
              "    .dataframe tbody tr th:only-of-type {\n",
              "        vertical-align: middle;\n",
              "    }\n",
              "\n",
              "    .dataframe tbody tr th {\n",
              "        vertical-align: top;\n",
              "    }\n",
              "\n",
              "    .dataframe thead th {\n",
              "        text-align: right;\n",
              "    }\n",
              "</style>\n",
              "<table border=\"1\" class=\"dataframe\">\n",
              "  <thead>\n",
              "    <tr style=\"text-align: right;\">\n",
              "      <th></th>\n",
              "      <th>Player</th>\n",
              "      <th>TYPE</th>\n",
              "      <th>COST IN ₹ (CR.)</th>\n",
              "      <th>Cost IN $ (000)</th>\n",
              "      <th>2021 Squad</th>\n",
              "      <th>Team</th>\n",
              "      <th>status</th>\n",
              "      <th>retention</th>\n",
              "      <th>base_price</th>\n",
              "    </tr>\n",
              "  </thead>\n",
              "  <tbody>\n",
              "    <tr>\n",
              "      <th>0</th>\n",
              "      <td>Rashid Khan</td>\n",
              "      <td>BOWLER</td>\n",
              "      <td>15.0</td>\n",
              "      <td>1950.0</td>\n",
              "      <td>SRH</td>\n",
              "      <td>Gujarat Titans</td>\n",
              "      <td>sold</td>\n",
              "      <td>Draft Pick</td>\n",
              "      <td>0.0</td>\n",
              "    </tr>\n",
              "    <tr>\n",
              "      <th>1</th>\n",
              "      <td>Hardik Pandya</td>\n",
              "      <td>ALL-ROUNDER</td>\n",
              "      <td>15.0</td>\n",
              "      <td>1950.0</td>\n",
              "      <td>MI</td>\n",
              "      <td>Gujarat Titans</td>\n",
              "      <td>sold</td>\n",
              "      <td>Draft Pick</td>\n",
              "      <td>0.0</td>\n",
              "    </tr>\n",
              "    <tr>\n",
              "      <th>2</th>\n",
              "      <td>Lockie Ferguson</td>\n",
              "      <td>BOWLER</td>\n",
              "      <td>10.0</td>\n",
              "      <td>1300.0</td>\n",
              "      <td>KKR</td>\n",
              "      <td>Gujarat Titans</td>\n",
              "      <td>sold</td>\n",
              "      <td>In Auction</td>\n",
              "      <td>200.0</td>\n",
              "    </tr>\n",
              "    <tr>\n",
              "      <th>3</th>\n",
              "      <td>Rahul Tewatia</td>\n",
              "      <td>ALL-ROUNDER</td>\n",
              "      <td>9.0</td>\n",
              "      <td>1170.0</td>\n",
              "      <td>RR</td>\n",
              "      <td>Gujarat Titans</td>\n",
              "      <td>sold</td>\n",
              "      <td>In Auction</td>\n",
              "      <td>40.0</td>\n",
              "    </tr>\n",
              "    <tr>\n",
              "      <th>4</th>\n",
              "      <td>Shubman Gill</td>\n",
              "      <td>BATTER</td>\n",
              "      <td>8.0</td>\n",
              "      <td>1040.0</td>\n",
              "      <td>KKR</td>\n",
              "      <td>Gujarat Titans</td>\n",
              "      <td>sold</td>\n",
              "      <td>Draft Pick</td>\n",
              "      <td>0.0</td>\n",
              "    </tr>\n",
              "  </tbody>\n",
              "</table>\n",
              "</div>\n",
              "    <div class=\"colab-df-buttons\">\n",
              "\n",
              "  <div class=\"colab-df-container\">\n",
              "    <button class=\"colab-df-convert\" onclick=\"convertToInteractive('df-ab253971-58da-40b3-9fe1-8a8b5c705960')\"\n",
              "            title=\"Convert this dataframe to an interactive table.\"\n",
              "            style=\"display:none;\">\n",
              "\n",
              "  <svg xmlns=\"http://www.w3.org/2000/svg\" height=\"24px\" viewBox=\"0 -960 960 960\">\n",
              "    <path d=\"M120-120v-720h720v720H120Zm60-500h600v-160H180v160Zm220 220h160v-160H400v160Zm0 220h160v-160H400v160ZM180-400h160v-160H180v160Zm440 0h160v-160H620v160ZM180-180h160v-160H180v160Zm440 0h160v-160H620v160Z\"/>\n",
              "  </svg>\n",
              "    </button>\n",
              "\n",
              "  <style>\n",
              "    .colab-df-container {\n",
              "      display:flex;\n",
              "      gap: 12px;\n",
              "    }\n",
              "\n",
              "    .colab-df-convert {\n",
              "      background-color: #E8F0FE;\n",
              "      border: none;\n",
              "      border-radius: 50%;\n",
              "      cursor: pointer;\n",
              "      display: none;\n",
              "      fill: #1967D2;\n",
              "      height: 32px;\n",
              "      padding: 0 0 0 0;\n",
              "      width: 32px;\n",
              "    }\n",
              "\n",
              "    .colab-df-convert:hover {\n",
              "      background-color: #E2EBFA;\n",
              "      box-shadow: 0px 1px 2px rgba(60, 64, 67, 0.3), 0px 1px 3px 1px rgba(60, 64, 67, 0.15);\n",
              "      fill: #174EA6;\n",
              "    }\n",
              "\n",
              "    .colab-df-buttons div {\n",
              "      margin-bottom: 4px;\n",
              "    }\n",
              "\n",
              "    [theme=dark] .colab-df-convert {\n",
              "      background-color: #3B4455;\n",
              "      fill: #D2E3FC;\n",
              "    }\n",
              "\n",
              "    [theme=dark] .colab-df-convert:hover {\n",
              "      background-color: #434B5C;\n",
              "      box-shadow: 0px 1px 3px 1px rgba(0, 0, 0, 0.15);\n",
              "      filter: drop-shadow(0px 1px 2px rgba(0, 0, 0, 0.3));\n",
              "      fill: #FFFFFF;\n",
              "    }\n",
              "  </style>\n",
              "\n",
              "    <script>\n",
              "      const buttonEl =\n",
              "        document.querySelector('#df-ab253971-58da-40b3-9fe1-8a8b5c705960 button.colab-df-convert');\n",
              "      buttonEl.style.display =\n",
              "        google.colab.kernel.accessAllowed ? 'block' : 'none';\n",
              "\n",
              "      async function convertToInteractive(key) {\n",
              "        const element = document.querySelector('#df-ab253971-58da-40b3-9fe1-8a8b5c705960');\n",
              "        const dataTable =\n",
              "          await google.colab.kernel.invokeFunction('convertToInteractive',\n",
              "                                                    [key], {});\n",
              "        if (!dataTable) return;\n",
              "\n",
              "        const docLinkHtml = 'Like what you see? Visit the ' +\n",
              "          '<a target=\"_blank\" href=https://colab.research.google.com/notebooks/data_table.ipynb>data table notebook</a>'\n",
              "          + ' to learn more about interactive tables.';\n",
              "        element.innerHTML = '';\n",
              "        dataTable['output_type'] = 'display_data';\n",
              "        await google.colab.output.renderOutput(dataTable, element);\n",
              "        const docLink = document.createElement('div');\n",
              "        docLink.innerHTML = docLinkHtml;\n",
              "        element.appendChild(docLink);\n",
              "      }\n",
              "    </script>\n",
              "  </div>\n",
              "\n",
              "\n",
              "<div id=\"df-d98e67ce-6f01-4cba-b324-d82bec8e3afc\">\n",
              "  <button class=\"colab-df-quickchart\" onclick=\"quickchart('df-d98e67ce-6f01-4cba-b324-d82bec8e3afc')\"\n",
              "            title=\"Suggest charts.\"\n",
              "            style=\"display:none;\">\n",
              "\n",
              "<svg xmlns=\"http://www.w3.org/2000/svg\" height=\"24px\"viewBox=\"0 0 24 24\"\n",
              "     width=\"24px\">\n",
              "    <g>\n",
              "        <path d=\"M19 3H5c-1.1 0-2 .9-2 2v14c0 1.1.9 2 2 2h14c1.1 0 2-.9 2-2V5c0-1.1-.9-2-2-2zM9 17H7v-7h2v7zm4 0h-2V7h2v10zm4 0h-2v-4h2v4z\"/>\n",
              "    </g>\n",
              "</svg>\n",
              "  </button>\n",
              "\n",
              "<style>\n",
              "  .colab-df-quickchart {\n",
              "      --bg-color: #E8F0FE;\n",
              "      --fill-color: #1967D2;\n",
              "      --hover-bg-color: #E2EBFA;\n",
              "      --hover-fill-color: #174EA6;\n",
              "      --disabled-fill-color: #AAA;\n",
              "      --disabled-bg-color: #DDD;\n",
              "  }\n",
              "\n",
              "  [theme=dark] .colab-df-quickchart {\n",
              "      --bg-color: #3B4455;\n",
              "      --fill-color: #D2E3FC;\n",
              "      --hover-bg-color: #434B5C;\n",
              "      --hover-fill-color: #FFFFFF;\n",
              "      --disabled-bg-color: #3B4455;\n",
              "      --disabled-fill-color: #666;\n",
              "  }\n",
              "\n",
              "  .colab-df-quickchart {\n",
              "    background-color: var(--bg-color);\n",
              "    border: none;\n",
              "    border-radius: 50%;\n",
              "    cursor: pointer;\n",
              "    display: none;\n",
              "    fill: var(--fill-color);\n",
              "    height: 32px;\n",
              "    padding: 0;\n",
              "    width: 32px;\n",
              "  }\n",
              "\n",
              "  .colab-df-quickchart:hover {\n",
              "    background-color: var(--hover-bg-color);\n",
              "    box-shadow: 0 1px 2px rgba(60, 64, 67, 0.3), 0 1px 3px 1px rgba(60, 64, 67, 0.15);\n",
              "    fill: var(--button-hover-fill-color);\n",
              "  }\n",
              "\n",
              "  .colab-df-quickchart-complete:disabled,\n",
              "  .colab-df-quickchart-complete:disabled:hover {\n",
              "    background-color: var(--disabled-bg-color);\n",
              "    fill: var(--disabled-fill-color);\n",
              "    box-shadow: none;\n",
              "  }\n",
              "\n",
              "  .colab-df-spinner {\n",
              "    border: 2px solid var(--fill-color);\n",
              "    border-color: transparent;\n",
              "    border-bottom-color: var(--fill-color);\n",
              "    animation:\n",
              "      spin 1s steps(1) infinite;\n",
              "  }\n",
              "\n",
              "  @keyframes spin {\n",
              "    0% {\n",
              "      border-color: transparent;\n",
              "      border-bottom-color: var(--fill-color);\n",
              "      border-left-color: var(--fill-color);\n",
              "    }\n",
              "    20% {\n",
              "      border-color: transparent;\n",
              "      border-left-color: var(--fill-color);\n",
              "      border-top-color: var(--fill-color);\n",
              "    }\n",
              "    30% {\n",
              "      border-color: transparent;\n",
              "      border-left-color: var(--fill-color);\n",
              "      border-top-color: var(--fill-color);\n",
              "      border-right-color: var(--fill-color);\n",
              "    }\n",
              "    40% {\n",
              "      border-color: transparent;\n",
              "      border-right-color: var(--fill-color);\n",
              "      border-top-color: var(--fill-color);\n",
              "    }\n",
              "    60% {\n",
              "      border-color: transparent;\n",
              "      border-right-color: var(--fill-color);\n",
              "    }\n",
              "    80% {\n",
              "      border-color: transparent;\n",
              "      border-right-color: var(--fill-color);\n",
              "      border-bottom-color: var(--fill-color);\n",
              "    }\n",
              "    90% {\n",
              "      border-color: transparent;\n",
              "      border-bottom-color: var(--fill-color);\n",
              "    }\n",
              "  }\n",
              "</style>\n",
              "\n",
              "  <script>\n",
              "    async function quickchart(key) {\n",
              "      const quickchartButtonEl =\n",
              "        document.querySelector('#' + key + ' button');\n",
              "      quickchartButtonEl.disabled = true;  // To prevent multiple clicks.\n",
              "      quickchartButtonEl.classList.add('colab-df-spinner');\n",
              "      try {\n",
              "        const charts = await google.colab.kernel.invokeFunction(\n",
              "            'suggestCharts', [key], {});\n",
              "      } catch (error) {\n",
              "        console.error('Error during call to suggestCharts:', error);\n",
              "      }\n",
              "      quickchartButtonEl.classList.remove('colab-df-spinner');\n",
              "      quickchartButtonEl.classList.add('colab-df-quickchart-complete');\n",
              "    }\n",
              "    (() => {\n",
              "      let quickchartButtonEl =\n",
              "        document.querySelector('#df-d98e67ce-6f01-4cba-b324-d82bec8e3afc button');\n",
              "      quickchartButtonEl.style.display =\n",
              "        google.colab.kernel.accessAllowed ? 'block' : 'none';\n",
              "    })();\n",
              "  </script>\n",
              "</div>\n",
              "    </div>\n",
              "  </div>\n"
            ]
          },
          "metadata": {},
          "execution_count": 28
        }
      ]
    },
    {
      "cell_type": "code",
      "source": [
        "df['COST IN ₹ (CR.)'] = df['COST IN ₹ (CR.)']*100\n",
        "df['COST IN ₹ (CR.)']"
      ],
      "metadata": {
        "execution": {
          "iopub.status.busy": "2023-09-08T13:16:10.950307Z",
          "iopub.execute_input": "2023-09-08T13:16:10.950686Z",
          "iopub.status.idle": "2023-09-08T13:16:10.962095Z",
          "shell.execute_reply.started": "2023-09-08T13:16:10.950651Z",
          "shell.execute_reply": "2023-09-08T13:16:10.960865Z"
        },
        "trusted": true,
        "colab": {
          "base_uri": "https://localhost:8080/"
        },
        "id": "QNr9TXXXgYJU",
        "outputId": "9fb4dc46-ab1b-4b62-f5a5-08283edc410f"
      },
      "execution_count": 29,
      "outputs": [
        {
          "output_type": "execute_result",
          "data": {
            "text/plain": [
              "0      1500.0\n",
              "1      1500.0\n",
              "2      1000.0\n",
              "3       900.0\n",
              "4       800.0\n",
              "        ...  \n",
              "628       0.0\n",
              "629       0.0\n",
              "630       0.0\n",
              "631       0.0\n",
              "632       0.0\n",
              "Name: COST IN ₹ (CR.), Length: 633, dtype: float64"
            ]
          },
          "metadata": {},
          "execution_count": 29
        }
      ]
    },
    {
      "cell_type": "code",
      "source": [
        "df = df.rename(columns={'TYPE':'Type','COST IN ₹ (CR.)':'Sold_for_lakh','Cost IN $ (000)':'Cost_in_dollars','2021 Squad':'Prev_team','Team':'Curr_team'})"
      ],
      "metadata": {
        "execution": {
          "iopub.status.busy": "2023-09-08T13:16:10.965700Z",
          "iopub.execute_input": "2023-09-08T13:16:10.966241Z",
          "iopub.status.idle": "2023-09-08T13:16:10.973630Z",
          "shell.execute_reply.started": "2023-09-08T13:16:10.966197Z",
          "shell.execute_reply": "2023-09-08T13:16:10.972493Z"
        },
        "trusted": true,
        "id": "woRwLV8TgYJV"
      },
      "execution_count": 30,
      "outputs": []
    },
    {
      "cell_type": "code",
      "source": [
        "df.head()"
      ],
      "metadata": {
        "execution": {
          "iopub.status.busy": "2023-09-08T13:16:10.975090Z",
          "iopub.execute_input": "2023-09-08T13:16:10.976157Z",
          "iopub.status.idle": "2023-09-08T13:16:10.999324Z",
          "shell.execute_reply.started": "2023-09-08T13:16:10.976109Z",
          "shell.execute_reply": "2023-09-08T13:16:10.998429Z"
        },
        "trusted": true,
        "colab": {
          "base_uri": "https://localhost:8080/",
          "height": 206
        },
        "id": "hsRWTuQTgYJV",
        "outputId": "5d62d0a3-4fb9-4e36-a5a1-c287d7927be0"
      },
      "execution_count": 31,
      "outputs": [
        {
          "output_type": "execute_result",
          "data": {
            "text/plain": [
              "            Player         Type  Sold_for_lakh  Cost_in_dollars Prev_team  \\\n",
              "0      Rashid Khan       BOWLER         1500.0           1950.0       SRH   \n",
              "1    Hardik Pandya  ALL-ROUNDER         1500.0           1950.0        MI   \n",
              "2  Lockie Ferguson       BOWLER         1000.0           1300.0       KKR   \n",
              "3    Rahul Tewatia  ALL-ROUNDER          900.0           1170.0        RR   \n",
              "4     Shubman Gill       BATTER          800.0           1040.0       KKR   \n",
              "\n",
              "        Curr_team status   retention  base_price  \n",
              "0  Gujarat Titans   sold  Draft Pick         0.0  \n",
              "1  Gujarat Titans   sold  Draft Pick         0.0  \n",
              "2  Gujarat Titans   sold  In Auction       200.0  \n",
              "3  Gujarat Titans   sold  In Auction        40.0  \n",
              "4  Gujarat Titans   sold  Draft Pick         0.0  "
            ],
            "text/html": [
              "\n",
              "  <div id=\"df-ecbad793-f4e4-40a8-8fe5-f18662c1de70\" class=\"colab-df-container\">\n",
              "    <div>\n",
              "<style scoped>\n",
              "    .dataframe tbody tr th:only-of-type {\n",
              "        vertical-align: middle;\n",
              "    }\n",
              "\n",
              "    .dataframe tbody tr th {\n",
              "        vertical-align: top;\n",
              "    }\n",
              "\n",
              "    .dataframe thead th {\n",
              "        text-align: right;\n",
              "    }\n",
              "</style>\n",
              "<table border=\"1\" class=\"dataframe\">\n",
              "  <thead>\n",
              "    <tr style=\"text-align: right;\">\n",
              "      <th></th>\n",
              "      <th>Player</th>\n",
              "      <th>Type</th>\n",
              "      <th>Sold_for_lakh</th>\n",
              "      <th>Cost_in_dollars</th>\n",
              "      <th>Prev_team</th>\n",
              "      <th>Curr_team</th>\n",
              "      <th>status</th>\n",
              "      <th>retention</th>\n",
              "      <th>base_price</th>\n",
              "    </tr>\n",
              "  </thead>\n",
              "  <tbody>\n",
              "    <tr>\n",
              "      <th>0</th>\n",
              "      <td>Rashid Khan</td>\n",
              "      <td>BOWLER</td>\n",
              "      <td>1500.0</td>\n",
              "      <td>1950.0</td>\n",
              "      <td>SRH</td>\n",
              "      <td>Gujarat Titans</td>\n",
              "      <td>sold</td>\n",
              "      <td>Draft Pick</td>\n",
              "      <td>0.0</td>\n",
              "    </tr>\n",
              "    <tr>\n",
              "      <th>1</th>\n",
              "      <td>Hardik Pandya</td>\n",
              "      <td>ALL-ROUNDER</td>\n",
              "      <td>1500.0</td>\n",
              "      <td>1950.0</td>\n",
              "      <td>MI</td>\n",
              "      <td>Gujarat Titans</td>\n",
              "      <td>sold</td>\n",
              "      <td>Draft Pick</td>\n",
              "      <td>0.0</td>\n",
              "    </tr>\n",
              "    <tr>\n",
              "      <th>2</th>\n",
              "      <td>Lockie Ferguson</td>\n",
              "      <td>BOWLER</td>\n",
              "      <td>1000.0</td>\n",
              "      <td>1300.0</td>\n",
              "      <td>KKR</td>\n",
              "      <td>Gujarat Titans</td>\n",
              "      <td>sold</td>\n",
              "      <td>In Auction</td>\n",
              "      <td>200.0</td>\n",
              "    </tr>\n",
              "    <tr>\n",
              "      <th>3</th>\n",
              "      <td>Rahul Tewatia</td>\n",
              "      <td>ALL-ROUNDER</td>\n",
              "      <td>900.0</td>\n",
              "      <td>1170.0</td>\n",
              "      <td>RR</td>\n",
              "      <td>Gujarat Titans</td>\n",
              "      <td>sold</td>\n",
              "      <td>In Auction</td>\n",
              "      <td>40.0</td>\n",
              "    </tr>\n",
              "    <tr>\n",
              "      <th>4</th>\n",
              "      <td>Shubman Gill</td>\n",
              "      <td>BATTER</td>\n",
              "      <td>800.0</td>\n",
              "      <td>1040.0</td>\n",
              "      <td>KKR</td>\n",
              "      <td>Gujarat Titans</td>\n",
              "      <td>sold</td>\n",
              "      <td>Draft Pick</td>\n",
              "      <td>0.0</td>\n",
              "    </tr>\n",
              "  </tbody>\n",
              "</table>\n",
              "</div>\n",
              "    <div class=\"colab-df-buttons\">\n",
              "\n",
              "  <div class=\"colab-df-container\">\n",
              "    <button class=\"colab-df-convert\" onclick=\"convertToInteractive('df-ecbad793-f4e4-40a8-8fe5-f18662c1de70')\"\n",
              "            title=\"Convert this dataframe to an interactive table.\"\n",
              "            style=\"display:none;\">\n",
              "\n",
              "  <svg xmlns=\"http://www.w3.org/2000/svg\" height=\"24px\" viewBox=\"0 -960 960 960\">\n",
              "    <path d=\"M120-120v-720h720v720H120Zm60-500h600v-160H180v160Zm220 220h160v-160H400v160Zm0 220h160v-160H400v160ZM180-400h160v-160H180v160Zm440 0h160v-160H620v160ZM180-180h160v-160H180v160Zm440 0h160v-160H620v160Z\"/>\n",
              "  </svg>\n",
              "    </button>\n",
              "\n",
              "  <style>\n",
              "    .colab-df-container {\n",
              "      display:flex;\n",
              "      gap: 12px;\n",
              "    }\n",
              "\n",
              "    .colab-df-convert {\n",
              "      background-color: #E8F0FE;\n",
              "      border: none;\n",
              "      border-radius: 50%;\n",
              "      cursor: pointer;\n",
              "      display: none;\n",
              "      fill: #1967D2;\n",
              "      height: 32px;\n",
              "      padding: 0 0 0 0;\n",
              "      width: 32px;\n",
              "    }\n",
              "\n",
              "    .colab-df-convert:hover {\n",
              "      background-color: #E2EBFA;\n",
              "      box-shadow: 0px 1px 2px rgba(60, 64, 67, 0.3), 0px 1px 3px 1px rgba(60, 64, 67, 0.15);\n",
              "      fill: #174EA6;\n",
              "    }\n",
              "\n",
              "    .colab-df-buttons div {\n",
              "      margin-bottom: 4px;\n",
              "    }\n",
              "\n",
              "    [theme=dark] .colab-df-convert {\n",
              "      background-color: #3B4455;\n",
              "      fill: #D2E3FC;\n",
              "    }\n",
              "\n",
              "    [theme=dark] .colab-df-convert:hover {\n",
              "      background-color: #434B5C;\n",
              "      box-shadow: 0px 1px 3px 1px rgba(0, 0, 0, 0.15);\n",
              "      filter: drop-shadow(0px 1px 2px rgba(0, 0, 0, 0.3));\n",
              "      fill: #FFFFFF;\n",
              "    }\n",
              "  </style>\n",
              "\n",
              "    <script>\n",
              "      const buttonEl =\n",
              "        document.querySelector('#df-ecbad793-f4e4-40a8-8fe5-f18662c1de70 button.colab-df-convert');\n",
              "      buttonEl.style.display =\n",
              "        google.colab.kernel.accessAllowed ? 'block' : 'none';\n",
              "\n",
              "      async function convertToInteractive(key) {\n",
              "        const element = document.querySelector('#df-ecbad793-f4e4-40a8-8fe5-f18662c1de70');\n",
              "        const dataTable =\n",
              "          await google.colab.kernel.invokeFunction('convertToInteractive',\n",
              "                                                    [key], {});\n",
              "        if (!dataTable) return;\n",
              "\n",
              "        const docLinkHtml = 'Like what you see? Visit the ' +\n",
              "          '<a target=\"_blank\" href=https://colab.research.google.com/notebooks/data_table.ipynb>data table notebook</a>'\n",
              "          + ' to learn more about interactive tables.';\n",
              "        element.innerHTML = '';\n",
              "        dataTable['output_type'] = 'display_data';\n",
              "        await google.colab.output.renderOutput(dataTable, element);\n",
              "        const docLink = document.createElement('div');\n",
              "        docLink.innerHTML = docLinkHtml;\n",
              "        element.appendChild(docLink);\n",
              "      }\n",
              "    </script>\n",
              "  </div>\n",
              "\n",
              "\n",
              "<div id=\"df-fe9d9564-dae4-48d8-9438-203ebefc1247\">\n",
              "  <button class=\"colab-df-quickchart\" onclick=\"quickchart('df-fe9d9564-dae4-48d8-9438-203ebefc1247')\"\n",
              "            title=\"Suggest charts.\"\n",
              "            style=\"display:none;\">\n",
              "\n",
              "<svg xmlns=\"http://www.w3.org/2000/svg\" height=\"24px\"viewBox=\"0 0 24 24\"\n",
              "     width=\"24px\">\n",
              "    <g>\n",
              "        <path d=\"M19 3H5c-1.1 0-2 .9-2 2v14c0 1.1.9 2 2 2h14c1.1 0 2-.9 2-2V5c0-1.1-.9-2-2-2zM9 17H7v-7h2v7zm4 0h-2V7h2v10zm4 0h-2v-4h2v4z\"/>\n",
              "    </g>\n",
              "</svg>\n",
              "  </button>\n",
              "\n",
              "<style>\n",
              "  .colab-df-quickchart {\n",
              "      --bg-color: #E8F0FE;\n",
              "      --fill-color: #1967D2;\n",
              "      --hover-bg-color: #E2EBFA;\n",
              "      --hover-fill-color: #174EA6;\n",
              "      --disabled-fill-color: #AAA;\n",
              "      --disabled-bg-color: #DDD;\n",
              "  }\n",
              "\n",
              "  [theme=dark] .colab-df-quickchart {\n",
              "      --bg-color: #3B4455;\n",
              "      --fill-color: #D2E3FC;\n",
              "      --hover-bg-color: #434B5C;\n",
              "      --hover-fill-color: #FFFFFF;\n",
              "      --disabled-bg-color: #3B4455;\n",
              "      --disabled-fill-color: #666;\n",
              "  }\n",
              "\n",
              "  .colab-df-quickchart {\n",
              "    background-color: var(--bg-color);\n",
              "    border: none;\n",
              "    border-radius: 50%;\n",
              "    cursor: pointer;\n",
              "    display: none;\n",
              "    fill: var(--fill-color);\n",
              "    height: 32px;\n",
              "    padding: 0;\n",
              "    width: 32px;\n",
              "  }\n",
              "\n",
              "  .colab-df-quickchart:hover {\n",
              "    background-color: var(--hover-bg-color);\n",
              "    box-shadow: 0 1px 2px rgba(60, 64, 67, 0.3), 0 1px 3px 1px rgba(60, 64, 67, 0.15);\n",
              "    fill: var(--button-hover-fill-color);\n",
              "  }\n",
              "\n",
              "  .colab-df-quickchart-complete:disabled,\n",
              "  .colab-df-quickchart-complete:disabled:hover {\n",
              "    background-color: var(--disabled-bg-color);\n",
              "    fill: var(--disabled-fill-color);\n",
              "    box-shadow: none;\n",
              "  }\n",
              "\n",
              "  .colab-df-spinner {\n",
              "    border: 2px solid var(--fill-color);\n",
              "    border-color: transparent;\n",
              "    border-bottom-color: var(--fill-color);\n",
              "    animation:\n",
              "      spin 1s steps(1) infinite;\n",
              "  }\n",
              "\n",
              "  @keyframes spin {\n",
              "    0% {\n",
              "      border-color: transparent;\n",
              "      border-bottom-color: var(--fill-color);\n",
              "      border-left-color: var(--fill-color);\n",
              "    }\n",
              "    20% {\n",
              "      border-color: transparent;\n",
              "      border-left-color: var(--fill-color);\n",
              "      border-top-color: var(--fill-color);\n",
              "    }\n",
              "    30% {\n",
              "      border-color: transparent;\n",
              "      border-left-color: var(--fill-color);\n",
              "      border-top-color: var(--fill-color);\n",
              "      border-right-color: var(--fill-color);\n",
              "    }\n",
              "    40% {\n",
              "      border-color: transparent;\n",
              "      border-right-color: var(--fill-color);\n",
              "      border-top-color: var(--fill-color);\n",
              "    }\n",
              "    60% {\n",
              "      border-color: transparent;\n",
              "      border-right-color: var(--fill-color);\n",
              "    }\n",
              "    80% {\n",
              "      border-color: transparent;\n",
              "      border-right-color: var(--fill-color);\n",
              "      border-bottom-color: var(--fill-color);\n",
              "    }\n",
              "    90% {\n",
              "      border-color: transparent;\n",
              "      border-bottom-color: var(--fill-color);\n",
              "    }\n",
              "  }\n",
              "</style>\n",
              "\n",
              "  <script>\n",
              "    async function quickchart(key) {\n",
              "      const quickchartButtonEl =\n",
              "        document.querySelector('#' + key + ' button');\n",
              "      quickchartButtonEl.disabled = true;  // To prevent multiple clicks.\n",
              "      quickchartButtonEl.classList.add('colab-df-spinner');\n",
              "      try {\n",
              "        const charts = await google.colab.kernel.invokeFunction(\n",
              "            'suggestCharts', [key], {});\n",
              "      } catch (error) {\n",
              "        console.error('Error during call to suggestCharts:', error);\n",
              "      }\n",
              "      quickchartButtonEl.classList.remove('colab-df-spinner');\n",
              "      quickchartButtonEl.classList.add('colab-df-quickchart-complete');\n",
              "    }\n",
              "    (() => {\n",
              "      let quickchartButtonEl =\n",
              "        document.querySelector('#df-fe9d9564-dae4-48d8-9438-203ebefc1247 button');\n",
              "      quickchartButtonEl.style.display =\n",
              "        google.colab.kernel.accessAllowed ? 'block' : 'none';\n",
              "    })();\n",
              "  </script>\n",
              "</div>\n",
              "    </div>\n",
              "  </div>\n"
            ]
          },
          "metadata": {},
          "execution_count": 31
        }
      ]
    },
    {
      "cell_type": "code",
      "source": [
        "# We will Check Duplicate Players\n",
        "df[df['Player'].duplicated(keep=False)]"
      ],
      "metadata": {
        "execution": {
          "iopub.status.busy": "2023-09-08T13:16:11.000488Z",
          "iopub.execute_input": "2023-09-08T13:16:11.001032Z",
          "iopub.status.idle": "2023-09-08T13:16:11.027303Z",
          "shell.execute_reply.started": "2023-09-08T13:16:11.000987Z",
          "shell.execute_reply": "2023-09-08T13:16:11.026127Z"
        },
        "trusted": true,
        "colab": {
          "base_uri": "https://localhost:8080/",
          "height": 300
        },
        "id": "NRblnpTDgYJV",
        "outputId": "442ab7c5-4d5d-45c4-d969-1a4d09a7397e"
      },
      "execution_count": 32,
      "outputs": [
        {
          "output_type": "execute_result",
          "data": {
            "text/plain": [
              "            Player         Type  Sold_for_lakh  Cost_in_dollars  \\\n",
              "62     Lalit Yadav  ALL-ROUNDER           65.0             84.5   \n",
              "240    Amit Mishra       BOWLER            0.0              0.0   \n",
              "499    Amit Mishra       BOWLER            0.0              0.0   \n",
              "518  Shivam Sharma  ALL-ROUNDER            0.0              0.0   \n",
              "530    Lalit Yadav       BOWLER            0.0              0.0   \n",
              "537  Shubham Singh  ALL-ROUNDER            0.0              0.0   \n",
              "544  Shubham Singh       BOWLER            0.0              0.0   \n",
              "569  Shivam Sharma  ALL-ROUNDER            0.0              0.0   \n",
              "\n",
              "                        Prev_team       Curr_team  status   retention  \\\n",
              "62                             DC  Delhi Capitals    sold  In Auction   \n",
              "240                            DC          Unsold  Unsold  In Auction   \n",
              "499  Not Participated in IPL 2021          Unsold  Unsold  In Auction   \n",
              "518  Not Participated in IPL 2021          Unsold  Unsold  In Auction   \n",
              "530  Not Participated in IPL 2021          Unsold  Unsold  In Auction   \n",
              "537  Not Participated in IPL 2021          Unsold  Unsold  In Auction   \n",
              "544  Not Participated in IPL 2021          Unsold  Unsold  In Auction   \n",
              "569  Not Participated in IPL 2021          Unsold  Unsold  In Auction   \n",
              "\n",
              "     base_price  \n",
              "62         20.0  \n",
              "240       150.0  \n",
              "499        20.0  \n",
              "518        20.0  \n",
              "530        20.0  \n",
              "537        20.0  \n",
              "544        20.0  \n",
              "569        20.0  "
            ],
            "text/html": [
              "\n",
              "  <div id=\"df-9864342a-f843-4cab-9f84-065f3895c438\" class=\"colab-df-container\">\n",
              "    <div>\n",
              "<style scoped>\n",
              "    .dataframe tbody tr th:only-of-type {\n",
              "        vertical-align: middle;\n",
              "    }\n",
              "\n",
              "    .dataframe tbody tr th {\n",
              "        vertical-align: top;\n",
              "    }\n",
              "\n",
              "    .dataframe thead th {\n",
              "        text-align: right;\n",
              "    }\n",
              "</style>\n",
              "<table border=\"1\" class=\"dataframe\">\n",
              "  <thead>\n",
              "    <tr style=\"text-align: right;\">\n",
              "      <th></th>\n",
              "      <th>Player</th>\n",
              "      <th>Type</th>\n",
              "      <th>Sold_for_lakh</th>\n",
              "      <th>Cost_in_dollars</th>\n",
              "      <th>Prev_team</th>\n",
              "      <th>Curr_team</th>\n",
              "      <th>status</th>\n",
              "      <th>retention</th>\n",
              "      <th>base_price</th>\n",
              "    </tr>\n",
              "  </thead>\n",
              "  <tbody>\n",
              "    <tr>\n",
              "      <th>62</th>\n",
              "      <td>Lalit Yadav</td>\n",
              "      <td>ALL-ROUNDER</td>\n",
              "      <td>65.0</td>\n",
              "      <td>84.5</td>\n",
              "      <td>DC</td>\n",
              "      <td>Delhi Capitals</td>\n",
              "      <td>sold</td>\n",
              "      <td>In Auction</td>\n",
              "      <td>20.0</td>\n",
              "    </tr>\n",
              "    <tr>\n",
              "      <th>240</th>\n",
              "      <td>Amit Mishra</td>\n",
              "      <td>BOWLER</td>\n",
              "      <td>0.0</td>\n",
              "      <td>0.0</td>\n",
              "      <td>DC</td>\n",
              "      <td>Unsold</td>\n",
              "      <td>Unsold</td>\n",
              "      <td>In Auction</td>\n",
              "      <td>150.0</td>\n",
              "    </tr>\n",
              "    <tr>\n",
              "      <th>499</th>\n",
              "      <td>Amit Mishra</td>\n",
              "      <td>BOWLER</td>\n",
              "      <td>0.0</td>\n",
              "      <td>0.0</td>\n",
              "      <td>Not Participated in IPL 2021</td>\n",
              "      <td>Unsold</td>\n",
              "      <td>Unsold</td>\n",
              "      <td>In Auction</td>\n",
              "      <td>20.0</td>\n",
              "    </tr>\n",
              "    <tr>\n",
              "      <th>518</th>\n",
              "      <td>Shivam Sharma</td>\n",
              "      <td>ALL-ROUNDER</td>\n",
              "      <td>0.0</td>\n",
              "      <td>0.0</td>\n",
              "      <td>Not Participated in IPL 2021</td>\n",
              "      <td>Unsold</td>\n",
              "      <td>Unsold</td>\n",
              "      <td>In Auction</td>\n",
              "      <td>20.0</td>\n",
              "    </tr>\n",
              "    <tr>\n",
              "      <th>530</th>\n",
              "      <td>Lalit Yadav</td>\n",
              "      <td>BOWLER</td>\n",
              "      <td>0.0</td>\n",
              "      <td>0.0</td>\n",
              "      <td>Not Participated in IPL 2021</td>\n",
              "      <td>Unsold</td>\n",
              "      <td>Unsold</td>\n",
              "      <td>In Auction</td>\n",
              "      <td>20.0</td>\n",
              "    </tr>\n",
              "    <tr>\n",
              "      <th>537</th>\n",
              "      <td>Shubham Singh</td>\n",
              "      <td>ALL-ROUNDER</td>\n",
              "      <td>0.0</td>\n",
              "      <td>0.0</td>\n",
              "      <td>Not Participated in IPL 2021</td>\n",
              "      <td>Unsold</td>\n",
              "      <td>Unsold</td>\n",
              "      <td>In Auction</td>\n",
              "      <td>20.0</td>\n",
              "    </tr>\n",
              "    <tr>\n",
              "      <th>544</th>\n",
              "      <td>Shubham Singh</td>\n",
              "      <td>BOWLER</td>\n",
              "      <td>0.0</td>\n",
              "      <td>0.0</td>\n",
              "      <td>Not Participated in IPL 2021</td>\n",
              "      <td>Unsold</td>\n",
              "      <td>Unsold</td>\n",
              "      <td>In Auction</td>\n",
              "      <td>20.0</td>\n",
              "    </tr>\n",
              "    <tr>\n",
              "      <th>569</th>\n",
              "      <td>Shivam Sharma</td>\n",
              "      <td>ALL-ROUNDER</td>\n",
              "      <td>0.0</td>\n",
              "      <td>0.0</td>\n",
              "      <td>Not Participated in IPL 2021</td>\n",
              "      <td>Unsold</td>\n",
              "      <td>Unsold</td>\n",
              "      <td>In Auction</td>\n",
              "      <td>20.0</td>\n",
              "    </tr>\n",
              "  </tbody>\n",
              "</table>\n",
              "</div>\n",
              "    <div class=\"colab-df-buttons\">\n",
              "\n",
              "  <div class=\"colab-df-container\">\n",
              "    <button class=\"colab-df-convert\" onclick=\"convertToInteractive('df-9864342a-f843-4cab-9f84-065f3895c438')\"\n",
              "            title=\"Convert this dataframe to an interactive table.\"\n",
              "            style=\"display:none;\">\n",
              "\n",
              "  <svg xmlns=\"http://www.w3.org/2000/svg\" height=\"24px\" viewBox=\"0 -960 960 960\">\n",
              "    <path d=\"M120-120v-720h720v720H120Zm60-500h600v-160H180v160Zm220 220h160v-160H400v160Zm0 220h160v-160H400v160ZM180-400h160v-160H180v160Zm440 0h160v-160H620v160ZM180-180h160v-160H180v160Zm440 0h160v-160H620v160Z\"/>\n",
              "  </svg>\n",
              "    </button>\n",
              "\n",
              "  <style>\n",
              "    .colab-df-container {\n",
              "      display:flex;\n",
              "      gap: 12px;\n",
              "    }\n",
              "\n",
              "    .colab-df-convert {\n",
              "      background-color: #E8F0FE;\n",
              "      border: none;\n",
              "      border-radius: 50%;\n",
              "      cursor: pointer;\n",
              "      display: none;\n",
              "      fill: #1967D2;\n",
              "      height: 32px;\n",
              "      padding: 0 0 0 0;\n",
              "      width: 32px;\n",
              "    }\n",
              "\n",
              "    .colab-df-convert:hover {\n",
              "      background-color: #E2EBFA;\n",
              "      box-shadow: 0px 1px 2px rgba(60, 64, 67, 0.3), 0px 1px 3px 1px rgba(60, 64, 67, 0.15);\n",
              "      fill: #174EA6;\n",
              "    }\n",
              "\n",
              "    .colab-df-buttons div {\n",
              "      margin-bottom: 4px;\n",
              "    }\n",
              "\n",
              "    [theme=dark] .colab-df-convert {\n",
              "      background-color: #3B4455;\n",
              "      fill: #D2E3FC;\n",
              "    }\n",
              "\n",
              "    [theme=dark] .colab-df-convert:hover {\n",
              "      background-color: #434B5C;\n",
              "      box-shadow: 0px 1px 3px 1px rgba(0, 0, 0, 0.15);\n",
              "      filter: drop-shadow(0px 1px 2px rgba(0, 0, 0, 0.3));\n",
              "      fill: #FFFFFF;\n",
              "    }\n",
              "  </style>\n",
              "\n",
              "    <script>\n",
              "      const buttonEl =\n",
              "        document.querySelector('#df-9864342a-f843-4cab-9f84-065f3895c438 button.colab-df-convert');\n",
              "      buttonEl.style.display =\n",
              "        google.colab.kernel.accessAllowed ? 'block' : 'none';\n",
              "\n",
              "      async function convertToInteractive(key) {\n",
              "        const element = document.querySelector('#df-9864342a-f843-4cab-9f84-065f3895c438');\n",
              "        const dataTable =\n",
              "          await google.colab.kernel.invokeFunction('convertToInteractive',\n",
              "                                                    [key], {});\n",
              "        if (!dataTable) return;\n",
              "\n",
              "        const docLinkHtml = 'Like what you see? Visit the ' +\n",
              "          '<a target=\"_blank\" href=https://colab.research.google.com/notebooks/data_table.ipynb>data table notebook</a>'\n",
              "          + ' to learn more about interactive tables.';\n",
              "        element.innerHTML = '';\n",
              "        dataTable['output_type'] = 'display_data';\n",
              "        await google.colab.output.renderOutput(dataTable, element);\n",
              "        const docLink = document.createElement('div');\n",
              "        docLink.innerHTML = docLinkHtml;\n",
              "        element.appendChild(docLink);\n",
              "      }\n",
              "    </script>\n",
              "  </div>\n",
              "\n",
              "\n",
              "<div id=\"df-b1d504ed-69a2-4c7d-9d05-7bfa92f1a16b\">\n",
              "  <button class=\"colab-df-quickchart\" onclick=\"quickchart('df-b1d504ed-69a2-4c7d-9d05-7bfa92f1a16b')\"\n",
              "            title=\"Suggest charts.\"\n",
              "            style=\"display:none;\">\n",
              "\n",
              "<svg xmlns=\"http://www.w3.org/2000/svg\" height=\"24px\"viewBox=\"0 0 24 24\"\n",
              "     width=\"24px\">\n",
              "    <g>\n",
              "        <path d=\"M19 3H5c-1.1 0-2 .9-2 2v14c0 1.1.9 2 2 2h14c1.1 0 2-.9 2-2V5c0-1.1-.9-2-2-2zM9 17H7v-7h2v7zm4 0h-2V7h2v10zm4 0h-2v-4h2v4z\"/>\n",
              "    </g>\n",
              "</svg>\n",
              "  </button>\n",
              "\n",
              "<style>\n",
              "  .colab-df-quickchart {\n",
              "      --bg-color: #E8F0FE;\n",
              "      --fill-color: #1967D2;\n",
              "      --hover-bg-color: #E2EBFA;\n",
              "      --hover-fill-color: #174EA6;\n",
              "      --disabled-fill-color: #AAA;\n",
              "      --disabled-bg-color: #DDD;\n",
              "  }\n",
              "\n",
              "  [theme=dark] .colab-df-quickchart {\n",
              "      --bg-color: #3B4455;\n",
              "      --fill-color: #D2E3FC;\n",
              "      --hover-bg-color: #434B5C;\n",
              "      --hover-fill-color: #FFFFFF;\n",
              "      --disabled-bg-color: #3B4455;\n",
              "      --disabled-fill-color: #666;\n",
              "  }\n",
              "\n",
              "  .colab-df-quickchart {\n",
              "    background-color: var(--bg-color);\n",
              "    border: none;\n",
              "    border-radius: 50%;\n",
              "    cursor: pointer;\n",
              "    display: none;\n",
              "    fill: var(--fill-color);\n",
              "    height: 32px;\n",
              "    padding: 0;\n",
              "    width: 32px;\n",
              "  }\n",
              "\n",
              "  .colab-df-quickchart:hover {\n",
              "    background-color: var(--hover-bg-color);\n",
              "    box-shadow: 0 1px 2px rgba(60, 64, 67, 0.3), 0 1px 3px 1px rgba(60, 64, 67, 0.15);\n",
              "    fill: var(--button-hover-fill-color);\n",
              "  }\n",
              "\n",
              "  .colab-df-quickchart-complete:disabled,\n",
              "  .colab-df-quickchart-complete:disabled:hover {\n",
              "    background-color: var(--disabled-bg-color);\n",
              "    fill: var(--disabled-fill-color);\n",
              "    box-shadow: none;\n",
              "  }\n",
              "\n",
              "  .colab-df-spinner {\n",
              "    border: 2px solid var(--fill-color);\n",
              "    border-color: transparent;\n",
              "    border-bottom-color: var(--fill-color);\n",
              "    animation:\n",
              "      spin 1s steps(1) infinite;\n",
              "  }\n",
              "\n",
              "  @keyframes spin {\n",
              "    0% {\n",
              "      border-color: transparent;\n",
              "      border-bottom-color: var(--fill-color);\n",
              "      border-left-color: var(--fill-color);\n",
              "    }\n",
              "    20% {\n",
              "      border-color: transparent;\n",
              "      border-left-color: var(--fill-color);\n",
              "      border-top-color: var(--fill-color);\n",
              "    }\n",
              "    30% {\n",
              "      border-color: transparent;\n",
              "      border-left-color: var(--fill-color);\n",
              "      border-top-color: var(--fill-color);\n",
              "      border-right-color: var(--fill-color);\n",
              "    }\n",
              "    40% {\n",
              "      border-color: transparent;\n",
              "      border-right-color: var(--fill-color);\n",
              "      border-top-color: var(--fill-color);\n",
              "    }\n",
              "    60% {\n",
              "      border-color: transparent;\n",
              "      border-right-color: var(--fill-color);\n",
              "    }\n",
              "    80% {\n",
              "      border-color: transparent;\n",
              "      border-right-color: var(--fill-color);\n",
              "      border-bottom-color: var(--fill-color);\n",
              "    }\n",
              "    90% {\n",
              "      border-color: transparent;\n",
              "      border-bottom-color: var(--fill-color);\n",
              "    }\n",
              "  }\n",
              "</style>\n",
              "\n",
              "  <script>\n",
              "    async function quickchart(key) {\n",
              "      const quickchartButtonEl =\n",
              "        document.querySelector('#' + key + ' button');\n",
              "      quickchartButtonEl.disabled = true;  // To prevent multiple clicks.\n",
              "      quickchartButtonEl.classList.add('colab-df-spinner');\n",
              "      try {\n",
              "        const charts = await google.colab.kernel.invokeFunction(\n",
              "            'suggestCharts', [key], {});\n",
              "      } catch (error) {\n",
              "        console.error('Error during call to suggestCharts:', error);\n",
              "      }\n",
              "      quickchartButtonEl.classList.remove('colab-df-spinner');\n",
              "      quickchartButtonEl.classList.add('colab-df-quickchart-complete');\n",
              "    }\n",
              "    (() => {\n",
              "      let quickchartButtonEl =\n",
              "        document.querySelector('#df-b1d504ed-69a2-4c7d-9d05-7bfa92f1a16b button');\n",
              "      quickchartButtonEl.style.display =\n",
              "        google.colab.kernel.accessAllowed ? 'block' : 'none';\n",
              "    })();\n",
              "  </script>\n",
              "</div>\n",
              "    </div>\n",
              "  </div>\n"
            ]
          },
          "metadata": {},
          "execution_count": 32
        }
      ]
    },
    {
      "cell_type": "code",
      "source": [
        "# There are duplicate rows but the fact is that the names of players are same but the Players are different"
      ],
      "metadata": {
        "execution": {
          "iopub.status.busy": "2023-09-08T13:16:11.028510Z",
          "iopub.execute_input": "2023-09-08T13:16:11.028851Z",
          "iopub.status.idle": "2023-09-08T13:16:11.039971Z",
          "shell.execute_reply.started": "2023-09-08T13:16:11.028820Z",
          "shell.execute_reply": "2023-09-08T13:16:11.038876Z"
        },
        "trusted": true,
        "id": "5VvaJuhfgYJV"
      },
      "execution_count": null,
      "outputs": []
    },
    {
      "cell_type": "markdown",
      "source": [
        "# IPL AUCTION 2022 Dataset Analysis"
      ],
      "metadata": {
        "id": "ZTuMa3ASgYJV"
      }
    },
    {
      "cell_type": "code",
      "source": [
        "# 1. How many players participated in the Auction 2022 ?\n",
        "\n",
        "df.shape[0]"
      ],
      "metadata": {
        "execution": {
          "iopub.status.busy": "2023-09-08T13:16:11.041953Z",
          "iopub.execute_input": "2023-09-08T13:16:11.042776Z",
          "iopub.status.idle": "2023-09-08T13:16:11.055492Z",
          "shell.execute_reply.started": "2023-09-08T13:16:11.042727Z",
          "shell.execute_reply": "2023-09-08T13:16:11.054244Z"
        },
        "trusted": true,
        "id": "N81grd5WgYJV",
        "outputId": "05378eca-0ec9-4b2d-c022-922fd41063d4"
      },
      "execution_count": null,
      "outputs": [
        {
          "execution_count": 38,
          "output_type": "execute_result",
          "data": {
            "text/plain": "633"
          },
          "metadata": {}
        }
      ]
    },
    {
      "cell_type": "code",
      "source": [
        "# 2. Participation based on the Role(Batsman, Bowlers, Allrounders and WK)\n",
        "\n",
        "type = df['Type'].value_counts()\n",
        "type.reset_index()"
      ],
      "metadata": {
        "execution": {
          "iopub.status.busy": "2023-09-08T13:16:11.057175Z",
          "iopub.execute_input": "2023-09-08T13:16:11.057630Z",
          "iopub.status.idle": "2023-09-08T13:16:11.073852Z",
          "shell.execute_reply.started": "2023-09-08T13:16:11.057593Z",
          "shell.execute_reply": "2023-09-08T13:16:11.072924Z"
        },
        "trusted": true,
        "id": "UwGtLgApgYJV",
        "outputId": "683056a0-e9a7-428c-a2e1-b5f106f195ac"
      },
      "execution_count": null,
      "outputs": [
        {
          "execution_count": 39,
          "output_type": "execute_result",
          "data": {
            "text/plain": "          index  Type\n0   ALL-ROUNDER   242\n1        BOWLER   215\n2        BATTER   112\n3  WICKETKEEPER    64",
            "text/html": "<div>\n<style scoped>\n    .dataframe tbody tr th:only-of-type {\n        vertical-align: middle;\n    }\n\n    .dataframe tbody tr th {\n        vertical-align: top;\n    }\n\n    .dataframe thead th {\n        text-align: right;\n    }\n</style>\n<table border=\"1\" class=\"dataframe\">\n  <thead>\n    <tr style=\"text-align: right;\">\n      <th></th>\n      <th>index</th>\n      <th>Type</th>\n    </tr>\n  </thead>\n  <tbody>\n    <tr>\n      <th>0</th>\n      <td>ALL-ROUNDER</td>\n      <td>242</td>\n    </tr>\n    <tr>\n      <th>1</th>\n      <td>BOWLER</td>\n      <td>215</td>\n    </tr>\n    <tr>\n      <th>2</th>\n      <td>BATTER</td>\n      <td>112</td>\n    </tr>\n    <tr>\n      <th>3</th>\n      <td>WICKETKEEPER</td>\n      <td>64</td>\n    </tr>\n  </tbody>\n</table>\n</div>"
          },
          "metadata": {}
        }
      ]
    },
    {
      "cell_type": "code",
      "source": [
        "plt.pie(type.values, labels=type.index,labeldistance=1.2,autopct='%1.2f%%')\n",
        "plt.title('Role of Players Participated', fontsize = 15)\n",
        "plt.plot()"
      ],
      "metadata": {
        "execution": {
          "iopub.status.busy": "2023-09-08T13:16:11.075230Z",
          "iopub.execute_input": "2023-09-08T13:16:11.075909Z",
          "iopub.status.idle": "2023-09-08T13:16:11.285963Z",
          "shell.execute_reply.started": "2023-09-08T13:16:11.075872Z",
          "shell.execute_reply": "2023-09-08T13:16:11.284403Z"
        },
        "trusted": true,
        "id": "hxCKYybEgYJW",
        "outputId": "9fcb6ea8-51dd-4779-f66b-33f4f432c087"
      },
      "execution_count": null,
      "outputs": [
        {
          "execution_count": 40,
          "output_type": "execute_result",
          "data": {
            "text/plain": "[]"
          },
          "metadata": {}
        },
        {
          "output_type": "display_data",
          "data": {
            "text/plain": "<Figure size 432x288 with 1 Axes>",
            "image/png": "[encoded data removed]"
          },
          "metadata": {}
        }
      ]
    },
    {
      "cell_type": "code",
      "source": [
        "# 3. How many Players Were Sold in IPL 2022 Auctions ?\n",
        "plt.figure(figsize=(5,5))\n",
        "fig = sns.countplot(df['status'],palette=['Green','Red'])\n",
        "plt.xlabel('Sold or Unsold')\n",
        "plt.ylabel('Number of Players')\n",
        "plt.title('Sold vs Unsold', fontsize=15)\n",
        "plt.plot()"
      ],
      "metadata": {
        "execution": {
          "iopub.status.busy": "2023-09-08T13:16:11.288301Z",
          "iopub.execute_input": "2023-09-08T13:16:11.289254Z",
          "iopub.status.idle": "2023-09-08T13:16:11.529822Z",
          "shell.execute_reply.started": "2023-09-08T13:16:11.289194Z",
          "shell.execute_reply": "2023-09-08T13:16:11.529019Z"
        },
        "trusted": true,
        "id": "f0zoTA5FgYJX",
        "outputId": "ba1475c8-c21d-4f2c-f95a-dbff55e61fba"
      },
      "execution_count": null,
      "outputs": [
        {
          "execution_count": 41,
          "output_type": "execute_result",
          "data": {
            "text/plain": "[]"
          },
          "metadata": {}
        },
        {
          "output_type": "display_data",
          "data": {
            "text/plain": "<Figure size 360x360 with 1 Axes>",
            "image/png": "[encoded data removed]"
          },
          "metadata": {
            "needs_background": "light"
          }
        }
      ]
    },
    {
      "cell_type": "code",
      "source": [
        "# 4. How many Players Brought by Each Team\n",
        "plt.figure(figsize=(20,10))\n",
        "fig = sns.countplot(df[df['Curr_team']!='Unsold']['Curr_team'])\n",
        "plt.xlabel('Name of Team')\n",
        "plt.ylabel('Number of Players')\n",
        "plt.title('Players Brought by each Team', fontsize=15)\n",
        "plt.xticks(rotation=90)\n",
        "plt.plot()\n"
      ],
      "metadata": {
        "execution": {
          "iopub.status.busy": "2023-09-08T13:16:11.531108Z",
          "iopub.execute_input": "2023-09-08T13:16:11.532026Z",
          "iopub.status.idle": "2023-09-08T13:16:11.905549Z",
          "shell.execute_reply.started": "2023-09-08T13:16:11.531990Z",
          "shell.execute_reply": "2023-09-08T13:16:11.904124Z"
        },
        "trusted": true,
        "id": "Dc3IBRFJgYJX",
        "outputId": "1db3ca0e-c7c4-4d20-8bdd-e6e339212e02"
      },
      "execution_count": null,
      "outputs": [
        {
          "execution_count": 42,
          "output_type": "execute_result",
          "data": {
            "text/plain": "[]"
          },
          "metadata": {}
        },
        {
          "output_type": "display_data",
          "data": {
            "text/plain": "<Figure size 1440x720 with 1 Axes>",
            "image/png": "[encoded data removed]"
          },
          "metadata": {
            "needs_background": "light"
          }
        }
      ]
    },
    {
      "cell_type": "code",
      "source": [
        "# 5. How many players Retained/DraftPicked by Each team ?\n",
        "\n",
        "df.groupby(['Curr_team','retention'])['retention'].count()[:-1]"
      ],
      "metadata": {
        "execution": {
          "iopub.status.busy": "2023-09-08T13:16:11.907530Z",
          "iopub.execute_input": "2023-09-08T13:16:11.908233Z",
          "iopub.status.idle": "2023-09-08T13:16:11.921942Z",
          "shell.execute_reply.started": "2023-09-08T13:16:11.908194Z",
          "shell.execute_reply": "2023-09-08T13:16:11.920584Z"
        },
        "trusted": true,
        "id": "KkJDnrIwgYJX",
        "outputId": "50a9532f-e8ee-429e-9128-266d4512532c"
      },
      "execution_count": null,
      "outputs": [
        {
          "execution_count": 43,
          "output_type": "execute_result",
          "data": {
            "text/plain": "Curr_team                    retention \nChennai Super Kings          In Auction    21\n                             Retained       4\nDelhi Capitals               In Auction    20\n                             Retained       4\nGujarat Titans               Draft Pick     3\n                             In Auction    19\nKolkata Knight Riders        In Auction    21\n                             Retained       4\nLucknow Super Giants         Draft Pick     3\n                             In Auction    19\nMumbai Indians               In Auction    21\n                             Retained       4\nPunjab Kings                 In Auction    23\n                             Retained       2\nRajasthan Royals             In Auction    21\n                             Retained       3\nRoyal Challengers Bangalore  In Auction    19\n                             Retained       3\nSunrisers Hyderabad          In Auction    20\n                             Retained       3\nName: retention, dtype: int64"
          },
          "metadata": {}
        }
      ]
    },
    {
      "cell_type": "code",
      "source": [
        "# 6. How many Players were Brought for each Role\n",
        "\n",
        "df.groupby(['Type','status'])['Player'].count().reset_index()"
      ],
      "metadata": {
        "execution": {
          "iopub.status.busy": "2023-09-08T13:16:11.931876Z",
          "iopub.execute_input": "2023-09-08T13:16:11.932958Z",
          "iopub.status.idle": "2023-09-08T13:16:11.948522Z",
          "shell.execute_reply.started": "2023-09-08T13:16:11.932917Z",
          "shell.execute_reply": "2023-09-08T13:16:11.947193Z"
        },
        "trusted": true,
        "id": "v-AmRvzagYJX",
        "outputId": "dbbf2f9a-8982-4852-ac29-cde00cdd0118"
      },
      "execution_count": null,
      "outputs": [
        {
          "execution_count": 44,
          "output_type": "execute_result",
          "data": {
            "text/plain": "           Type  status  Player\n0   ALL-ROUNDER  Unsold     154\n1   ALL-ROUNDER    sold      88\n2        BATTER  Unsold      67\n3        BATTER    sold      45\n4        BOWLER  Unsold     138\n5        BOWLER    sold      77\n6  WICKETKEEPER  Unsold      37\n7  WICKETKEEPER    sold      27",
            "text/html": "<div>\n<style scoped>\n    .dataframe tbody tr th:only-of-type {\n        vertical-align: middle;\n    }\n\n    .dataframe tbody tr th {\n        vertical-align: top;\n    }\n\n    .dataframe thead th {\n        text-align: right;\n    }\n</style>\n<table border=\"1\" class=\"dataframe\">\n  <thead>\n    <tr style=\"text-align: right;\">\n      <th></th>\n      <th>Type</th>\n      <th>status</th>\n      <th>Player</th>\n    </tr>\n  </thead>\n  <tbody>\n    <tr>\n      <th>0</th>\n      <td>ALL-ROUNDER</td>\n      <td>Unsold</td>\n      <td>154</td>\n    </tr>\n    <tr>\n      <th>1</th>\n      <td>ALL-ROUNDER</td>\n      <td>sold</td>\n      <td>88</td>\n    </tr>\n    <tr>\n      <th>2</th>\n      <td>BATTER</td>\n      <td>Unsold</td>\n      <td>67</td>\n    </tr>\n    <tr>\n      <th>3</th>\n      <td>BATTER</td>\n      <td>sold</td>\n      <td>45</td>\n    </tr>\n    <tr>\n      <th>4</th>\n      <td>BOWLER</td>\n      <td>Unsold</td>\n      <td>138</td>\n    </tr>\n    <tr>\n      <th>5</th>\n      <td>BOWLER</td>\n      <td>sold</td>\n      <td>77</td>\n    </tr>\n    <tr>\n      <th>6</th>\n      <td>WICKETKEEPER</td>\n      <td>Unsold</td>\n      <td>37</td>\n    </tr>\n    <tr>\n      <th>7</th>\n      <td>WICKETKEEPER</td>\n      <td>sold</td>\n      <td>27</td>\n    </tr>\n  </tbody>\n</table>\n</div>"
          },
          "metadata": {}
        }
      ]
    },
    {
      "cell_type": "code",
      "source": [
        "# 7. Which Are the players who participated in IPL 2021 and will be participating in IPL 2022 and playing in same team\n",
        "\n",
        "df.replace({'SRH':'Sunrisers Hyderabad','CSK':'Chennai Super Kings','MI':'Mumbai Indians',\n",
        "            'KKR':'Kolkata Knight Riders','RR':'Rajasthan Royals','PBKS':'Punjab Kings',\n",
        "            'DC':'Delhi Capitals','RCB':'Royal Challengers Bangalore'},inplace =True)"
      ],
      "metadata": {
        "execution": {
          "iopub.status.busy": "2023-09-08T13:16:11.950239Z",
          "iopub.execute_input": "2023-09-08T13:16:11.950608Z",
          "iopub.status.idle": "2023-09-08T13:16:11.962223Z",
          "shell.execute_reply.started": "2023-09-08T13:16:11.950574Z",
          "shell.execute_reply": "2023-09-08T13:16:11.961259Z"
        },
        "trusted": true,
        "id": "qzOSVvn_gYJX"
      },
      "execution_count": null,
      "outputs": []
    },
    {
      "cell_type": "code",
      "source": [
        "same_team = df[(df['Curr_team']==df['Prev_team']) & (df['retention']=='In Auction')]\n",
        "same_team"
      ],
      "metadata": {
        "execution": {
          "iopub.status.busy": "2023-09-08T13:16:11.963807Z",
          "iopub.execute_input": "2023-09-08T13:16:11.964142Z",
          "iopub.status.idle": "2023-09-08T13:16:12.006869Z",
          "shell.execute_reply.started": "2023-09-08T13:16:11.964111Z",
          "shell.execute_reply": "2023-09-08T13:16:12.005548Z"
        },
        "trusted": true,
        "id": "sMaOklzsgYJX",
        "outputId": "a437dd5f-417c-4c2f-a613-91b045065e23"
      },
      "execution_count": null,
      "outputs": [
        {
          "execution_count": 46,
          "output_type": "execute_result",
          "data": {
            "text/plain": "                  Player          Type  Sold_for_lakh  Cost_in_dollars  \\\n23         Deepak Chahar        BOWLER         1400.0           1820.0   \n26         Ambati Rayudu  WICKETKEEPER          675.0            877.5   \n28          Dwayne Bravo   ALL-ROUNDER          440.0            572.0   \n31         Robin Uthappa        BATTER          200.0            260.0   \n32      Mitchell Santner   ALL-ROUNDER          190.0            247.0   \n39       K.Bhagath Varma   ALL-ROUNDER           20.0             26.0   \n41         N. Jagadeesan  WICKETKEEPER           20.0             26.0   \n42      C.Hari Nishaanth        BATTER           20.0             26.0   \n43             K.M. Asif        BOWLER           20.0             26.0   \n62           Lalit Yadav   ALL-ROUNDER           65.0             84.5   \n64          Pravin Dubey   ALL-ROUNDER           50.0             65.0   \n69           Ripal Patel   ALL-ROUNDER           20.0             26.0   \n73           Nitish Rana   ALL-ROUNDER          800.0           1040.0   \n76           Pat Cummins   ALL-ROUNDER          725.0            942.5   \n77           Shivam Mavi   ALL-ROUNDER          725.0            942.5   \n81           Tim Southee        BOWLER          150.0            195.0   \n85       Sheldon Jackson  WICKETKEEPER           60.0             78.0   \n99         Shahrukh Khan   ALL-ROUNDER          900.0           1170.0   \n105        Harpreet Brar   ALL-ROUNDER          380.0            494.0   \n108         Nathan Ellis        BOWLER           75.0             97.5   \n109    Prabhsimran Singh  WICKETKEEPER           60.0             78.0   \n114          Ishan Porel        BOWLER           25.0             32.5   \n144         Ishan Kishan  WICKETKEEPER         1525.0           1982.5   \n160      Arjun Tendulkar   ALL-ROUNDER           30.0             39.0   \n162     Anmolpreet Singh        BATTER           20.0             26.0   \n170    Wanindu Hasaranga   ALL-ROUNDER         1075.0           1397.5   \n171        Harshal Patel   ALL-ROUNDER         1075.0           1397.5   \n177       Shahbaz Ahamad   ALL-ROUNDER          240.0            312.0   \n181           Finn Allen        BATTER           80.0            104.0   \n185  Suyash Prabhudessai   ALL-ROUNDER           30.0             39.0   \n187           Akash Deep        BOWLER           20.0             26.0   \n199          Riyan Parag   ALL-ROUNDER          380.0            494.0   \n207         K.C Cariappa        BOWLER           30.0             39.0   \n212         Kuldip Yadav        BOWLER           20.0             26.0   \n219      Abhishek Sharma   ALL-ROUNDER          650.0            845.0   \n221    Bhuvneshwar Kumar        BOWLER          420.0            546.0   \n222         T. Natarajan        BOWLER          400.0            520.0   \n232          Priyam Garg        BATTER           20.0             26.0   \n234   Jagadeesha Suchith        BOWLER           20.0             26.0   \n\n                       Prev_team                    Curr_team status  \\\n23           Chennai Super Kings          Chennai Super Kings   sold   \n26           Chennai Super Kings          Chennai Super Kings   sold   \n28           Chennai Super Kings          Chennai Super Kings   sold   \n31           Chennai Super Kings          Chennai Super Kings   sold   \n32           Chennai Super Kings          Chennai Super Kings   sold   \n39           Chennai Super Kings          Chennai Super Kings   sold   \n41           Chennai Super Kings          Chennai Super Kings   sold   \n42           Chennai Super Kings          Chennai Super Kings   sold   \n43           Chennai Super Kings          Chennai Super Kings   sold   \n62                Delhi Capitals               Delhi Capitals   sold   \n64                Delhi Capitals               Delhi Capitals   sold   \n69                Delhi Capitals               Delhi Capitals   sold   \n73         Kolkata Knight Riders        Kolkata Knight Riders   sold   \n76         Kolkata Knight Riders        Kolkata Knight Riders   sold   \n77         Kolkata Knight Riders        Kolkata Knight Riders   sold   \n81         Kolkata Knight Riders        Kolkata Knight Riders   sold   \n85         Kolkata Knight Riders        Kolkata Knight Riders   sold   \n99                  Punjab Kings                 Punjab Kings   sold   \n105                 Punjab Kings                 Punjab Kings   sold   \n108                 Punjab Kings                 Punjab Kings   sold   \n109                 Punjab Kings                 Punjab Kings   sold   \n114                 Punjab Kings                 Punjab Kings   sold   \n144               Mumbai Indians               Mumbai Indians   sold   \n160               Mumbai Indians               Mumbai Indians   sold   \n162               Mumbai Indians               Mumbai Indians   sold   \n170  Royal Challengers Bangalore  Royal Challengers Bangalore   sold   \n171  Royal Challengers Bangalore  Royal Challengers Bangalore   sold   \n177  Royal Challengers Bangalore  Royal Challengers Bangalore   sold   \n181  Royal Challengers Bangalore  Royal Challengers Bangalore   sold   \n185  Royal Challengers Bangalore  Royal Challengers Bangalore   sold   \n187  Royal Challengers Bangalore  Royal Challengers Bangalore   sold   \n199             Rajasthan Royals             Rajasthan Royals   sold   \n207             Rajasthan Royals             Rajasthan Royals   sold   \n212             Rajasthan Royals             Rajasthan Royals   sold   \n219          Sunrisers Hyderabad          Sunrisers Hyderabad   sold   \n221          Sunrisers Hyderabad          Sunrisers Hyderabad   sold   \n222          Sunrisers Hyderabad          Sunrisers Hyderabad   sold   \n232          Sunrisers Hyderabad          Sunrisers Hyderabad   sold   \n234          Sunrisers Hyderabad          Sunrisers Hyderabad   sold   \n\n      retention  base_price  \n23   In Auction       200.0  \n26   In Auction       200.0  \n28   In Auction       200.0  \n31   In Auction       200.0  \n32   In Auction       100.0  \n39   In Auction        20.0  \n41   In Auction        20.0  \n42   In Auction        20.0  \n43   In Auction        20.0  \n62   In Auction        20.0  \n64   In Auction        20.0  \n69   In Auction        20.0  \n73   In Auction       100.0  \n76   In Auction       200.0  \n77   In Auction        40.0  \n81   In Auction       150.0  \n85   In Auction        30.0  \n99   In Auction        40.0  \n105  In Auction        20.0  \n108  In Auction        75.0  \n109  In Auction        20.0  \n114  In Auction        20.0  \n144  In Auction       200.0  \n160  In Auction        20.0  \n162  In Auction        20.0  \n170  In Auction       100.0  \n171  In Auction       200.0  \n177  In Auction        30.0  \n181  In Auction        50.0  \n185  In Auction        20.0  \n187  In Auction        20.0  \n199  In Auction        30.0  \n207  In Auction        20.0  \n212  In Auction        20.0  \n219  In Auction        20.0  \n221  In Auction       200.0  \n222  In Auction       100.0  \n232  In Auction        20.0  \n234  In Auction        20.0  ",
            "text/html": "<div>\n<style scoped>\n    .dataframe tbody tr th:only-of-type {\n        vertical-align: middle;\n    }\n\n    .dataframe tbody tr th {\n        vertical-align: top;\n    }\n\n    .dataframe thead th {\n        text-align: right;\n    }\n</style>\n<table border=\"1\" class=\"dataframe\">\n  <thead>\n    <tr style=\"text-align: right;\">\n      <th></th>\n      <th>Player</th>\n      <th>Type</th>\n      <th>Sold_for_lakh</th>\n      <th>Cost_in_dollars</th>\n      <th>Prev_team</th>\n      <th>Curr_team</th>\n      <th>status</th>\n      <th>retention</th>\n      <th>base_price</th>\n    </tr>\n  </thead>\n  <tbody>\n    <tr>\n      <th>23</th>\n      <td>Deepak Chahar</td>\n      <td>BOWLER</td>\n      <td>1400.0</td>\n      <td>1820.0</td>\n      <td>Chennai Super Kings</td>\n      <td>Chennai Super Kings</td>\n      <td>sold</td>\n      <td>In Auction</td>\n      <td>200.0</td>\n    </tr>\n    <tr>\n      <th>26</th>\n      <td>Ambati Rayudu</td>\n      <td>WICKETKEEPER</td>\n      <td>675.0</td>\n      <td>877.5</td>\n      <td>Chennai Super Kings</td>\n      <td>Chennai Super Kings</td>\n      <td>sold</td>\n      <td>In Auction</td>\n      <td>200.0</td>\n    </tr>\n    <tr>\n      <th>28</th>\n      <td>Dwayne Bravo</td>\n      <td>ALL-ROUNDER</td>\n      <td>440.0</td>\n      <td>572.0</td>\n      <td>Chennai Super Kings</td>\n      <td>Chennai Super Kings</td>\n      <td>sold</td>\n      <td>In Auction</td>\n      <td>200.0</td>\n    </tr>\n    <tr>\n      <th>31</th>\n      <td>Robin Uthappa</td>\n      <td>BATTER</td>\n      <td>200.0</td>\n      <td>260.0</td>\n      <td>Chennai Super Kings</td>\n      <td>Chennai Super Kings</td>\n      <td>sold</td>\n      <td>In Auction</td>\n      <td>200.0</td>\n    </tr>\n    <tr>\n      <th>32</th>\n      <td>Mitchell Santner</td>\n      <td>ALL-ROUNDER</td>\n      <td>190.0</td>\n      <td>247.0</td>\n      <td>Chennai Super Kings</td>\n      <td>Chennai Super Kings</td>\n      <td>sold</td>\n      <td>In Auction</td>\n      <td>100.0</td>\n    </tr>\n    <tr>\n      <th>39</th>\n      <td>K.Bhagath Varma</td>\n      <td>ALL-ROUNDER</td>\n      <td>20.0</td>\n      <td>26.0</td>\n      <td>Chennai Super Kings</td>\n      <td>Chennai Super Kings</td>\n      <td>sold</td>\n      <td>In Auction</td>\n      <td>20.0</td>\n    </tr>\n    <tr>\n      <th>41</th>\n      <td>N. Jagadeesan</td>\n      <td>WICKETKEEPER</td>\n      <td>20.0</td>\n      <td>26.0</td>\n      <td>Chennai Super Kings</td>\n      <td>Chennai Super Kings</td>\n      <td>sold</td>\n      <td>In Auction</td>\n      <td>20.0</td>\n    </tr>\n    <tr>\n      <th>42</th>\n      <td>C.Hari Nishaanth</td>\n      <td>BATTER</td>\n      <td>20.0</td>\n      <td>26.0</td>\n      <td>Chennai Super Kings</td>\n      <td>Chennai Super Kings</td>\n      <td>sold</td>\n      <td>In Auction</td>\n      <td>20.0</td>\n    </tr>\n    <tr>\n      <th>43</th>\n      <td>K.M. Asif</td>\n      <td>BOWLER</td>\n      <td>20.0</td>\n      <td>26.0</td>\n      <td>Chennai Super Kings</td>\n      <td>Chennai Super Kings</td>\n      <td>sold</td>\n      <td>In Auction</td>\n      <td>20.0</td>\n    </tr>\n    <tr>\n      <th>62</th>\n      <td>Lalit Yadav</td>\n      <td>ALL-ROUNDER</td>\n      <td>65.0</td>\n      <td>84.5</td>\n      <td>Delhi Capitals</td>\n      <td>Delhi Capitals</td>\n      <td>sold</td>\n      <td>In Auction</td>\n      <td>20.0</td>\n    </tr>\n    <tr>\n      <th>64</th>\n      <td>Pravin Dubey</td>\n      <td>ALL-ROUNDER</td>\n      <td>50.0</td>\n      <td>65.0</td>\n      <td>Delhi Capitals</td>\n      <td>Delhi Capitals</td>\n      <td>sold</td>\n      <td>In Auction</td>\n      <td>20.0</td>\n    </tr>\n    <tr>\n      <th>69</th>\n      <td>Ripal Patel</td>\n      <td>ALL-ROUNDER</td>\n      <td>20.0</td>\n      <td>26.0</td>\n      <td>Delhi Capitals</td>\n      <td>Delhi Capitals</td>\n      <td>sold</td>\n      <td>In Auction</td>\n      <td>20.0</td>\n    </tr>\n    <tr>\n      <th>73</th>\n      <td>Nitish Rana</td>\n      <td>ALL-ROUNDER</td>\n      <td>800.0</td>\n      <td>1040.0</td>\n      <td>Kolkata Knight Riders</td>\n      <td>Kolkata Knight Riders</td>\n      <td>sold</td>\n      <td>In Auction</td>\n      <td>100.0</td>\n    </tr>\n    <tr>\n      <th>76</th>\n      <td>Pat Cummins</td>\n      <td>ALL-ROUNDER</td>\n      <td>725.0</td>\n      <td>942.5</td>\n      <td>Kolkata Knight Riders</td>\n      <td>Kolkata Knight Riders</td>\n      <td>sold</td>\n      <td>In Auction</td>\n      <td>200.0</td>\n    </tr>\n    <tr>\n      <th>77</th>\n      <td>Shivam Mavi</td>\n      <td>ALL-ROUNDER</td>\n      <td>725.0</td>\n      <td>942.5</td>\n      <td>Kolkata Knight Riders</td>\n      <td>Kolkata Knight Riders</td>\n      <td>sold</td>\n      <td>In Auction</td>\n      <td>40.0</td>\n    </tr>\n    <tr>\n      <th>81</th>\n      <td>Tim Southee</td>\n      <td>BOWLER</td>\n      <td>150.0</td>\n      <td>195.0</td>\n      <td>Kolkata Knight Riders</td>\n      <td>Kolkata Knight Riders</td>\n      <td>sold</td>\n      <td>In Auction</td>\n      <td>150.0</td>\n    </tr>\n    <tr>\n      <th>85</th>\n      <td>Sheldon Jackson</td>\n      <td>WICKETKEEPER</td>\n      <td>60.0</td>\n      <td>78.0</td>\n      <td>Kolkata Knight Riders</td>\n      <td>Kolkata Knight Riders</td>\n      <td>sold</td>\n      <td>In Auction</td>\n      <td>30.0</td>\n    </tr>\n    <tr>\n      <th>99</th>\n      <td>Shahrukh Khan</td>\n      <td>ALL-ROUNDER</td>\n      <td>900.0</td>\n      <td>1170.0</td>\n      <td>Punjab Kings</td>\n      <td>Punjab Kings</td>\n      <td>sold</td>\n      <td>In Auction</td>\n      <td>40.0</td>\n    </tr>\n    <tr>\n      <th>105</th>\n      <td>Harpreet Brar</td>\n      <td>ALL-ROUNDER</td>\n      <td>380.0</td>\n      <td>494.0</td>\n      <td>Punjab Kings</td>\n      <td>Punjab Kings</td>\n      <td>sold</td>\n      <td>In Auction</td>\n      <td>20.0</td>\n    </tr>\n    <tr>\n      <th>108</th>\n      <td>Nathan Ellis</td>\n      <td>BOWLER</td>\n      <td>75.0</td>\n      <td>97.5</td>\n      <td>Punjab Kings</td>\n      <td>Punjab Kings</td>\n      <td>sold</td>\n      <td>In Auction</td>\n      <td>75.0</td>\n    </tr>\n    <tr>\n      <th>109</th>\n      <td>Prabhsimran Singh</td>\n      <td>WICKETKEEPER</td>\n      <td>60.0</td>\n      <td>78.0</td>\n      <td>Punjab Kings</td>\n      <td>Punjab Kings</td>\n      <td>sold</td>\n      <td>In Auction</td>\n      <td>20.0</td>\n    </tr>\n    <tr>\n      <th>114</th>\n      <td>Ishan Porel</td>\n      <td>BOWLER</td>\n      <td>25.0</td>\n      <td>32.5</td>\n      <td>Punjab Kings</td>\n      <td>Punjab Kings</td>\n      <td>sold</td>\n      <td>In Auction</td>\n      <td>20.0</td>\n    </tr>\n    <tr>\n      <th>144</th>\n      <td>Ishan Kishan</td>\n      <td>WICKETKEEPER</td>\n      <td>1525.0</td>\n      <td>1982.5</td>\n      <td>Mumbai Indians</td>\n      <td>Mumbai Indians</td>\n      <td>sold</td>\n      <td>In Auction</td>\n      <td>200.0</td>\n    </tr>\n    <tr>\n      <th>160</th>\n      <td>Arjun Tendulkar</td>\n      <td>ALL-ROUNDER</td>\n      <td>30.0</td>\n      <td>39.0</td>\n      <td>Mumbai Indians</td>\n      <td>Mumbai Indians</td>\n      <td>sold</td>\n      <td>In Auction</td>\n      <td>20.0</td>\n    </tr>\n    <tr>\n      <th>162</th>\n      <td>Anmolpreet Singh</td>\n      <td>BATTER</td>\n      <td>20.0</td>\n      <td>26.0</td>\n      <td>Mumbai Indians</td>\n      <td>Mumbai Indians</td>\n      <td>sold</td>\n      <td>In Auction</td>\n      <td>20.0</td>\n    </tr>\n    <tr>\n      <th>170</th>\n      <td>Wanindu Hasaranga</td>\n      <td>ALL-ROUNDER</td>\n      <td>1075.0</td>\n      <td>1397.5</td>\n      <td>Royal Challengers Bangalore</td>\n      <td>Royal Challengers Bangalore</td>\n      <td>sold</td>\n      <td>In Auction</td>\n      <td>100.0</td>\n    </tr>\n    <tr>\n      <th>171</th>\n      <td>Harshal Patel</td>\n      <td>ALL-ROUNDER</td>\n      <td>1075.0</td>\n      <td>1397.5</td>\n      <td>Royal Challengers Bangalore</td>\n      <td>Royal Challengers Bangalore</td>\n      <td>sold</td>\n      <td>In Auction</td>\n      <td>200.0</td>\n    </tr>\n    <tr>\n      <th>177</th>\n      <td>Shahbaz Ahamad</td>\n      <td>ALL-ROUNDER</td>\n      <td>240.0</td>\n      <td>312.0</td>\n      <td>Royal Challengers Bangalore</td>\n      <td>Royal Challengers Bangalore</td>\n      <td>sold</td>\n      <td>In Auction</td>\n      <td>30.0</td>\n    </tr>\n    <tr>\n      <th>181</th>\n      <td>Finn Allen</td>\n      <td>BATTER</td>\n      <td>80.0</td>\n      <td>104.0</td>\n      <td>Royal Challengers Bangalore</td>\n      <td>Royal Challengers Bangalore</td>\n      <td>sold</td>\n      <td>In Auction</td>\n      <td>50.0</td>\n    </tr>\n    <tr>\n      <th>185</th>\n      <td>Suyash Prabhudessai</td>\n      <td>ALL-ROUNDER</td>\n      <td>30.0</td>\n      <td>39.0</td>\n      <td>Royal Challengers Bangalore</td>\n      <td>Royal Challengers Bangalore</td>\n      <td>sold</td>\n      <td>In Auction</td>\n      <td>20.0</td>\n    </tr>\n    <tr>\n      <th>187</th>\n      <td>Akash Deep</td>\n      <td>BOWLER</td>\n      <td>20.0</td>\n      <td>26.0</td>\n      <td>Royal Challengers Bangalore</td>\n      <td>Royal Challengers Bangalore</td>\n      <td>sold</td>\n      <td>In Auction</td>\n      <td>20.0</td>\n    </tr>\n    <tr>\n      <th>199</th>\n      <td>Riyan Parag</td>\n      <td>ALL-ROUNDER</td>\n      <td>380.0</td>\n      <td>494.0</td>\n      <td>Rajasthan Royals</td>\n      <td>Rajasthan Royals</td>\n      <td>sold</td>\n      <td>In Auction</td>\n      <td>30.0</td>\n    </tr>\n    <tr>\n      <th>207</th>\n      <td>K.C Cariappa</td>\n      <td>BOWLER</td>\n      <td>30.0</td>\n      <td>39.0</td>\n      <td>Rajasthan Royals</td>\n      <td>Rajasthan Royals</td>\n      <td>sold</td>\n      <td>In Auction</td>\n      <td>20.0</td>\n    </tr>\n    <tr>\n      <th>212</th>\n      <td>Kuldip Yadav</td>\n      <td>BOWLER</td>\n      <td>20.0</td>\n      <td>26.0</td>\n      <td>Rajasthan Royals</td>\n      <td>Rajasthan Royals</td>\n      <td>sold</td>\n      <td>In Auction</td>\n      <td>20.0</td>\n    </tr>\n    <tr>\n      <th>219</th>\n      <td>Abhishek Sharma</td>\n      <td>ALL-ROUNDER</td>\n      <td>650.0</td>\n      <td>845.0</td>\n      <td>Sunrisers Hyderabad</td>\n      <td>Sunrisers Hyderabad</td>\n      <td>sold</td>\n      <td>In Auction</td>\n      <td>20.0</td>\n    </tr>\n    <tr>\n      <th>221</th>\n      <td>Bhuvneshwar Kumar</td>\n      <td>BOWLER</td>\n      <td>420.0</td>\n      <td>546.0</td>\n      <td>Sunrisers Hyderabad</td>\n      <td>Sunrisers Hyderabad</td>\n      <td>sold</td>\n      <td>In Auction</td>\n      <td>200.0</td>\n    </tr>\n    <tr>\n      <th>222</th>\n      <td>T. Natarajan</td>\n      <td>BOWLER</td>\n      <td>400.0</td>\n      <td>520.0</td>\n      <td>Sunrisers Hyderabad</td>\n      <td>Sunrisers Hyderabad</td>\n      <td>sold</td>\n      <td>In Auction</td>\n      <td>100.0</td>\n    </tr>\n    <tr>\n      <th>232</th>\n      <td>Priyam Garg</td>\n      <td>BATTER</td>\n      <td>20.0</td>\n      <td>26.0</td>\n      <td>Sunrisers Hyderabad</td>\n      <td>Sunrisers Hyderabad</td>\n      <td>sold</td>\n      <td>In Auction</td>\n      <td>20.0</td>\n    </tr>\n    <tr>\n      <th>234</th>\n      <td>Jagadeesha Suchith</td>\n      <td>BOWLER</td>\n      <td>20.0</td>\n      <td>26.0</td>\n      <td>Sunrisers Hyderabad</td>\n      <td>Sunrisers Hyderabad</td>\n      <td>sold</td>\n      <td>In Auction</td>\n      <td>20.0</td>\n    </tr>\n  </tbody>\n</table>\n</div>"
          },
          "metadata": {}
        }
      ]
    },
    {
      "cell_type": "code",
      "source": [
        "same_team[same_team.Curr_team=='Royal Challengers Bangalore']"
      ],
      "metadata": {
        "execution": {
          "iopub.status.busy": "2023-09-08T13:16:12.008779Z",
          "iopub.execute_input": "2023-09-08T13:16:12.009308Z",
          "iopub.status.idle": "2023-09-08T13:16:12.030915Z",
          "shell.execute_reply.started": "2023-09-08T13:16:12.009260Z",
          "shell.execute_reply": "2023-09-08T13:16:12.029624Z"
        },
        "trusted": true,
        "id": "kvI2LYLGgYJY",
        "outputId": "8ad2c3ad-4da0-4173-98d0-0b1ad553e969"
      },
      "execution_count": null,
      "outputs": [
        {
          "execution_count": 47,
          "output_type": "execute_result",
          "data": {
            "text/plain": "                  Player         Type  Sold_for_lakh  Cost_in_dollars  \\\n170    Wanindu Hasaranga  ALL-ROUNDER         1075.0           1397.5   \n171        Harshal Patel  ALL-ROUNDER         1075.0           1397.5   \n177       Shahbaz Ahamad  ALL-ROUNDER          240.0            312.0   \n181           Finn Allen       BATTER           80.0            104.0   \n185  Suyash Prabhudessai  ALL-ROUNDER           30.0             39.0   \n187           Akash Deep       BOWLER           20.0             26.0   \n\n                       Prev_team                    Curr_team status  \\\n170  Royal Challengers Bangalore  Royal Challengers Bangalore   sold   \n171  Royal Challengers Bangalore  Royal Challengers Bangalore   sold   \n177  Royal Challengers Bangalore  Royal Challengers Bangalore   sold   \n181  Royal Challengers Bangalore  Royal Challengers Bangalore   sold   \n185  Royal Challengers Bangalore  Royal Challengers Bangalore   sold   \n187  Royal Challengers Bangalore  Royal Challengers Bangalore   sold   \n\n      retention  base_price  \n170  In Auction       100.0  \n171  In Auction       200.0  \n177  In Auction        30.0  \n181  In Auction        50.0  \n185  In Auction        20.0  \n187  In Auction        20.0  ",
            "text/html": "<div>\n<style scoped>\n    .dataframe tbody tr th:only-of-type {\n        vertical-align: middle;\n    }\n\n    .dataframe tbody tr th {\n        vertical-align: top;\n    }\n\n    .dataframe thead th {\n        text-align: right;\n    }\n</style>\n<table border=\"1\" class=\"dataframe\">\n  <thead>\n    <tr style=\"text-align: right;\">\n      <th></th>\n      <th>Player</th>\n      <th>Type</th>\n      <th>Sold_for_lakh</th>\n      <th>Cost_in_dollars</th>\n      <th>Prev_team</th>\n      <th>Curr_team</th>\n      <th>status</th>\n      <th>retention</th>\n      <th>base_price</th>\n    </tr>\n  </thead>\n  <tbody>\n    <tr>\n      <th>170</th>\n      <td>Wanindu Hasaranga</td>\n      <td>ALL-ROUNDER</td>\n      <td>1075.0</td>\n      <td>1397.5</td>\n      <td>Royal Challengers Bangalore</td>\n      <td>Royal Challengers Bangalore</td>\n      <td>sold</td>\n      <td>In Auction</td>\n      <td>100.0</td>\n    </tr>\n    <tr>\n      <th>171</th>\n      <td>Harshal Patel</td>\n      <td>ALL-ROUNDER</td>\n      <td>1075.0</td>\n      <td>1397.5</td>\n      <td>Royal Challengers Bangalore</td>\n      <td>Royal Challengers Bangalore</td>\n      <td>sold</td>\n      <td>In Auction</td>\n      <td>200.0</td>\n    </tr>\n    <tr>\n      <th>177</th>\n      <td>Shahbaz Ahamad</td>\n      <td>ALL-ROUNDER</td>\n      <td>240.0</td>\n      <td>312.0</td>\n      <td>Royal Challengers Bangalore</td>\n      <td>Royal Challengers Bangalore</td>\n      <td>sold</td>\n      <td>In Auction</td>\n      <td>30.0</td>\n    </tr>\n    <tr>\n      <th>181</th>\n      <td>Finn Allen</td>\n      <td>BATTER</td>\n      <td>80.0</td>\n      <td>104.0</td>\n      <td>Royal Challengers Bangalore</td>\n      <td>Royal Challengers Bangalore</td>\n      <td>sold</td>\n      <td>In Auction</td>\n      <td>50.0</td>\n    </tr>\n    <tr>\n      <th>185</th>\n      <td>Suyash Prabhudessai</td>\n      <td>ALL-ROUNDER</td>\n      <td>30.0</td>\n      <td>39.0</td>\n      <td>Royal Challengers Bangalore</td>\n      <td>Royal Challengers Bangalore</td>\n      <td>sold</td>\n      <td>In Auction</td>\n      <td>20.0</td>\n    </tr>\n    <tr>\n      <th>187</th>\n      <td>Akash Deep</td>\n      <td>BOWLER</td>\n      <td>20.0</td>\n      <td>26.0</td>\n      <td>Royal Challengers Bangalore</td>\n      <td>Royal Challengers Bangalore</td>\n      <td>sold</td>\n      <td>In Auction</td>\n      <td>20.0</td>\n    </tr>\n  </tbody>\n</table>\n</div>"
          },
          "metadata": {}
        }
      ]
    },
    {
      "cell_type": "code",
      "source": [
        "same_team[same_team.Curr_team=='Kolkata Knight Riders']"
      ],
      "metadata": {
        "execution": {
          "iopub.status.busy": "2023-09-08T13:16:12.032580Z",
          "iopub.execute_input": "2023-09-08T13:16:12.033085Z",
          "iopub.status.idle": "2023-09-08T13:16:12.055904Z",
          "shell.execute_reply.started": "2023-09-08T13:16:12.033036Z",
          "shell.execute_reply": "2023-09-08T13:16:12.054756Z"
        },
        "trusted": true,
        "id": "1jjWP4kUgYJY",
        "outputId": "9275f8df-160b-4d68-c624-e4fb664bc52e"
      },
      "execution_count": null,
      "outputs": [
        {
          "execution_count": 48,
          "output_type": "execute_result",
          "data": {
            "text/plain": "             Player          Type  Sold_for_lakh  Cost_in_dollars  \\\n73      Nitish Rana   ALL-ROUNDER          800.0           1040.0   \n76      Pat Cummins   ALL-ROUNDER          725.0            942.5   \n77      Shivam Mavi   ALL-ROUNDER          725.0            942.5   \n81      Tim Southee        BOWLER          150.0            195.0   \n85  Sheldon Jackson  WICKETKEEPER           60.0             78.0   \n\n                Prev_team              Curr_team status   retention  \\\n73  Kolkata Knight Riders  Kolkata Knight Riders   sold  In Auction   \n76  Kolkata Knight Riders  Kolkata Knight Riders   sold  In Auction   \n77  Kolkata Knight Riders  Kolkata Knight Riders   sold  In Auction   \n81  Kolkata Knight Riders  Kolkata Knight Riders   sold  In Auction   \n85  Kolkata Knight Riders  Kolkata Knight Riders   sold  In Auction   \n\n    base_price  \n73       100.0  \n76       200.0  \n77        40.0  \n81       150.0  \n85        30.0  ",
            "text/html": "<div>\n<style scoped>\n    .dataframe tbody tr th:only-of-type {\n        vertical-align: middle;\n    }\n\n    .dataframe tbody tr th {\n        vertical-align: top;\n    }\n\n    .dataframe thead th {\n        text-align: right;\n    }\n</style>\n<table border=\"1\" class=\"dataframe\">\n  <thead>\n    <tr style=\"text-align: right;\">\n      <th></th>\n      <th>Player</th>\n      <th>Type</th>\n      <th>Sold_for_lakh</th>\n      <th>Cost_in_dollars</th>\n      <th>Prev_team</th>\n      <th>Curr_team</th>\n      <th>status</th>\n      <th>retention</th>\n      <th>base_price</th>\n    </tr>\n  </thead>\n  <tbody>\n    <tr>\n      <th>73</th>\n      <td>Nitish Rana</td>\n      <td>ALL-ROUNDER</td>\n      <td>800.0</td>\n      <td>1040.0</td>\n      <td>Kolkata Knight Riders</td>\n      <td>Kolkata Knight Riders</td>\n      <td>sold</td>\n      <td>In Auction</td>\n      <td>100.0</td>\n    </tr>\n    <tr>\n      <th>76</th>\n      <td>Pat Cummins</td>\n      <td>ALL-ROUNDER</td>\n      <td>725.0</td>\n      <td>942.5</td>\n      <td>Kolkata Knight Riders</td>\n      <td>Kolkata Knight Riders</td>\n      <td>sold</td>\n      <td>In Auction</td>\n      <td>200.0</td>\n    </tr>\n    <tr>\n      <th>77</th>\n      <td>Shivam Mavi</td>\n      <td>ALL-ROUNDER</td>\n      <td>725.0</td>\n      <td>942.5</td>\n      <td>Kolkata Knight Riders</td>\n      <td>Kolkata Knight Riders</td>\n      <td>sold</td>\n      <td>In Auction</td>\n      <td>40.0</td>\n    </tr>\n    <tr>\n      <th>81</th>\n      <td>Tim Southee</td>\n      <td>BOWLER</td>\n      <td>150.0</td>\n      <td>195.0</td>\n      <td>Kolkata Knight Riders</td>\n      <td>Kolkata Knight Riders</td>\n      <td>sold</td>\n      <td>In Auction</td>\n      <td>150.0</td>\n    </tr>\n    <tr>\n      <th>85</th>\n      <td>Sheldon Jackson</td>\n      <td>WICKETKEEPER</td>\n      <td>60.0</td>\n      <td>78.0</td>\n      <td>Kolkata Knight Riders</td>\n      <td>Kolkata Knight Riders</td>\n      <td>sold</td>\n      <td>In Auction</td>\n      <td>30.0</td>\n    </tr>\n  </tbody>\n</table>\n</div>"
          },
          "metadata": {}
        }
      ]
    },
    {
      "cell_type": "code",
      "source": [
        "# Let's Visualize this team wise\n",
        "\n",
        "plt.figure(figsize=(10,8))\n",
        "sns.countplot(same_team['Curr_team'])\n",
        "plt.title('Players Who brough by their 2021 teams in Auction ')\n",
        "plt.xlabel('Name of Team')\n",
        "plt.ylabel('Number of Player')\n",
        "plt.xticks(rotation = 90)\n",
        "plt.grid(axis='y')\n",
        "plt.plot()"
      ],
      "metadata": {
        "execution": {
          "iopub.status.busy": "2023-09-08T13:16:12.057431Z",
          "iopub.execute_input": "2023-09-08T13:16:12.057803Z",
          "iopub.status.idle": "2023-09-08T13:16:12.375234Z",
          "shell.execute_reply.started": "2023-09-08T13:16:12.057770Z",
          "shell.execute_reply": "2023-09-08T13:16:12.374003Z"
        },
        "trusted": true,
        "id": "ehL-z7gxgYJY",
        "outputId": "d3120ccb-2122-45f1-a018-e5126d22e1f2"
      },
      "execution_count": null,
      "outputs": [
        {
          "execution_count": 49,
          "output_type": "execute_result",
          "data": {
            "text/plain": "[]"
          },
          "metadata": {}
        },
        {
          "output_type": "display_data",
          "data": {
            "text/plain": "<Figure size 720x576 with 1 Axes>",
            "image/png": "[encoded data removed]"
          },
          "metadata": {
            "needs_background": "light"
          }
        }
      ]
    },
    {
      "cell_type": "code",
      "source": [
        "# 8. Number of players in each team based on thier roles\n",
        "\n",
        "plt.figure(figsize=(20,10))\n",
        "fig = sns.countplot(df[df['Curr_team']!='Unsold']['Curr_team'],hue=df['Type'])\n",
        "plt.title('Players in Each Team')\n",
        "plt.xlabel('Name of Team')\n",
        "plt.ylabel('Number of Player')\n",
        "\n",
        "\n",
        "plt.xticks(rotation = 60)\n",
        "\n",
        "for p in fig.patches:\n",
        "    fig.annotate(format(p.get_height(), '.0f'), (p.get_x() + p.get_width()/2., p.get_height()),\n",
        "                 ha = 'center', va = 'center', xytext = (0, 4), textcoords = 'offset points')"
      ],
      "metadata": {
        "execution": {
          "iopub.status.busy": "2023-09-08T13:16:12.377139Z",
          "iopub.execute_input": "2023-09-08T13:16:12.377553Z",
          "iopub.status.idle": "2023-09-08T13:16:13.164999Z",
          "shell.execute_reply.started": "2023-09-08T13:16:12.377517Z",
          "shell.execute_reply": "2023-09-08T13:16:13.163581Z"
        },
        "trusted": true,
        "id": "A0fsvxEHgYJY",
        "outputId": "2bc1e9b7-a0dd-4049-eecb-10fa789d92de"
      },
      "execution_count": null,
      "outputs": [
        {
          "output_type": "display_data",
          "data": {
            "text/plain": "<Figure size 1440x720 with 1 Axes>",
            "image/png": "[encoded data removed]"
          },
          "metadata": {
            "needs_background": "light"
          }
        }
      ]
    },
    {
      "cell_type": "code",
      "source": [
        "# 9. Highest Bid(successful ) by each team\n",
        "\n",
        "df[df['retention']=='In Auction'].groupby(['Curr_team'])['Sold_for_lakh'].max()[:-1].sort_values(ascending = False)"
      ],
      "metadata": {
        "execution": {
          "iopub.status.busy": "2023-09-08T13:16:13.166943Z",
          "iopub.execute_input": "2023-09-08T13:16:13.167455Z",
          "iopub.status.idle": "2023-09-08T13:16:13.184265Z",
          "shell.execute_reply.started": "2023-09-08T13:16:13.167404Z",
          "shell.execute_reply": "2023-09-08T13:16:13.182759Z"
        },
        "trusted": true,
        "id": "W5BSCzUsgYJY",
        "outputId": "d5603974-7766-4ef4-b83c-9bd41f5377b7"
      },
      "execution_count": null,
      "outputs": [
        {
          "execution_count": 51,
          "output_type": "execute_result",
          "data": {
            "text/plain": "Curr_team\nMumbai Indians                 1525.0\nChennai Super Kings            1400.0\nKolkata Knight Riders          1225.0\nPunjab Kings                   1150.0\nDelhi Capitals                 1075.0\nRoyal Challengers Bangalore    1075.0\nSunrisers Hyderabad            1075.0\nGujarat Titans                 1000.0\nLucknow Super Giants           1000.0\nRajasthan Royals               1000.0\nName: Sold_for_lakh, dtype: float64"
          },
          "metadata": {}
        }
      ]
    },
    {
      "cell_type": "code",
      "source": [
        "# 10. Top Five Batsman picked from Auction\n",
        "\n",
        "df[(df['retention']=='In Auction') & (df['Type']=='BATTER')].sort_values(by='Sold_for_lakh', ascending = False).head(5)"
      ],
      "metadata": {
        "execution": {
          "iopub.status.busy": "2023-09-08T13:16:13.186244Z",
          "iopub.execute_input": "2023-09-08T13:16:13.186991Z",
          "iopub.status.idle": "2023-09-08T13:16:13.211714Z",
          "shell.execute_reply.started": "2023-09-08T13:16:13.186951Z",
          "shell.execute_reply": "2023-09-08T13:16:13.210291Z"
        },
        "trusted": true,
        "id": "e9ZtXlwhgYJZ",
        "outputId": "23504655-d1f7-4224-d5b7-f286ac9cda87"
      },
      "execution_count": null,
      "outputs": [
        {
          "execution_count": 52,
          "output_type": "execute_result",
          "data": {
            "text/plain": "               Player    Type  Sold_for_lakh  Cost_in_dollars  \\\n71       Shreyas Iyer  BATTER         1225.0           1592.5   \n193   Shimron Hetmyer  BATTER          850.0           1105.0   \n217    Rahul Tripathi  BATTER          850.0           1105.0   \n100    Shikhar Dhawan  BATTER          825.0           1072.5   \n195  Devdutt Padikkal  BATTER          775.0           1007.5   \n\n                       Prev_team              Curr_team status   retention  \\\n71                Delhi Capitals  Kolkata Knight Riders   sold  In Auction   \n193               Delhi Capitals       Rajasthan Royals   sold  In Auction   \n217        Kolkata Knight Riders    Sunrisers Hyderabad   sold  In Auction   \n100               Delhi Capitals           Punjab Kings   sold  In Auction   \n195  Royal Challengers Bangalore       Rajasthan Royals   sold  In Auction   \n\n     base_price  \n71        200.0  \n193       150.0  \n217        40.0  \n100       200.0  \n195       200.0  ",
            "text/html": "<div>\n<style scoped>\n    .dataframe tbody tr th:only-of-type {\n        vertical-align: middle;\n    }\n\n    .dataframe tbody tr th {\n        vertical-align: top;\n    }\n\n    .dataframe thead th {\n        text-align: right;\n    }\n</style>\n<table border=\"1\" class=\"dataframe\">\n  <thead>\n    <tr style=\"text-align: right;\">\n      <th></th>\n      <th>Player</th>\n      <th>Type</th>\n      <th>Sold_for_lakh</th>\n      <th>Cost_in_dollars</th>\n      <th>Prev_team</th>\n      <th>Curr_team</th>\n      <th>status</th>\n      <th>retention</th>\n      <th>base_price</th>\n    </tr>\n  </thead>\n  <tbody>\n    <tr>\n      <th>71</th>\n      <td>Shreyas Iyer</td>\n      <td>BATTER</td>\n      <td>1225.0</td>\n      <td>1592.5</td>\n      <td>Delhi Capitals</td>\n      <td>Kolkata Knight Riders</td>\n      <td>sold</td>\n      <td>In Auction</td>\n      <td>200.0</td>\n    </tr>\n    <tr>\n      <th>193</th>\n      <td>Shimron Hetmyer</td>\n      <td>BATTER</td>\n      <td>850.0</td>\n      <td>1105.0</td>\n      <td>Delhi Capitals</td>\n      <td>Rajasthan Royals</td>\n      <td>sold</td>\n      <td>In Auction</td>\n      <td>150.0</td>\n    </tr>\n    <tr>\n      <th>217</th>\n      <td>Rahul Tripathi</td>\n      <td>BATTER</td>\n      <td>850.0</td>\n      <td>1105.0</td>\n      <td>Kolkata Knight Riders</td>\n      <td>Sunrisers Hyderabad</td>\n      <td>sold</td>\n      <td>In Auction</td>\n      <td>40.0</td>\n    </tr>\n    <tr>\n      <th>100</th>\n      <td>Shikhar Dhawan</td>\n      <td>BATTER</td>\n      <td>825.0</td>\n      <td>1072.5</td>\n      <td>Delhi Capitals</td>\n      <td>Punjab Kings</td>\n      <td>sold</td>\n      <td>In Auction</td>\n      <td>200.0</td>\n    </tr>\n    <tr>\n      <th>195</th>\n      <td>Devdutt Padikkal</td>\n      <td>BATTER</td>\n      <td>775.0</td>\n      <td>1007.5</td>\n      <td>Royal Challengers Bangalore</td>\n      <td>Rajasthan Royals</td>\n      <td>sold</td>\n      <td>In Auction</td>\n      <td>200.0</td>\n    </tr>\n  </tbody>\n</table>\n</div>"
          },
          "metadata": {}
        }
      ]
    },
    {
      "cell_type": "code",
      "source": [
        "# 11. Highest Paid Retained players\n",
        "\n",
        "df[df['retention']=='Retained'].sort_values(by = 'Sold_for_lakh', ascending = False).head(5)"
      ],
      "metadata": {
        "execution": {
          "iopub.status.busy": "2023-09-08T13:16:13.213435Z",
          "iopub.execute_input": "2023-09-08T13:16:13.214114Z",
          "iopub.status.idle": "2023-09-08T13:16:13.238724Z",
          "shell.execute_reply.started": "2023-09-08T13:16:13.214076Z",
          "shell.execute_reply": "2023-09-08T13:16:13.237265Z"
        },
        "trusted": true,
        "id": "WY3n9Z07gYJZ",
        "outputId": "10f8f376-093a-49cf-f94a-ac1e40735e3d"
      },
      "execution_count": null,
      "outputs": [
        {
          "execution_count": 53,
          "output_type": "execute_result",
          "data": {
            "text/plain": "              Player          Type  Sold_for_lakh  Cost_in_dollars  \\\n22   Ravindra Jadeja   ALL-ROUNDER         1600.0           2080.0   \n47      Rishabh Pant  WICKETKEEPER         1600.0           2080.0   \n143     Rohit Sharma        BATTER         1600.0           2080.0   \n168      Virat Kohli        BATTER         1500.0           1950.0   \n214  Kane Williamson        BATTER         1400.0           1820.0   \n\n                       Prev_team                    Curr_team status  \\\n22           Chennai Super Kings          Chennai Super Kings   sold   \n47                Delhi Capitals               Delhi Capitals   sold   \n143               Mumbai Indians               Mumbai Indians   sold   \n168  Royal Challengers Bangalore  Royal Challengers Bangalore   sold   \n214          Sunrisers Hyderabad          Sunrisers Hyderabad   sold   \n\n    retention  base_price  \n22   Retained         0.0  \n47   Retained         0.0  \n143  Retained         0.0  \n168  Retained         0.0  \n214  Retained         0.0  ",
            "text/html": "<div>\n<style scoped>\n    .dataframe tbody tr th:only-of-type {\n        vertical-align: middle;\n    }\n\n    .dataframe tbody tr th {\n        vertical-align: top;\n    }\n\n    .dataframe thead th {\n        text-align: right;\n    }\n</style>\n<table border=\"1\" class=\"dataframe\">\n  <thead>\n    <tr style=\"text-align: right;\">\n      <th></th>\n      <th>Player</th>\n      <th>Type</th>\n      <th>Sold_for_lakh</th>\n      <th>Cost_in_dollars</th>\n      <th>Prev_team</th>\n      <th>Curr_team</th>\n      <th>status</th>\n      <th>retention</th>\n      <th>base_price</th>\n    </tr>\n  </thead>\n  <tbody>\n    <tr>\n      <th>22</th>\n      <td>Ravindra Jadeja</td>\n      <td>ALL-ROUNDER</td>\n      <td>1600.0</td>\n      <td>2080.0</td>\n      <td>Chennai Super Kings</td>\n      <td>Chennai Super Kings</td>\n      <td>sold</td>\n      <td>Retained</td>\n      <td>0.0</td>\n    </tr>\n    <tr>\n      <th>47</th>\n      <td>Rishabh Pant</td>\n      <td>WICKETKEEPER</td>\n      <td>1600.0</td>\n      <td>2080.0</td>\n      <td>Delhi Capitals</td>\n      <td>Delhi Capitals</td>\n      <td>sold</td>\n      <td>Retained</td>\n      <td>0.0</td>\n    </tr>\n    <tr>\n      <th>143</th>\n      <td>Rohit Sharma</td>\n      <td>BATTER</td>\n      <td>1600.0</td>\n      <td>2080.0</td>\n      <td>Mumbai Indians</td>\n      <td>Mumbai Indians</td>\n      <td>sold</td>\n      <td>Retained</td>\n      <td>0.0</td>\n    </tr>\n    <tr>\n      <th>168</th>\n      <td>Virat Kohli</td>\n      <td>BATTER</td>\n      <td>1500.0</td>\n      <td>1950.0</td>\n      <td>Royal Challengers Bangalore</td>\n      <td>Royal Challengers Bangalore</td>\n      <td>sold</td>\n      <td>Retained</td>\n      <td>0.0</td>\n    </tr>\n    <tr>\n      <th>214</th>\n      <td>Kane Williamson</td>\n      <td>BATTER</td>\n      <td>1400.0</td>\n      <td>1820.0</td>\n      <td>Sunrisers Hyderabad</td>\n      <td>Sunrisers Hyderabad</td>\n      <td>sold</td>\n      <td>Retained</td>\n      <td>0.0</td>\n    </tr>\n  </tbody>\n</table>\n</div>"
          },
          "metadata": {}
        }
      ]
    },
    {
      "cell_type": "code",
      "source": [
        "# 12. Amount Spent by each team in Auction\n",
        "\n",
        "amount_spent = df.groupby('Curr_team')['Sold_for_lakh'].sum()[:-1]\n",
        "amount_spent"
      ],
      "metadata": {
        "execution": {
          "iopub.status.busy": "2023-09-08T13:16:13.241016Z",
          "iopub.execute_input": "2023-09-08T13:16:13.241522Z",
          "iopub.status.idle": "2023-09-08T13:16:13.261493Z",
          "shell.execute_reply.started": "2023-09-08T13:16:13.241482Z",
          "shell.execute_reply": "2023-09-08T13:16:13.260314Z"
        },
        "trusted": true,
        "id": "O6PEklWqgYJZ",
        "outputId": "8c03a165-8aa5-4d7f-bce1-836e1601f215"
      },
      "execution_count": null,
      "outputs": [
        {
          "execution_count": 54,
          "output_type": "execute_result",
          "data": {
            "text/plain": "Curr_team\nChennai Super Kings            8705.0\nDelhi Capitals                 8640.0\nGujarat Titans                 8965.0\nKolkata Knight Riders          8155.0\nLucknow Super Giants           8940.0\nMumbai Indians                 8990.0\nPunjab Kings                   8455.0\nRajasthan Royals               8905.0\nRoyal Challengers Bangalore    8845.0\nSunrisers Hyderabad            8990.0\nName: Sold_for_lakh, dtype: float64"
          },
          "metadata": {}
        }
      ]
    },
    {
      "cell_type": "code",
      "source": [
        "plt.figure(figsize=(15,5))\n",
        "sns.barplot('Curr_team','Sold_for_lakh', data = df[df['Curr_team']!='Unsold'])\n",
        "plt.xticks(rotation=60)\n",
        "plt.ylabel('Ammount Spent')\n",
        "plt.show()"
      ],
      "metadata": {
        "execution": {
          "iopub.status.busy": "2023-09-08T13:16:13.263308Z",
          "iopub.execute_input": "2023-09-08T13:16:13.263750Z",
          "iopub.status.idle": "2023-09-08T13:16:13.901969Z",
          "shell.execute_reply.started": "2023-09-08T13:16:13.263715Z",
          "shell.execute_reply": "2023-09-08T13:16:13.901135Z"
        },
        "trusted": true,
        "id": "a2FdAgmQgYJZ",
        "outputId": "9606d116-e95b-446f-f15d-b204528328c5"
      },
      "execution_count": null,
      "outputs": [
        {
          "output_type": "display_data",
          "data": {
            "text/plain": "<Figure size 1080x360 with 1 Axes>",
            "image/png": "[encoded data removed]"
          },
          "metadata": {
            "needs_background": "light"
          }
        }
      ]
    },
    {
      "cell_type": "code",
      "source": [
        "# 13. List of players who Played IPL 2021 but went unsold in IPL 2022\n",
        "\n",
        "unsold_stars = df[(df.Prev_team != 'Not Participated in IPL 2021') & (df.Curr_team == 'Unsold')][['Player','Prev_team']]\n",
        "unsold_stars"
      ],
      "metadata": {
        "execution": {
          "iopub.status.busy": "2023-09-08T13:16:13.903358Z",
          "iopub.execute_input": "2023-09-08T13:16:13.904267Z",
          "iopub.status.idle": "2023-09-08T13:16:13.923358Z",
          "shell.execute_reply.started": "2023-09-08T13:16:13.904231Z",
          "shell.execute_reply": "2023-09-08T13:16:13.922156Z"
        },
        "trusted": true,
        "id": "QYwMH4IKgYJZ",
        "outputId": "c2d7f531-7c50-4192-80fb-6492a845ad9d"
      },
      "execution_count": null,
      "outputs": [
        {
          "execution_count": 56,
          "output_type": "execute_result",
          "data": {
            "text/plain": "                      Player                    Prev_team\n237             Suresh Raina          Chennai Super Kings\n238              Steve Smith               Delhi Capitals\n239          Shakib Al Hasan        Kolkata Knight Riders\n240              Amit Mishra               Delhi Capitals\n241              Adil Rashid                 Punjab Kings\n242              Imran Tahir          Chennai Super Kings\n243            Mujeeb Zadran          Sunrisers Hyderabad\n244               Adam Zampa  Royal Challengers Bangalore\n245            Rajat Patidar  Royal Challengers Bangalore\n246     Mohammed Azharuddeen  Royal Challengers Bangalore\n249             M. Siddharth               Delhi Capitals\n252              Dawid Malan                 Punjab Kings\n253              Eoin Morgan        Kolkata Knight Riders\n254        Cheteshwar Pujara          Chennai Super Kings\n255           Saurabh Tiwary               Mumbai Indians\n257            Ishant Sharma               Delhi Capitals\n259            Piyush Chawla               Mumbai Indians\n260           Tabraiz Shamsi             Rajasthan Royals\n262              Sachin Baby  Royal Challengers Bangalore\n267              Virat Singh          Sunrisers Hyderabad\n269              Akash Singh             Rajasthan Royals\n273               Chris Lynn               Mumbai Indians\n276            George Garton  Royal Challengers Bangalore\n288               Andrew Tye             Rajasthan Royals\n289          Sandeep Warrier        Kolkata Knight Riders\n311        Shreevats Goswami          Sunrisers Hyderabad\n313              Aditya Tare               Mumbai Indians\n317  Lukman Hussain Meriwala               Delhi Capitals\n325             Jalaj Saxena                 Punjab Kings\n337              Ben Cutting        Kolkata Knight Riders\n339         Moises Henriques                 Punjab Kings\n342         Scott Kuggeleijn  Royal Challengers Bangalore\n343               Pawan Negi        Kolkata Knight Riders\n346          Dhawal Kulkarni               Mumbai Indians\n348          Kane Richardson  Royal Challengers Bangalore\n404             Kedar Jadhav          Sunrisers Hyderabad\n429           Yudhvir Charak               Mumbai Indians\n447       Kulwant Khejroliya               Delhi Capitals\n535           Anirudha Joshi               Delhi Capitals\n623          Agnivesh Ayachi                 Punjab Kings",
            "text/html": "<div>\n<style scoped>\n    .dataframe tbody tr th:only-of-type {\n        vertical-align: middle;\n    }\n\n    .dataframe tbody tr th {\n        vertical-align: top;\n    }\n\n    .dataframe thead th {\n        text-align: right;\n    }\n</style>\n<table border=\"1\" class=\"dataframe\">\n  <thead>\n    <tr style=\"text-align: right;\">\n      <th></th>\n      <th>Player</th>\n      <th>Prev_team</th>\n    </tr>\n  </thead>\n  <tbody>\n    <tr>\n      <th>237</th>\n      <td>Suresh Raina</td>\n      <td>Chennai Super Kings</td>\n    </tr>\n    <tr>\n      <th>238</th>\n      <td>Steve Smith</td>\n      <td>Delhi Capitals</td>\n    </tr>\n    <tr>\n      <th>239</th>\n      <td>Shakib Al Hasan</td>\n      <td>Kolkata Knight Riders</td>\n    </tr>\n    <tr>\n      <th>240</th>\n      <td>Amit Mishra</td>\n      <td>Delhi Capitals</td>\n    </tr>\n    <tr>\n      <th>241</th>\n      <td>Adil Rashid</td>\n      <td>Punjab Kings</td>\n    </tr>\n    <tr>\n      <th>242</th>\n      <td>Imran Tahir</td>\n      <td>Chennai Super Kings</td>\n    </tr>\n    <tr>\n      <th>243</th>\n      <td>Mujeeb Zadran</td>\n      <td>Sunrisers Hyderabad</td>\n    </tr>\n    <tr>\n      <th>244</th>\n      <td>Adam Zampa</td>\n      <td>Royal Challengers Bangalore</td>\n    </tr>\n    <tr>\n      <th>245</th>\n      <td>Rajat Patidar</td>\n      <td>Royal Challengers Bangalore</td>\n    </tr>\n    <tr>\n      <th>246</th>\n      <td>Mohammed Azharuddeen</td>\n      <td>Royal Challengers Bangalore</td>\n    </tr>\n    <tr>\n      <th>249</th>\n      <td>M. Siddharth</td>\n      <td>Delhi Capitals</td>\n    </tr>\n    <tr>\n      <th>252</th>\n      <td>Dawid Malan</td>\n      <td>Punjab Kings</td>\n    </tr>\n    <tr>\n      <th>253</th>\n      <td>Eoin Morgan</td>\n      <td>Kolkata Knight Riders</td>\n    </tr>\n    <tr>\n      <th>254</th>\n      <td>Cheteshwar Pujara</td>\n      <td>Chennai Super Kings</td>\n    </tr>\n    <tr>\n      <th>255</th>\n      <td>Saurabh Tiwary</td>\n      <td>Mumbai Indians</td>\n    </tr>\n    <tr>\n      <th>257</th>\n      <td>Ishant Sharma</td>\n      <td>Delhi Capitals</td>\n    </tr>\n    <tr>\n      <th>259</th>\n      <td>Piyush Chawla</td>\n      <td>Mumbai Indians</td>\n    </tr>\n    <tr>\n      <th>260</th>\n      <td>Tabraiz Shamsi</td>\n      <td>Rajasthan Royals</td>\n    </tr>\n    <tr>\n      <th>262</th>\n      <td>Sachin Baby</td>\n      <td>Royal Challengers Bangalore</td>\n    </tr>\n    <tr>\n      <th>267</th>\n      <td>Virat Singh</td>\n      <td>Sunrisers Hyderabad</td>\n    </tr>\n    <tr>\n      <th>269</th>\n      <td>Akash Singh</td>\n      <td>Rajasthan Royals</td>\n    </tr>\n    <tr>\n      <th>273</th>\n      <td>Chris Lynn</td>\n      <td>Mumbai Indians</td>\n    </tr>\n    <tr>\n      <th>276</th>\n      <td>George Garton</td>\n      <td>Royal Challengers Bangalore</td>\n    </tr>\n    <tr>\n      <th>288</th>\n      <td>Andrew Tye</td>\n      <td>Rajasthan Royals</td>\n    </tr>\n    <tr>\n      <th>289</th>\n      <td>Sandeep Warrier</td>\n      <td>Kolkata Knight Riders</td>\n    </tr>\n    <tr>\n      <th>311</th>\n      <td>Shreevats Goswami</td>\n      <td>Sunrisers Hyderabad</td>\n    </tr>\n    <tr>\n      <th>313</th>\n      <td>Aditya Tare</td>\n      <td>Mumbai Indians</td>\n    </tr>\n    <tr>\n      <th>317</th>\n      <td>Lukman Hussain Meriwala</td>\n      <td>Delhi Capitals</td>\n    </tr>\n    <tr>\n      <th>325</th>\n      <td>Jalaj Saxena</td>\n      <td>Punjab Kings</td>\n    </tr>\n    <tr>\n      <th>337</th>\n      <td>Ben Cutting</td>\n      <td>Kolkata Knight Riders</td>\n    </tr>\n    <tr>\n      <th>339</th>\n      <td>Moises Henriques</td>\n      <td>Punjab Kings</td>\n    </tr>\n    <tr>\n      <th>342</th>\n      <td>Scott Kuggeleijn</td>\n      <td>Royal Challengers Bangalore</td>\n    </tr>\n    <tr>\n      <th>343</th>\n      <td>Pawan Negi</td>\n      <td>Kolkata Knight Riders</td>\n    </tr>\n    <tr>\n      <th>346</th>\n      <td>Dhawal Kulkarni</td>\n      <td>Mumbai Indians</td>\n    </tr>\n    <tr>\n      <th>348</th>\n      <td>Kane Richardson</td>\n      <td>Royal Challengers Bangalore</td>\n    </tr>\n    <tr>\n      <th>404</th>\n      <td>Kedar Jadhav</td>\n      <td>Sunrisers Hyderabad</td>\n    </tr>\n    <tr>\n      <th>429</th>\n      <td>Yudhvir Charak</td>\n      <td>Mumbai Indians</td>\n    </tr>\n    <tr>\n      <th>447</th>\n      <td>Kulwant Khejroliya</td>\n      <td>Delhi Capitals</td>\n    </tr>\n    <tr>\n      <th>535</th>\n      <td>Anirudha Joshi</td>\n      <td>Delhi Capitals</td>\n    </tr>\n    <tr>\n      <th>623</th>\n      <td>Agnivesh Ayachi</td>\n      <td>Punjab Kings</td>\n    </tr>\n  </tbody>\n</table>\n</div>"
          },
          "metadata": {}
        }
      ]
    },
    {
      "cell_type": "code",
      "source": [
        "unsold_stars = unsold_stars.groupby('Prev_team')['Player'].count()\n",
        "unsold_stars"
      ],
      "metadata": {
        "execution": {
          "iopub.status.busy": "2023-09-08T13:16:13.924977Z",
          "iopub.execute_input": "2023-09-08T13:16:13.925450Z",
          "iopub.status.idle": "2023-09-08T13:16:13.938066Z",
          "shell.execute_reply.started": "2023-09-08T13:16:13.925405Z",
          "shell.execute_reply": "2023-09-08T13:16:13.936979Z"
        },
        "trusted": true,
        "id": "4heIgKdQgYJa",
        "outputId": "b2de4ce8-4ac7-4376-ae24-4bdbbf01a09c"
      },
      "execution_count": null,
      "outputs": [
        {
          "execution_count": 57,
          "output_type": "execute_result",
          "data": {
            "text/plain": "Prev_team\nChennai Super Kings            3\nDelhi Capitals                 7\nKolkata Knight Riders          5\nMumbai Indians                 6\nPunjab Kings                   5\nRajasthan Royals               3\nRoyal Challengers Bangalore    7\nSunrisers Hyderabad            4\nName: Player, dtype: int64"
          },
          "metadata": {}
        }
      ]
    },
    {
      "cell_type": "code",
      "source": [
        "unsold_stars.plot(kind='bar',color = sns.color_palette(\"bright\"))"
      ],
      "metadata": {
        "execution": {
          "iopub.status.busy": "2023-09-08T13:16:13.939669Z",
          "iopub.execute_input": "2023-09-08T13:16:13.940065Z",
          "iopub.status.idle": "2023-09-08T13:16:14.227501Z",
          "shell.execute_reply.started": "2023-09-08T13:16:13.940022Z",
          "shell.execute_reply": "2023-09-08T13:16:14.226442Z"
        },
        "trusted": true,
        "id": "JxZ9UP0UgYJa",
        "outputId": "4e67424c-d8a0-4d5c-bd1f-77bef6aa273e"
      },
      "execution_count": null,
      "outputs": [
        {
          "execution_count": 58,
          "output_type": "execute_result",
          "data": {
            "text/plain": "<AxesSubplot:xlabel='Prev_team'>"
          },
          "metadata": {}
        },
        {
          "output_type": "display_data",
          "data": {
            "text/plain": "<Figure size 432x288 with 1 Axes>",
            "image/png": "[encoded data removed]"
          },
          "metadata": {
            "needs_background": "light"
          }
        }
      ]
    }
  ]
}